{
 "cells": [
  {
   "cell_type": "markdown",
   "metadata": {},
   "source": [
    "tutorial from pycon talk: \n",
    "https://fr.slideshare.net/shoheihido/cupy-a-numpycompatible-library-for-gpu"
   ]
  },
  {
   "cell_type": "code",
   "execution_count": 1,
   "metadata": {},
   "outputs": [],
   "source": [
    "import time, numpy, cupy"
   ]
  },
  {
   "cell_type": "code",
   "execution_count": 4,
   "metadata": {},
   "outputs": [],
   "source": [
    "def test(xp, size):\n",
    "    return xp.arange(size).reshape(1000, -1).T * 2"
   ]
  },
  {
   "cell_type": "code",
   "execution_count": 10,
   "metadata": {},
   "outputs": [
    {
     "name": "stdout",
     "output_type": "stream",
     "text": [
      "numpy 0.00047588348388671875\n",
      "cupy 0.0001633167266845703\n",
      "numpy 0.0002434253692626953\n",
      "cupy 9.512901306152344e-05\n",
      "numpy 0.002658367156982422\n",
      "cupy 0.00023818016052246094\n",
      "numpy 0.05458211898803711\n",
      "cupy 0.0005872249603271484\n",
      "numpy 0.5481986999511719\n",
      "cupy 0.009426355361938477\n"
     ]
    }
   ],
   "source": [
    "for i in range(5, 9):\n",
    "    for xp in [numpy, cupy]:\n",
    "        test(xp, 10 ** i)\n",
    "        cupy.cuda.runtime.deviceSynchronize()\n",
    "        t1 = time.time()\n",
    "        test(xp, 10 ** i)\n",
    "        cupy.cuda.runtime.deviceSynchronize()\n",
    "        t2 = time.time()\n",
    "        print(xp.__name__, t2-t1)"
   ]
  },
  {
   "cell_type": "code",
   "execution_count": 9,
   "metadata": {},
   "outputs": [
    {
     "name": "stdout",
     "output_type": "stream",
     "text": [
      "127 µs ± 2.68 µs per loop (mean ± std. dev. of 7 runs, 10000 loops each)\n"
     ]
    }
   ],
   "source": [
    "%timeit test(numpy, 10**5)"
   ]
  },
  {
   "cell_type": "code",
   "execution_count": null,
   "metadata": {},
   "outputs": [],
   "source": [
    "%timeit test(cupy, 10**4)"
   ]
  }
 ],
 "metadata": {
  "kernelspec": {
   "display_name": "Python 3",
   "language": "python",
   "name": "python3"
  },
  "language_info": {
   "codemirror_mode": {
    "name": "ipython",
    "version": 3
   },
   "file_extension": ".py",
   "mimetype": "text/x-python",
   "name": "python",
   "nbconvert_exporter": "python",
   "pygments_lexer": "ipython3",
   "version": "3.7.3"
  }
 },
 "nbformat": 4,
 "nbformat_minor": 4
}
