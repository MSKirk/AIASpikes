{
 "cells": [
  {
   "cell_type": "code",
   "execution_count": 24,
   "metadata": {},
   "outputs": [
    {
     "name": "stdout",
     "output_type": "stream",
     "text": [
      "numpy 1.18.1\n",
      "cupy 7.3.0\n",
      "cudf 0.13.0+0.ga2804c3.dirty\n"
     ]
    }
   ],
   "source": [
    "import numpy as np\n",
    "import cupy as cp\n",
    "from cupy.random import randint as RandInt\n",
    "import cudf\n",
    "print(\"numpy\", np.__version__)\n",
    "print(\"cupy\", cp.__version__)\n",
    "print(\"cudf\", cudf.__version__)"
   ]
  },
  {
   "cell_type": "code",
   "execution_count": 25,
   "metadata": {},
   "outputs": [],
   "source": [
    "# Cupy kernel from Brian @ NVIDIA\n",
    "kernel = cp.ElementwiseKernel('T num,  T x,  raw T y', 'bool z',\n",
    "    '''int t = 0; \n",
    "    z = 0;\n",
    "    #pragma unroll\n",
    "    for(t = 0; t < num; t++) z = z || (x == y[t]);''',\n",
    "    'my_kernel')"
   ]
  },
  {
   "cell_type": "code",
   "execution_count": 26,
   "metadata": {},
   "outputs": [],
   "source": [
    "# Generate Cupy arrays\n",
    "n1 = 1_000_000\n",
    "n2 = 400_000\n",
    "cp_x = RandInt(1, high=(4096*4096)-1, size=n1)\n",
    "cp_y = RandInt(1, high=(4096*4096)-1, size=n2)\n",
    "# Conver to Numpy\n",
    "np_x = cp.asnumpy(cp_x)\n",
    "np_y = cp.asnumpy(cp_y)\n",
    "# CUDF equivalent Series\n",
    "df_x = cudf.from_dlpack( cp.asfortranarray(cp_x).toDlpack())\n",
    "df_y = cudf.from_dlpack(cp.asfortranarray(cp_y).toDlpack())\n",
    "# Execute each algorithm once to avoid profiling bias later with python lazy-compilation scheme.\n",
    "needles1 = np.isin(np_x, np_y)\n",
    "needles2 = kernel(n2, cp_x, cp_y)\n",
    "needles3 = df_x.isin(df_y)"
   ]
  },
  {
   "cell_type": "markdown",
   "metadata": {},
   "source": [
    "Profiling Numpy"
   ]
  },
  {
   "cell_type": "code",
   "execution_count": 27,
   "metadata": {},
   "outputs": [
    {
     "name": "stdout",
     "output_type": "stream",
     "text": [
      "126 ms ± 3.29 ms per loop (mean ± std. dev. of 7 runs, 10 loops each)\n"
     ]
    }
   ],
   "source": [
    "%timeit _=np.isin(np_x, np_y)"
   ]
  },
  {
   "cell_type": "markdown",
   "metadata": {},
   "source": [
    "Profiling Cupy kernel from Brian"
   ]
  },
  {
   "cell_type": "code",
   "execution_count": 28,
   "metadata": {},
   "outputs": [
    {
     "name": "stdout",
     "output_type": "stream",
     "text": [
      "2.34 s ± 67.6 ms per loop (mean ± std. dev. of 7 runs, 1 loop each)\n"
     ]
    }
   ],
   "source": [
    "%%timeit\n",
    "arr1 = kernel(n2, cp_x, cp_y)\n",
    "# Back to host memory (eventually happens before writing to disk)\n",
    "arr1cpu = arr1.get()"
   ]
  },
  {
   "cell_type": "markdown",
   "metadata": {},
   "source": [
    "Profiling CUDF isin()"
   ]
  },
  {
   "cell_type": "code",
   "execution_count": 29,
   "metadata": {},
   "outputs": [
    {
     "name": "stdout",
     "output_type": "stream",
     "text": [
      "18.4 ms ± 420 µs per loop (mean ± std. dev. of 7 runs, 10 loops each)\n"
     ]
    }
   ],
   "source": [
    "%%timeit \n",
    "needles = df_x.isin(df_y)\n",
    "# Back to host memory (eventually happens before writing to disk)\n",
    "pd_needles = needles.to_pandas()"
   ]
  },
  {
   "cell_type": "code",
   "execution_count": null,
   "metadata": {},
   "outputs": [],
   "source": []
  }
 ],
 "metadata": {
  "kernelspec": {
   "display_name": "Python 3",
   "language": "python",
   "name": "python3"
  },
  "language_info": {
   "codemirror_mode": {
    "name": "ipython",
    "version": 3
   },
   "file_extension": ".py",
   "mimetype": "text/x-python",
   "name": "python",
   "nbconvert_exporter": "python",
   "pygments_lexer": "ipython3",
   "version": "3.7.6"
  }
 },
 "nbformat": 4,
 "nbformat_minor": 4
}
