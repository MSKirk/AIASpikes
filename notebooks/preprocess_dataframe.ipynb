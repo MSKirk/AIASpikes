{
 "cells": [
  {
   "cell_type": "code",
   "execution_count": 1,
   "metadata": {},
   "outputs": [],
   "source": [
    "import os\n",
    "import pandas as pd\n",
    "import numpy as np\n",
    "import fitsio\n",
    "import cudf\n",
    "from dask.distributed import Client\n",
    "from dask import delayed"
   ]
  },
  {
   "cell_type": "code",
   "execution_count": 157,
   "metadata": {},
   "outputs": [
    {
     "data": {
      "text/plain": [
       "11629115"
      ]
     },
     "execution_count": 157,
     "metadata": {},
     "output_type": "execute_result"
    }
   ],
   "source": [
    "data_dir = os.environ['SPIKESDATA']\n",
    "df = pd.read_parquet(os.path.join(data_dir, 'spikes_df_2010.parquet'), engine='pyarrow')\n",
    "# spikes_db2 = spikes_db.set_index(['GroupNumber', 'Time'])\n",
    "len(df)\n"
   ]
  },
  {
   "cell_type": "code",
   "execution_count": 203,
   "metadata": {},
   "outputs": [],
   "source": [
    "gdf = cudf.DataFrame.from_pandas(df)"
   ]
  },
  {
   "cell_type": "code",
   "execution_count": 149,
   "metadata": {},
   "outputs": [
    {
     "data": {
      "text/plain": [
       "(49804, 1539077)"
      ]
     },
     "execution_count": 149,
     "metadata": {},
     "output_type": "execute_result"
    }
   ],
   "source": [
    "df_1d = df[(df['Time'] > '2010-05-13 00:00:00') & (df['Time'] < '2010-05-14 00:00:00')]\n",
    "df_30d = df[(df['Time'] > '2010-05-13 00:00:00') & (df['Time'] < '2010-06-13 00:00:00')]\n",
    "len(df_1d),  len(df_30d)"
   ]
  },
  {
   "cell_type": "code",
   "execution_count": 201,
   "metadata": {},
   "outputs": [
    {
     "data": {
      "text/plain": [
       "1552.6544380187988"
      ]
     },
     "execution_count": 201,
     "metadata": {},
     "output_type": "execute_result"
    }
   ],
   "source": [
    "df.memory_usage(deep=True).sum() / (1024**2)"
   ]
  },
  {
   "cell_type": "code",
   "execution_count": 144,
   "metadata": {},
   "outputs": [
    {
     "data": {
      "text/plain": [
       "7.028678894042969"
      ]
     },
     "execution_count": 144,
     "metadata": {},
     "output_type": "execute_result"
    }
   ],
   "source": [
    "df_1d.memory_usage(deep=True).sum()/(1024**2)"
   ]
  },
  {
   "cell_type": "code",
   "execution_count": 96,
   "metadata": {},
   "outputs": [
    {
     "data": {
      "text/plain": [
       "215.60576248168945"
      ]
     },
     "execution_count": 96,
     "metadata": {},
     "output_type": "execute_result"
    }
   ],
   "source": [
    "df_30d.memory_usage(deep=True).sum()/(1024**2)"
   ]
  },
  {
   "cell_type": "code",
   "execution_count": 206,
   "metadata": {},
   "outputs": [
    {
     "name": "stdout",
     "output_type": "stream",
     "text": [
      "1.71 s ± 38.2 ms per loop (mean ± std. dev. of 7 runs, 1 loop each)\n"
     ]
    }
   ],
   "source": [
    "%timeit df2 = df.drop_duplicates(['GroupNumber', 'Wavelength'])"
   ]
  },
  {
   "cell_type": "code",
   "execution_count": 209,
   "metadata": {},
   "outputs": [
    {
     "name": "stdout",
     "output_type": "stream",
     "text": [
      "400 ms ± 2.06 ms per loop (mean ± std. dev. of 7 runs, 1 loop each)\n"
     ]
    }
   ],
   "source": [
    "%timeit gdf2 = gdf.drop_duplicates(['GroupNumber', 'Wavelength'])"
   ]
  },
  {
   "cell_type": "code",
   "execution_count": 156,
   "metadata": {},
   "outputs": [
    {
     "data": {
      "text/plain": [
       "15455"
      ]
     },
     "execution_count": 156,
     "metadata": {},
     "output_type": "execute_result"
    }
   ],
   "source": [
    "dropped = df[~df.index.isin(df2.index)]"
   ]
  },
  {
   "cell_type": "code",
   "execution_count": 158,
   "metadata": {},
   "outputs": [
    {
     "data": {
      "text/plain": [
       "(15455, 0.13289919310282855)"
      ]
     },
     "execution_count": 158,
     "metadata": {},
     "output_type": "execute_result"
    }
   ],
   "source": [
    "len(dropped), len(dropped)/len(df) * 100"
   ]
  },
  {
   "cell_type": "code",
   "execution_count": 154,
   "metadata": {},
   "outputs": [
    {
     "data": {
      "text/html": [
       "<div>\n",
       "<style scoped>\n",
       "    .dataframe tbody tr th:only-of-type {\n",
       "        vertical-align: middle;\n",
       "    }\n",
       "\n",
       "    .dataframe tbody tr th {\n",
       "        vertical-align: top;\n",
       "    }\n",
       "\n",
       "    .dataframe thead th {\n",
       "        text-align: right;\n",
       "    }\n",
       "</style>\n",
       "<table border=\"1\" class=\"dataframe\">\n",
       "  <thead>\n",
       "    <tr style=\"text-align: right;\">\n",
       "      <th></th>\n",
       "      <th>Path</th>\n",
       "      <th>Size</th>\n",
       "      <th>Time</th>\n",
       "      <th>Wavelength</th>\n",
       "      <th>GroupNumber</th>\n",
       "    </tr>\n",
       "  </thead>\n",
       "  <tbody>\n",
       "    <tr>\n",
       "      <th>292700</th>\n",
       "      <td>2010/05/18/2010-05-18T22:35:35.50Z_0171.spikes...</td>\n",
       "      <td>48960</td>\n",
       "      <td>2010-05-18 22:35:35.500000+00:00</td>\n",
       "      <td>171</td>\n",
       "      <td>42777</td>\n",
       "    </tr>\n",
       "    <tr>\n",
       "      <th>292705</th>\n",
       "      <td>2010/05/18/2010-05-18T22:35:46.21Z_0211.spikes...</td>\n",
       "      <td>100800</td>\n",
       "      <td>2010-05-18 22:35:46.210000+00:00</td>\n",
       "      <td>211</td>\n",
       "      <td>42778</td>\n",
       "    </tr>\n",
       "    <tr>\n",
       "      <th>292710</th>\n",
       "      <td>2010/05/18/2010-05-18T22:35:58.71Z_0304.spikes...</td>\n",
       "      <td>187200</td>\n",
       "      <td>2010-05-18 22:35:58.710000+00:00</td>\n",
       "      <td>304</td>\n",
       "      <td>42779</td>\n",
       "    </tr>\n",
       "    <tr>\n",
       "      <th>292711</th>\n",
       "      <td>2010/05/18/2010-05-18T22:35:59.57Z_0335.spikes...</td>\n",
       "      <td>334080</td>\n",
       "      <td>2010-05-18 22:35:59.570000+00:00</td>\n",
       "      <td>335</td>\n",
       "      <td>42779</td>\n",
       "    </tr>\n",
       "    <tr>\n",
       "      <th>292724</th>\n",
       "      <td>2010/05/18/2010-05-18T22:36:35.49Z_0171.spikes...</td>\n",
       "      <td>48960</td>\n",
       "      <td>2010-05-18 22:36:35.490000+00:00</td>\n",
       "      <td>171</td>\n",
       "      <td>42782</td>\n",
       "    </tr>\n",
       "  </tbody>\n",
       "</table>\n",
       "</div>"
      ],
      "text/plain": [
       "                                                     Path    Size  \\\n",
       "292700  2010/05/18/2010-05-18T22:35:35.50Z_0171.spikes...   48960   \n",
       "292705  2010/05/18/2010-05-18T22:35:46.21Z_0211.spikes...  100800   \n",
       "292710  2010/05/18/2010-05-18T22:35:58.71Z_0304.spikes...  187200   \n",
       "292711  2010/05/18/2010-05-18T22:35:59.57Z_0335.spikes...  334080   \n",
       "292724  2010/05/18/2010-05-18T22:36:35.49Z_0171.spikes...   48960   \n",
       "\n",
       "                                   Time  Wavelength  GroupNumber  \n",
       "292700 2010-05-18 22:35:35.500000+00:00         171        42777  \n",
       "292705 2010-05-18 22:35:46.210000+00:00         211        42778  \n",
       "292710 2010-05-18 22:35:58.710000+00:00         304        42779  \n",
       "292711 2010-05-18 22:35:59.570000+00:00         335        42779  \n",
       "292724 2010-05-18 22:36:35.490000+00:00         171        42782  "
      ]
     },
     "execution_count": 154,
     "metadata": {},
     "output_type": "execute_result"
    }
   ],
   "source": [
    "dropped.head()"
   ]
  },
  {
   "cell_type": "code",
   "execution_count": 155,
   "metadata": {},
   "outputs": [
    {
     "data": {
      "text/html": [
       "<div>\n",
       "<style scoped>\n",
       "    .dataframe tbody tr th:only-of-type {\n",
       "        vertical-align: middle;\n",
       "    }\n",
       "\n",
       "    .dataframe tbody tr th {\n",
       "        vertical-align: top;\n",
       "    }\n",
       "\n",
       "    .dataframe thead th {\n",
       "        text-align: right;\n",
       "    }\n",
       "</style>\n",
       "<table border=\"1\" class=\"dataframe\">\n",
       "  <thead>\n",
       "    <tr style=\"text-align: right;\">\n",
       "      <th></th>\n",
       "      <th>Path</th>\n",
       "      <th>Size</th>\n",
       "      <th>Time</th>\n",
       "      <th>Wavelength</th>\n",
       "      <th>GroupNumber</th>\n",
       "    </tr>\n",
       "  </thead>\n",
       "  <tbody>\n",
       "    <tr>\n",
       "      <th>292696</th>\n",
       "      <td>2010/05/18/2010-05-18T22:35:25.47Z_0171.spikes...</td>\n",
       "      <td>51840</td>\n",
       "      <td>2010-05-18 22:35:25.470000+00:00</td>\n",
       "      <td>171</td>\n",
       "      <td>42777</td>\n",
       "    </tr>\n",
       "    <tr>\n",
       "      <th>292697</th>\n",
       "      <td>2010/05/18/2010-05-18T22:35:26.21Z_0211.spikes...</td>\n",
       "      <td>100800</td>\n",
       "      <td>2010-05-18 22:35:26.210000+00:00</td>\n",
       "      <td>211</td>\n",
       "      <td>42777</td>\n",
       "    </tr>\n",
       "    <tr>\n",
       "      <th>292698</th>\n",
       "      <td>2010/05/18/2010-05-18T22:35:28.71Z_0304.spikes...</td>\n",
       "      <td>184320</td>\n",
       "      <td>2010-05-18 22:35:28.710000+00:00</td>\n",
       "      <td>304</td>\n",
       "      <td>42777</td>\n",
       "    </tr>\n",
       "    <tr>\n",
       "      <th>292699</th>\n",
       "      <td>2010/05/18/2010-05-18T22:35:29.58Z_0335.spikes...</td>\n",
       "      <td>331200</td>\n",
       "      <td>2010-05-18 22:35:29.580000+00:00</td>\n",
       "      <td>335</td>\n",
       "      <td>42777</td>\n",
       "    </tr>\n",
       "    <tr>\n",
       "      <th>292700</th>\n",
       "      <td>2010/05/18/2010-05-18T22:35:35.50Z_0171.spikes...</td>\n",
       "      <td>48960</td>\n",
       "      <td>2010-05-18 22:35:35.500000+00:00</td>\n",
       "      <td>171</td>\n",
       "      <td>42777</td>\n",
       "    </tr>\n",
       "  </tbody>\n",
       "</table>\n",
       "</div>"
      ],
      "text/plain": [
       "                                                     Path    Size  \\\n",
       "292696  2010/05/18/2010-05-18T22:35:25.47Z_0171.spikes...   51840   \n",
       "292697  2010/05/18/2010-05-18T22:35:26.21Z_0211.spikes...  100800   \n",
       "292698  2010/05/18/2010-05-18T22:35:28.71Z_0304.spikes...  184320   \n",
       "292699  2010/05/18/2010-05-18T22:35:29.58Z_0335.spikes...  331200   \n",
       "292700  2010/05/18/2010-05-18T22:35:35.50Z_0171.spikes...   48960   \n",
       "\n",
       "                                   Time  Wavelength  GroupNumber  \n",
       "292696 2010-05-18 22:35:25.470000+00:00         171        42777  \n",
       "292697 2010-05-18 22:35:26.210000+00:00         211        42777  \n",
       "292698 2010-05-18 22:35:28.710000+00:00         304        42777  \n",
       "292699 2010-05-18 22:35:29.580000+00:00         335        42777  \n",
       "292700 2010-05-18 22:35:35.500000+00:00         171        42777  "
      ]
     },
     "execution_count": 155,
     "metadata": {},
     "output_type": "execute_result"
    }
   ],
   "source": [
    "df.loc[df['GroupNumber']==42777]"
   ]
  },
  {
   "cell_type": "code",
   "execution_count": 198,
   "metadata": {},
   "outputs": [
    {
     "name": "stdout",
     "output_type": "stream",
     "text": [
      "323 ms ± 2.62 ms per loop (mean ± std. dev. of 7 runs, 1 loop each)\n"
     ]
    }
   ],
   "source": [
    "%timeit mask_incomplete = df2.groupby('GroupNumber')['Wavelength'].count() != 7"
   ]
  },
  {
   "cell_type": "code",
   "execution_count": 212,
   "metadata": {},
   "outputs": [],
   "source": [
    "incomplete_groups = mask_incomplete[mask_incomplete].index.values"
   ]
  },
  {
   "cell_type": "code",
   "execution_count": 213,
   "metadata": {},
   "outputs": [
    {
     "data": {
      "text/plain": [
       "array([   6698,    6783,   20125, ..., 1669502, 1676697, 1676702])"
      ]
     },
     "execution_count": 213,
     "metadata": {},
     "output_type": "execute_result"
    }
   ],
   "source": [
    "incomplete_groups"
   ]
  },
  {
   "cell_type": "code",
   "execution_count": 214,
   "metadata": {},
   "outputs": [],
   "source": [
    "incomplete_idx = df2.loc[df2['GroupNumber'].isin(incomplete_groups)].index"
   ]
  },
  {
   "cell_type": "code",
   "execution_count": 215,
   "metadata": {},
   "outputs": [],
   "source": [
    "df3 = df2.drop(incomplete_idx)"
   ]
  },
  {
   "cell_type": "code",
   "execution_count": 218,
   "metadata": {},
   "outputs": [
    {
     "data": {
      "text/html": [
       "<div>\n",
       "<style scoped>\n",
       "    .dataframe tbody tr th:only-of-type {\n",
       "        vertical-align: middle;\n",
       "    }\n",
       "\n",
       "    .dataframe tbody tr th {\n",
       "        vertical-align: top;\n",
       "    }\n",
       "\n",
       "    .dataframe thead th {\n",
       "        text-align: right;\n",
       "    }\n",
       "</style>\n",
       "<table border=\"1\" class=\"dataframe\">\n",
       "  <thead>\n",
       "    <tr style=\"text-align: right;\">\n",
       "      <th></th>\n",
       "      <th>Path</th>\n",
       "      <th>Size</th>\n",
       "      <th>Time</th>\n",
       "      <th>Wavelength</th>\n",
       "      <th>GroupNumber</th>\n",
       "    </tr>\n",
       "  </thead>\n",
       "  <tbody>\n",
       "    <tr>\n",
       "      <th>0</th>\n",
       "      <td>2010/05/13/2010-05-13T00:00:02.09Z_0193.spikes...</td>\n",
       "      <td>106560</td>\n",
       "      <td>2010-05-13 00:00:02.090000+00:00</td>\n",
       "      <td>193</td>\n",
       "      <td>0</td>\n",
       "    </tr>\n",
       "    <tr>\n",
       "      <th>1</th>\n",
       "      <td>2010/05/13/2010-05-13T00:00:03.57Z_0094.spikes...</td>\n",
       "      <td>103680</td>\n",
       "      <td>2010-05-13 00:00:03.570000+00:00</td>\n",
       "      <td>94</td>\n",
       "      <td>0</td>\n",
       "    </tr>\n",
       "    <tr>\n",
       "      <th>2</th>\n",
       "      <td>2010/05/13/2010-05-13T00:00:05.07Z_0335.spikes...</td>\n",
       "      <td>126720</td>\n",
       "      <td>2010-05-13 00:00:05.070000+00:00</td>\n",
       "      <td>335</td>\n",
       "      <td>0</td>\n",
       "    </tr>\n",
       "    <tr>\n",
       "      <th>3</th>\n",
       "      <td>2010/05/13/2010-05-13T00:00:06.58Z_0171.spikes...</td>\n",
       "      <td>40320</td>\n",
       "      <td>2010-05-13 00:00:06.580000+00:00</td>\n",
       "      <td>171</td>\n",
       "      <td>0</td>\n",
       "    </tr>\n",
       "    <tr>\n",
       "      <th>4</th>\n",
       "      <td>2010/05/13/2010-05-13T00:00:08.08Z_0211.spikes...</td>\n",
       "      <td>60480</td>\n",
       "      <td>2010-05-13 00:00:08.080000+00:00</td>\n",
       "      <td>211</td>\n",
       "      <td>0</td>\n",
       "    </tr>\n",
       "  </tbody>\n",
       "</table>\n",
       "</div>"
      ],
      "text/plain": [
       "                                                Path    Size  \\\n",
       "0  2010/05/13/2010-05-13T00:00:02.09Z_0193.spikes...  106560   \n",
       "1  2010/05/13/2010-05-13T00:00:03.57Z_0094.spikes...  103680   \n",
       "2  2010/05/13/2010-05-13T00:00:05.07Z_0335.spikes...  126720   \n",
       "3  2010/05/13/2010-05-13T00:00:06.58Z_0171.spikes...   40320   \n",
       "4  2010/05/13/2010-05-13T00:00:08.08Z_0211.spikes...   60480   \n",
       "\n",
       "                              Time  Wavelength  GroupNumber  \n",
       "0 2010-05-13 00:00:02.090000+00:00         193            0  \n",
       "1 2010-05-13 00:00:03.570000+00:00          94            0  \n",
       "2 2010-05-13 00:00:05.070000+00:00         335            0  \n",
       "3 2010-05-13 00:00:06.580000+00:00         171            0  \n",
       "4 2010-05-13 00:00:08.080000+00:00         211            0  "
      ]
     },
     "execution_count": 218,
     "metadata": {},
     "output_type": "execute_result"
    }
   ],
   "source": [
    "df3.head()"
   ]
  },
  {
   "cell_type": "code",
   "execution_count": 217,
   "metadata": {},
   "outputs": [
    {
     "data": {
      "text/plain": [
       "11442690"
      ]
     },
     "execution_count": 217,
     "metadata": {},
     "output_type": "execute_result"
    }
   ],
   "source": [
    "len(df3)"
   ]
  },
  {
   "cell_type": "code",
   "execution_count": 216,
   "metadata": {},
   "outputs": [
    {
     "data": {
      "text/plain": [
       "1.6030884551403957"
      ]
     },
     "execution_count": 216,
     "metadata": {},
     "output_type": "execute_result"
    }
   ],
   "source": [
    "(len(df) - len(df3))/len(df) * 100"
   ]
  },
  {
   "cell_type": "code",
   "execution_count": 140,
   "metadata": {},
   "outputs": [
    {
     "name": "stdout",
     "output_type": "stream",
     "text": [
      "101 ms ± 244 µs per loop (mean ± std. dev. of 7 runs, 10 loops each)\n"
     ]
    }
   ],
   "source": [
    "%timeit dup30d = df_30d.groupby('GroupNumber')['Wavelength'].nunique() != 7"
   ]
  },
  {
   "cell_type": "code",
   "execution_count": 141,
   "metadata": {},
   "outputs": [
    {
     "name": "stdout",
     "output_type": "stream",
     "text": [
      "141 ms ± 614 µs per loop (mean ± std. dev. of 7 runs, 10 loops each)\n"
     ]
    }
   ],
   "source": [
    "%timeit dup30d = df_30d.drop_duplicates(['GroupNumber', 'Wavelength']).groupby('GroupNumber')['Wavelength'].count() !=7"
   ]
  },
  {
   "cell_type": "code",
   "execution_count": 105,
   "metadata": {},
   "outputs": [],
   "source": [
    "gdf_1d = cudf.DataFrame.from_pandas(df_1d)"
   ]
  },
  {
   "cell_type": "code",
   "execution_count": 106,
   "metadata": {},
   "outputs": [],
   "source": [
    "gdf_30d = cudf.DataFrame.from_pandas(df_30d)"
   ]
  },
  {
   "cell_type": "code",
   "execution_count": 136,
   "metadata": {},
   "outputs": [],
   "source": [
    "dup1d = gdf_1d.drop_duplicates(['GroupNumber', 'Wavelength']).groupby('GroupNumber')['Wavelength'].count() !=7"
   ]
  },
  {
   "cell_type": "code",
   "execution_count": 139,
   "metadata": {},
   "outputs": [
    {
     "name": "stdout",
     "output_type": "stream",
     "text": [
      "67.1 ms ± 181 µs per loop (mean ± std. dev. of 7 runs, 10 loops each)\n"
     ]
    }
   ],
   "source": [
    "%timeit dup30d = gdf_30d.drop_duplicates(['GroupNumber', 'Wavelength']).groupby('GroupNumber')['Wavelength'].count() !=7"
   ]
  },
  {
   "cell_type": "code",
   "execution_count": 145,
   "metadata": {},
   "outputs": [],
   "source": [
    "u_gdf30d = gdf_30d.drop_duplicates(['GroupNumber', 'Wavelength'])"
   ]
  },
  {
   "cell_type": "code",
   "execution_count": 199,
   "metadata": {},
   "outputs": [
    {
     "ename": "NameError",
     "evalue": "name 'gdf' is not defined",
     "output_type": "error",
     "traceback": [
      "\u001b[0;31m---------------------------------------------------------------------------\u001b[0m",
      "\u001b[0;31mNameError\u001b[0m                                 Traceback (most recent call last)",
      "\u001b[0;32m<ipython-input-199-697d2ff382dc>\u001b[0m in \u001b[0;36m<module>\u001b[0;34m\u001b[0m\n\u001b[0;32m----> 1\u001b[0;31m \u001b[0mgdf\u001b[0m\u001b[0;34m.\u001b[0m\u001b[0mhead\u001b[0m\u001b[0;34m(\u001b[0m\u001b[0;34m)\u001b[0m\u001b[0;34m\u001b[0m\u001b[0;34m\u001b[0m\u001b[0m\n\u001b[0m",
      "\u001b[0;31mNameError\u001b[0m: name 'gdf' is not defined"
     ]
    }
   ],
   "source": []
  },
  {
   "cell_type": "markdown",
   "metadata": {},
   "source": [
    "### Get the filepaths (typically 7) for a given group"
   ]
  },
  {
   "cell_type": "code",
   "execution_count": 4,
   "metadata": {},
   "outputs": [
    {
     "data": {
      "text/plain": [
       "(16777216, 9)"
      ]
     },
     "execution_count": 4,
     "metadata": {},
     "output_type": "execute_result"
    }
   ],
   "source": [
    "################################################################################################\n",
    "# Pre-compute the 8-connectivity lookup table. This will be shared across parallel workers.\n",
    "################################################################################################\n",
    "# List of relative 2D coordinates for 8-neighbour connectiviy (9-element list). 1st one is the origin pixel.\n",
    "coords_8nb = np.array([[0, 0], [-1, 0], [-1, -1], [0, -1], [1, -1], [1, 0], [1, 1], [0, 1], [-1, 1]])\n",
    "# Array of 2D coordinates for a 4096 x 4096 array. Matrix convention is kept. [rows, cols] = [y-axis, x-axis]\n",
    "ny, nx = [4096, 4096]\n",
    "coords_1d = np.arange(nx * ny)\n",
    "coordy, coordx = np.unravel_index(coords_1d, [ny, nx]) # also possible by raveling a meshgrid() output\n",
    "coords2d = np.array([coordy, coordx])\n",
    "# Create the array of 2D coordinates of 8-neighbours associated with each pixel.\n",
    "# pixel 0 has 8 neighbour + itself, pixel 1 has 8 neighbour + itself, etc...\n",
    "coords2d_8nb = coords2d[np.newaxis, ...] + coords_8nb[..., np.newaxis]\n",
    "# Handle off-edges coordinates by clipping to the edges, operation done in-place. Here, square detector assumed. Update\n",
    "# to per-axis clipping if that ever changes for another instrument.\n",
    "np.clip(coords2d_8nb, 0, nx-1, out=coords2d_8nb)\n",
    "# Convert to 1D coordinates.\n",
    "index_8nb = np.array([coords2d_8nb[i, 0, :] * nx + coords2d_8nb[i, 1, :] for i in range(len(coords_8nb))],\n",
    "                     dtype='int32', order='C').T\n",
    "index_8nb.shape"
   ]
  },
  {
   "cell_type": "code",
   "execution_count": 208,
   "metadata": {},
   "outputs": [
    {
     "name": "stdout",
     "output_type": "stream",
     "text": [
      "4.65 ms ± 16.6 µs per loop (mean ± std. dev. of 7 runs, 100 loops each)\n"
     ]
    }
   ],
   "source": [
    "group_n = 0\n",
    "fpaths = spikes_db2.loc[group_n]['Path'].values\n",
    "spikes_list = [fitsio.read(os.path.join(data_dir, f)) for f in fpaths]\n",
    "\n",
    "# nspikes = 0\n",
    "# for spikes in spikes_list:\n",
    "#     nspikes += spikes.shape[1]\n",
    "# print('\\ntotal spikes = ', nspikes)"
   ]
  },
  {
   "cell_type": "code",
   "execution_count": 218,
   "metadata": {},
   "outputs": [],
   "source": [
    "start_date = pd.Timestamp('2010-05-13 00:00:00')\n",
    "end_date = pd.Timestamp('2010-05-13 23:59:59')"
   ]
  },
  {
   "cell_type": "code",
   "execution_count": 206,
   "metadata": {},
   "outputs": [
    {
     "name": "stdout",
     "output_type": "stream",
     "text": [
      "878 ms ± 2.2 ms per loop (mean ± std. dev. of 7 runs, 1 loop each)\n"
     ]
    }
   ],
   "source": [
    "%timeit df0 = extract_all_coincidentals(spikes_list)"
   ]
  },
  {
   "cell_type": "code",
   "execution_count": 8,
   "metadata": {},
   "outputs": [
    {
     "name": "stdout",
     "output_type": "stream",
     "text": [
      "   coords  int1  int2  wref  w0  w1  w2  w3  w4  w5  w6\n",
      "0   18917   122    11     0   1   1   0   0   0   0   0\n",
      "1   19192   124     7     0   1   0   0   1   0   0   0\n",
      "2   23013    75    10     0   1   1   0   0   0   0   0\n",
      "3   23287   157     9     0   1   0   0   1   0   0   0\n",
      "4   27109    38     9     0   1   1   0   0   0   0   0\n",
      "16339\n"
     ]
    }
   ],
   "source": [
    "print(df0.head())\n",
    "print(len(df0))"
   ]
  }
 ],
 "metadata": {
  "kernelspec": {
   "display_name": "Python 3",
   "language": "python",
   "name": "python3"
  },
  "language_info": {
   "codemirror_mode": {
    "name": "ipython",
    "version": 3
   },
   "file_extension": ".py",
   "mimetype": "text/x-python",
   "name": "python",
   "nbconvert_exporter": "python",
   "pygments_lexer": "ipython3",
   "version": "3.7.3"
  }
 },
 "nbformat": 4,
 "nbformat_minor": 4
}
