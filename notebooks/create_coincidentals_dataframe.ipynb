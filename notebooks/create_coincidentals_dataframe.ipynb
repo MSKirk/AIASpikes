{
 "cells": [
  {
   "cell_type": "code",
   "execution_count": null,
   "metadata": {},
   "outputs": [],
   "source": [
    "import os\n",
    "import pandas as pd\n",
    "import numpy as np\n",
    "import fitsio\n",
    "from pathlib import Path, PurePath\n",
    "import cudf"
   ]
  },
  {
   "cell_type": "code",
   "execution_count": null,
   "metadata": {},
   "outputs": [],
   "source": [
    "def create_lookup_8nb(nx, ny):\n",
    "    \"\"\" Pre-compute the 8-connectivity lookup table. This will be shared across parallel workers.\n",
    "    :param nx:\n",
    "    :param ny:\n",
    "    :return:\n",
    "    \"\"\"\n",
    "    # List of relative 2D coordinates for 8-neighbour connectiviy (9-element list). 1st one is the origin pixel.\n",
    "    coords_8nb = np.array([[0, 0], [-1, 0], [-1, -1], [0, -1], [1, -1], [1, 0], [1, 1], [0, 1], [-1, 1]])\n",
    "    # Array of 2D coordinates for a 4096 x 4096 array. Matrix convention is kept. [rows, cols] = [y-axis, x-axis]\n",
    "    coords_1d = np.arange(nx * ny)\n",
    "    coordy, coordx = np.unravel_index(coords_1d, [ny, nx]) # also possible by raveling a meshgrid() output\n",
    "    coords2d = np.array([coordy, coordx])\n",
    "    # Create the array of 2D coordinates of 8-neighbours associated with each pixel.\n",
    "    # pixel 0 has 8 neighbour + itself, pixel 1 has 8 neighbour + itself, etc...\n",
    "    coords2d_8nb = coords2d[np.newaxis, ...] + coords_8nb[..., np.newaxis]\n",
    "    # Handle off-edges coordinates by clipping to the edges, operation done in-place. Here, square detector assumed.\n",
    "    # to per-axis clipping if that ever changes for another instrument.\n",
    "    np.clip(coords2d_8nb, 0, nx-1, out=coords2d_8nb)\n",
    "    # Convert to 1D coordinates.\n",
    "    lookup_coords = np.array([coords2d_8nb[i, 0, :] * nx + coords2d_8nb[i, 1, :] for i in range(len(coords_8nb))],\n",
    "                         dtype='int32', order='C').T\n",
    "    return lookup_coords\n",
    "\n",
    "\n",
    "def extract_coincidentals(spikes_list, idx):\n",
    "    # Spikes coordinates at given wavelength index\n",
    "    spikes_w = spikes_list[idx]\n",
    "    # Associated neighbour coordinates\n",
    "    nb_pixels = index_8nb[spikes_w[0, :], :]\n",
    "    # Sublist of spikes data that will excludes the one serving as template\n",
    "    spikes_sublist = spikes_list[:idx] + spikes_list[idx + 1:]\n",
    "    # Coincidental cross-referencing.\n",
    "    # mask_w_arr = np.array([np.isin(nb_pixels, index_8nb[spikes[0, :], :]).any(axis=1) for spikes in spikes_sublist])\n",
    "    mask_w_arr = np.array([np.isin(nb_pixels, spikes[0, :]).any(axis=1) for spikes in spikes_sublist])\n",
    "    select_pixels = mask_w_arr.any(axis=0)\n",
    "    coords_w = spikes_w[0, select_pixels]\n",
    "    w_tables = np.insert(mask_w_arr[:, select_pixels], idx, True, axis=0)\n",
    "    # Retrieve intensity values for the selected coordinates\n",
    "    intensities = spikes_w[1:, select_pixels]\n",
    "    arr_w = np.concatenate([coords_w[np.newaxis, ...], intensities, w_tables], axis=0)\n",
    "    arr_w = np.insert(arr_w, 3, idx, axis=0)\n",
    "\n",
    "    return arr_w\n",
    "\n",
    "\n",
    "def extract_coincidentals_gpu(spikes_list, idx):\n",
    "    # Spikes coordinates at given wavelength index\n",
    "    spikes_w = spikes_list[idx]\n",
    "    # Associated neighbour coordinates\n",
    "    nb_pixels = index_8nb[spikes_w[0, :], :]\n",
    "    # Sublist of spikes data that will excludes the one serving as template\n",
    "    spikes_sublist = spikes_list[:idx] + spikes_list[idx + 1:]\n",
    "    # Coincidental cross-referencing.\n",
    "    # mask_w_arr = np.array([np.isin(nb_pixels, index_8nb[spikes[0, :], :]).any(axis=1) for spikes in spikes_sublist])\n",
    "    mask_w_arr = np.array([np.isin(nb_pixels, spikes[0, :]).any(axis=1) for spikes in spikes_sublist])\n",
    "    select_pixels = mask_w_arr.any(axis=0)\n",
    "    coords_w = spikes_w[0, select_pixels]\n",
    "    w_tables = np.insert(mask_w_arr[:, select_pixels], idx, True, axis=0)\n",
    "    # Retrieve intensity values for the selected coordinates\n",
    "    intensities = spikes_w[1:, select_pixels]\n",
    "    arr_w = np.concatenate([coords_w[np.newaxis, ...], intensities, w_tables], axis=0)\n",
    "    arr_w = np.insert(arr_w, 3, idx, axis=0)\n",
    "\n",
    "    return arr_w\n",
    "\n",
    "\n",
    "def process_group(group_n):\n",
    "    fpaths = path_Series.loc[group_n]\n",
    "    spikes_list = [fitsio.read(os.path.join(os.environ['SPIKESDATA'], f)) for f in fpaths]\n",
    "    group_data = np.concatenate([extract_coincidentals(spikes_list, i) for i in range(7)], axis=1)\n",
    "    column_names = ['coords', 'int1', 'int2', 'wref', 'w0', 'w1', 'w2', 'w3', 'w4', 'w5', 'w6']\n",
    "    coincidental_spikes_df = pd.DataFrame(group_data.T, columns=column_names)\n",
    "    coincidental_spikes_df['GroupNumber'] = group_n\n",
    "    return coincidental_spikes_df\n",
    "\n",
    "\n",
    "def process_group_gpu(group_n):\n",
    "    fpaths = path_Series.loc[group_n]\n",
    "    spikes_list = [fitsio.read(os.path.join(os.environ['SPIKESDATA'], f)) for f in fpaths]\n",
    "    group_data = np.concatenate([extract_coincidentals(spikes_list, i) for i in range(7)], axis=1)\n",
    "    column_names = ['coords', 'int1', 'int2', 'wref', 'w0', 'w1', 'w2', 'w3', 'w4', 'w5', 'w6']\n",
    "    coincidental_spikes_df = pd.DataFrame(group_data.T, columns=column_names)\n",
    "    coincidental_spikes_df['GroupNumber'] = group_n\n",
    "    return coincidental_spikes_df"
   ]
  },
  {
   "cell_type": "code",
   "execution_count": null,
   "metadata": {},
   "outputs": [],
   "source": [
    "index_8nb = create_lookup_8nb(4096, 4096)"
   ]
  },
  {
   "cell_type": "code",
   "execution_count": null,
   "metadata": {},
   "outputs": [],
   "source": [
    "spikes_df = pd.read_parquet(os.path.join(os.environ['SPIKESDATA'], 'spikes_df_2010.parquet'),\n",
    "                                engine='pyarrow')"
   ]
  },
  {
   "cell_type": "code",
   "execution_count": null,
   "metadata": {},
   "outputs": [],
   "source": [
    "spikes_df2 = spikes_df.set_index(['GroupNumber', 'Time'])\n",
    "path_Series = spikes_df2['Path']"
   ]
  },
  {
   "cell_type": "code",
   "execution_count": null,
   "metadata": {},
   "outputs": [],
   "source": [
    "tintervals = pd.interval_range(start=pd.Timestamp('2010-06-13 00:00:00', tz='UTC'),\n",
    "                                   end=pd.Timestamp('2010-06-16 00:00:00', tz='UTC'),\n",
    "                                   freq='D', closed='left')\n",
    "\n",
    "tint = tintervals[0]"
   ]
  },
  {
   "cell_type": "code",
   "execution_count": null,
   "metadata": {},
   "outputs": [],
   "source": [
    "groups = spikes_df['GroupNumber'].loc[(spikes_df['Time'] >= tint.left) & (spikes_df['Time'] < tint.right)].unique()\n",
    "groups"
   ]
  },
  {
   "cell_type": "code",
   "execution_count": null,
   "metadata": {},
   "outputs": [],
   "source": [
    "%timeit group_df = process_group(groups[0])"
   ]
  },
  {
   "cell_type": "markdown",
   "metadata": {},
   "source": [
    "### Prototyping RAPIDS/CUDF-centric equivalent"
   ]
  },
  {
   "cell_type": "code",
   "execution_count": null,
   "metadata": {},
   "outputs": [],
   "source": [
    "group_n = groups[0]\n",
    "fpaths = path_Series.loc[group_n]\n",
    "spikes_list = [fitsio.read(os.path.join(os.environ['SPIKESDATA'], f)) for f in fpaths]"
   ]
  },
  {
   "cell_type": "code",
   "execution_count": null,
   "metadata": {},
   "outputs": [],
   "source": [
    "%timeit spikes_list = [fitsio.read(os.path.join(os.environ['SPIKESDATA'], f)) for f in fpaths]"
   ]
  },
  {
   "cell_type": "code",
   "execution_count": null,
   "metadata": {},
   "outputs": [],
   "source": [
    "# Send the CCD 8-connectivity lookup to a CUDF dataframe. Would be more straightforward to have a direct Numpy array -> CUDF Dataframe. CUDF Series has it. \n",
    "pd_temp = pd.DataFrame(index_8nb)\n",
    "cuindex_8nb = cudf.DataFrame.from_pandas(pd_temp)\n",
    "pd_temp.head()"
   ]
  },
  {
   "cell_type": "code",
   "execution_count": null,
   "metadata": {},
   "outputs": [],
   "source": [
    "# Make list of CUDF Series containing only the coordinates in each file, making 7 CUDF Series\n",
    "cuseries_ = [cudf.Series(spikes[0,:]) for spikes in spikes_list]\n",
    "cuseries_[0].head()"
   ]
  },
  {
   "cell_type": "code",
   "execution_count": null,
   "metadata": {},
   "outputs": [],
   "source": [
    "# Wavelength index. Start with the 1st one \n",
    "idx = 0"
   ]
  },
  {
   "cell_type": "code",
   "execution_count": null,
   "metadata": {},
   "outputs": [],
   "source": [
    "# Coordinates of the template wavelength. The template wavelength is the one that is compared against the 6 others for 8-connectivity spikes coordinates\n",
    "spikes_w = cuseries_[idx]\n",
    "# Sublist of spikes data that will excludes the one serving as template (we might need to include the template too for same-wavelength 8-connectivity)\n",
    "spikes_sublist = cuseries_[:idx] + cuseries_[idx + 1:]"
   ]
  },
  {
   "cell_type": "code",
   "execution_count": null,
   "metadata": {},
   "outputs": [],
   "source": [
    "# Associated neighbour coordinates - Need to happen in GPU as well. \n",
    "nb_pixels = cuindex_8nb.loc[spikes_w]\n",
    "nb_pixels.head()"
   ]
  },
  {
   "cell_type": "code",
   "execution_count": null,
   "metadata": {},
   "outputs": [],
   "source": [
    "nb_pixels_0 = nb_pixels[0]\n",
    "print(len(nb_pixels_0))\n",
    "nb_pixels_0.head()"
   ]
  },
  {
   "cell_type": "code",
   "execution_count": null,
   "metadata": {},
   "outputs": [],
   "source": [
    "# Coincidental spikes 8-connectivity search.\n",
    "%timeit mask_w01 = nb_pixels_0.isin(cuseries_[1])"
   ]
  },
  {
   "cell_type": "code",
   "execution_count": null,
   "metadata": {},
   "outputs": [],
   "source": [
    "arr0 = nb_pixels_0.to_array()\n",
    "arr01 = cuseries_[1].to_array()\n",
    "print(arr0.shape, arr01.shape)"
   ]
  },
  {
   "cell_type": "code",
   "execution_count": null,
   "metadata": {},
   "outputs": [],
   "source": [
    "%timeit np_mask = np.isin(arr0, arr01)"
   ]
  },
  {
   "cell_type": "code",
   "execution_count": null,
   "metadata": {},
   "outputs": [],
   "source": [
    "size1 = 1000\n",
    "size2 = 1500\n",
    "a = np.random.randint(0, high=4096, size=size1)\n",
    "b = np.random.randint(0, high=4096, size=size2)\n",
    "ca = cudf.Series(a)\n",
    "cb = cudf.Series(b)"
   ]
  },
  {
   "cell_type": "code",
   "execution_count": null,
   "metadata": {},
   "outputs": [],
   "source": [
    "%timeit ab = np.isin(a, b)"
   ]
  },
  {
   "cell_type": "code",
   "execution_count": null,
   "metadata": {},
   "outputs": [],
   "source": [
    "%timeit cab = ca.isin(cb)"
   ]
  },
  {
   "cell_type": "markdown",
   "metadata": {},
   "source": [
    "### Trying with apply_rows()"
   ]
  },
  {
   "cell_type": "code",
   "execution_count": null,
   "metadata": {},
   "outputs": [],
   "source": [
    "def kernel(in0, in1, in2, in3, in4, in5, in6, in7, in8, out1, kwarg1):\n",
    "    for i, (nb0, nb1, nb2, nb3, nb4, nb5, nb6, nb7, nb8) in enumerate(zip(in0, in1, in2, in3, in4, in5, in6, in7, in8)):\n",
    "        out1[i] = # huh?.... \n",
    "    "
   ]
  }
 ],
 "metadata": {
  "kernelspec": {
   "display_name": "Python 3",
   "language": "python",
   "name": "python3"
  },
  "language_info": {
   "codemirror_mode": {
    "name": "ipython",
    "version": 3
   },
   "file_extension": ".py",
   "mimetype": "text/x-python",
   "name": "python",
   "nbconvert_exporter": "python",
   "pygments_lexer": "ipython3",
   "version": "3.7.3"
  }
 },
 "nbformat": 4,
 "nbformat_minor": 4
}
