{
 "cells": [
  {
   "cell_type": "code",
   "execution_count": 1,
   "metadata": {},
   "outputs": [
    {
     "name": "stdout",
     "output_type": "stream",
     "text": [
      "numpy 1.18.1\n",
      "cupy 7.2.0\n"
     ]
    }
   ],
   "source": [
    "import numpy as np\n",
    "import cupy as cp\n",
    "from cupy.random import randint as RandInt\n",
    "print(\"numpy\", np.__version__)\n",
    "print(\"cupy\", cp.__version__)"
   ]
  },
  {
   "cell_type": "code",
   "execution_count": 2,
   "metadata": {},
   "outputs": [
    {
     "data": {
      "text/plain": [
       "array([ True,  True,  True, False,  True, False, False,  True, False])"
      ]
     },
     "execution_count": 2,
     "metadata": {},
     "output_type": "execute_result"
    }
   ],
   "source": [
    "mask = np.isin([1,2,3,4,5,8,6,1,1],[1,2,3,5,1])\n",
    "\n",
    "mask[mask.cumsum() > 5] = False\n",
    "mask"
   ]
  },
  {
   "cell_type": "code",
   "execution_count": 31,
   "metadata": {},
   "outputs": [
    {
     "name": "stdout",
     "output_type": "stream",
     "text": [
      "_root (2.50KB, 512.00B)\n",
      "  c:\\users\\brian\\appdata\\local\\programs\\python\\python38\\lib\\runpy.py:193:_run_module_as_main (2.50KB, 512.00B)\n",
      "    c:\\users\\brian\\appdata\\local\\programs\\python\\python38\\lib\\runpy.py:86:_run_code (2.50KB, 512.00B)\n",
      "      c:\\users\\brian\\appdata\\local\\programs\\python\\python38\\lib\\site-packages\\ipykernel_launcher.py:16:<module> (2.50KB, 512.00B)\n",
      "        c:\\users\\brian\\appdata\\local\\programs\\python\\python38\\lib\\site-packages\\traitlets\\config\\application.py:664:launch_instance (2.50KB, 512.00B)\n",
      "          c:\\users\\brian\\appdata\\local\\programs\\python\\python38\\lib\\site-packages\\ipykernel\\kernelapp.py:583:start (2.50KB, 512.00B)\n",
      "            c:\\users\\brian\\appdata\\local\\programs\\python\\python38\\lib\\site-packages\\tornado\\platform\\asyncio.py:148:start (2.50KB, 512.00B)\n",
      "              c:\\users\\brian\\appdata\\local\\programs\\python\\python38\\lib\\asyncio\\base_events.py:567:run_forever (2.50KB, 512.00B)\n",
      "                c:\\users\\brian\\appdata\\local\\programs\\python\\python38\\lib\\asyncio\\base_events.py:1855:_run_once (2.50KB, 512.00B)\n",
      "                  c:\\users\\brian\\appdata\\local\\programs\\python\\python38\\lib\\asyncio\\events.py:81:_run (2.50KB, 512.00B)\n",
      "                    c:\\users\\brian\\appdata\\local\\programs\\python\\python38\\lib\\site-packages\\tornado\\ioloop.py:690:<lambda> (2.50KB, 512.00B)\n",
      "                      c:\\users\\brian\\appdata\\local\\programs\\python\\python38\\lib\\site-packages\\tornado\\ioloop.py:743:_run_callback (2.50KB, 512.00B)\n",
      "                        c:\\users\\brian\\appdata\\local\\programs\\python\\python38\\lib\\site-packages\\tornado\\gen.py:787:inner (2.50KB, 512.00B)\n",
      "                          c:\\users\\brian\\appdata\\local\\programs\\python\\python38\\lib\\site-packages\\tornado\\gen.py:748:run (2.50KB, 512.00B)\n",
      "                            c:\\users\\brian\\appdata\\local\\programs\\python\\python38\\lib\\site-packages\\ipykernel\\kernelbase.py:361:process_one (2.50KB, 512.00B)\n",
      "                              c:\\users\\brian\\appdata\\local\\programs\\python\\python38\\lib\\site-packages\\tornado\\gen.py:209:wrapper (2.50KB, 512.00B)\n",
      "                                c:\\users\\brian\\appdata\\local\\programs\\python\\python38\\lib\\site-packages\\ipykernel\\kernelbase.py:268:dispatch_shell (2.50KB, 512.00B)\n",
      "                                  c:\\users\\brian\\appdata\\local\\programs\\python\\python38\\lib\\site-packages\\tornado\\gen.py:209:wrapper (2.50KB, 512.00B)\n",
      "                                    c:\\users\\brian\\appdata\\local\\programs\\python\\python38\\lib\\site-packages\\ipykernel\\kernelbase.py:539:execute_request (2.50KB, 512.00B)\n",
      "                                      c:\\users\\brian\\appdata\\local\\programs\\python\\python38\\lib\\site-packages\\tornado\\gen.py:209:wrapper (2.50KB, 512.00B)\n",
      "                                        c:\\users\\brian\\appdata\\local\\programs\\python\\python38\\lib\\site-packages\\ipykernel\\ipkernel.py:300:do_execute (2.50KB, 512.00B)\n",
      "                                          c:\\users\\brian\\appdata\\local\\programs\\python\\python38\\lib\\site-packages\\ipykernel\\zmqshell.py:536:run_cell (2.50KB, 512.00B)\n",
      "                                            c:\\users\\brian\\appdata\\local\\programs\\python\\python38\\lib\\site-packages\\IPython\\core\\interactiveshell.py:2857:run_cell (2.50KB, 512.00B)\n",
      "                                              c:\\users\\brian\\appdata\\local\\programs\\python\\python38\\lib\\site-packages\\IPython\\core\\interactiveshell.py:2886:_run_cell (2.50KB, 512.00B)\n",
      "                                                c:\\users\\brian\\appdata\\local\\programs\\python\\python38\\lib\\site-packages\\IPython\\core\\async_helpers.py:68:_pseudo_sync_runner (2.50KB, 512.00B)\n",
      "                                                  c:\\users\\brian\\appdata\\local\\programs\\python\\python38\\lib\\site-packages\\IPython\\core\\interactiveshell.py:3062:run_cell_async (2.50KB, 512.00B)\n",
      "                                                    c:\\users\\brian\\appdata\\local\\programs\\python\\python38\\lib\\site-packages\\IPython\\core\\interactiveshell.py:3254:run_ast_nodes (2.50KB, 512.00B)\n",
      "                                                      c:\\users\\brian\\appdata\\local\\programs\\python\\python38\\lib\\site-packages\\IPython\\core\\interactiveshell.py:3331:run_code (2.50KB, 512.00B)\n",
      "                                                        <ipython-input-31-4acb7d4cd482>:5:<module> (2.50KB, 512.00B)\n",
      "                                                          c:\\users\\brian\\appdata\\local\\programs\\python\\python38\\lib\\site-packages\\cupy\\creation\\from_data.py:43:array (1.00KB, 0.00B)\n",
      "                                                          c:\\users\\brian\\appdata\\local\\programs\\python\\python38\\lib\\site-packages\\cupy\\logic\\truth.py:122:isin (1.50KB, 512.00B)\n",
      "                                                            c:\\users\\brian\\appdata\\local\\programs\\python\\python38\\lib\\site-packages\\cupy\\logic\\truth.py:94:in1d (1.00KB, 512.00B)\n",
      "                                                            c:\\users\\brian\\appdata\\local\\programs\\python\\python38\\lib\\site-packages\\cupy\\logic\\truth.py:98:in1d (512.00B, 0.00B)\n"
     ]
    },
    {
     "data": {
      "text/plain": [
       "array([ True,  True,  True, False,  True, False, False,  True,  True])"
      ]
     },
     "execution_count": 31,
     "metadata": {},
     "output_type": "execute_result"
    }
   ],
   "source": [
    "from cupy.cuda import memory_hooks\n",
    "hook = memory_hooks.LineProfileHook()\n",
    "with hook:\n",
    "    # some CuPy codes\n",
    "    mask = cp.isin(cp.array([1,2,3,4,5,8,6,1,1]),cp.array([1,2,3,5,1]))\n",
    "hook.print_report()\n",
    "mask"
   ]
  },
  {
   "cell_type": "code",
   "execution_count": 33,
   "metadata": {},
   "outputs": [
    {
     "name": "stdout",
     "output_type": "stream",
     "text": [
      "{\"hook\":\"malloc\",\"device_id\":0,\"size\":12,\"mem_size\":512,\"mem_ptr\":47383053824,\"pmem_id\":\"0x2402ca7c0b0\"}\n",
      "{\"hook\":\"free\",\"device_id\":0,\"mem_size\":512,\"mem_ptr\":47383053824,\"pmem_id\":\"0x2402ca7c0b0\"}\n"
     ]
    }
   ],
   "source": [
    "\n",
    "    x = cp.array([1, 2, 3])\n",
    "    del x "
   ]
  },
  {
   "cell_type": "code",
   "execution_count": 2,
   "metadata": {},
   "outputs": [
    {
     "name": "stdout",
     "output_type": "stream",
     "text": [
      "0\n",
      "0\n",
      "0\n"
     ]
    }
   ],
   "source": [
    "mempool = cp.get_default_memory_pool()\n",
    "pinned_mempool = cp.get_default_pinned_memory_pool()\n",
    "\n",
    "# Create an array on CPU.\n",
    "# NumPy allocates 400 bytes in CPU (not managed by CuPy memory pool).\n",
    "#a_cpu = numpy.ndarray(100, dtype=numpy.float32)\n",
    "#print(a_cpu.nbytes)                      # 400\n",
    "\n",
    "# You can access statistics of these memory pools.\n",
    "print(mempool.used_bytes())              # 0\n",
    "print(mempool.total_bytes())             # 0\n",
    "print(pinned_mempool.n_free_blocks())    # 0"
   ]
  },
  {
   "cell_type": "code",
   "execution_count": 3,
   "metadata": {},
   "outputs": [
    {
     "name": "stdout",
     "output_type": "stream",
     "text": [
      "{\"hook\":\"alloc\",\"device_id\":0,\"mem_size\":512,\"mem_ptr\":55972986880}\n",
      "{\"hook\":\"malloc\",\"device_id\":0,\"size\":4,\"mem_size\":512,\"mem_ptr\":55972986880,\"pmem_id\":\"0x11e1d192f70\"}\n",
      "{\"hook\":\"alloc\",\"device_id\":0,\"mem_size\":30208,\"mem_ptr\":55972987392}\n",
      "{\"hook\":\"malloc\",\"device_id\":0,\"size\":30000,\"mem_size\":30208,\"mem_ptr\":55972987392,\"pmem_id\":\"0x11e6f0195f0\"}\n",
      "{\"hook\":\"alloc\",\"device_id\":0,\"mem_size\":7680,\"mem_ptr\":55973214208}\n",
      "{\"hook\":\"malloc\",\"device_id\":0,\"size\":7500,\"mem_size\":7680,\"mem_ptr\":55973214208,\"pmem_id\":\"0x11e6f00f8f0\"}\n",
      "{\"hook\":\"alloc\",\"device_id\":0,\"mem_size\":512,\"mem_ptr\":55973221888}\n",
      "{\"hook\":\"malloc\",\"device_id\":0,\"size\":1,\"mem_size\":512,\"mem_ptr\":55973221888,\"pmem_id\":\"0x11e6f00f5b0\"}\n",
      "{\"hook\":\"free\",\"device_id\":0,\"mem_size\":512,\"mem_ptr\":55973221888,\"pmem_id\":\"0x11e6f00f5b0\"}\n",
      "{\"hook\":\"free\",\"device_id\":0,\"mem_size\":512,\"mem_ptr\":55972986880,\"pmem_id\":\"0x11e1d192f70\"}\n",
      "{\"hook\":\"free\",\"device_id\":0,\"mem_size\":7680,\"mem_ptr\":55973214208,\"pmem_id\":\"0x11e6f00f8f0\"}\n",
      "{\"hook\":\"alloc\",\"device_id\":0,\"mem_size\":30208,\"mem_ptr\":55973222400}\n",
      "{\"hook\":\"malloc\",\"device_id\":0,\"size\":30000,\"mem_size\":30208,\"mem_ptr\":55973222400,\"pmem_id\":\"0x11e6f00f8f0\"}\n",
      "{\"hook\":\"free\",\"device_id\":0,\"mem_size\":30208,\"mem_ptr\":55972987392,\"pmem_id\":\"0x11e6f0195f0\"}\n",
      "{\"hook\":\"malloc\",\"device_id\":0,\"size\":4,\"mem_size\":512,\"mem_ptr\":55972986880,\"pmem_id\":\"0x11e7f649e30\"}\n",
      "{\"hook\":\"alloc\",\"device_id\":0,\"mem_size\":120320,\"mem_ptr\":55973252608}\n",
      "{\"hook\":\"malloc\",\"device_id\":0,\"size\":120000,\"mem_size\":120320,\"mem_ptr\":55973252608,\"pmem_id\":\"0x11e1d195130\"}\n",
      "{\"hook\":\"malloc\",\"device_id\":0,\"size\":30000,\"mem_size\":30208,\"mem_ptr\":55972987392,\"pmem_id\":\"0x11e1d1950b0\"}\n",
      "{\"hook\":\"malloc\",\"device_id\":0,\"size\":1,\"mem_size\":512,\"mem_ptr\":55973221888,\"pmem_id\":\"0x11e1d195530\"}\n",
      "{\"hook\":\"free\",\"device_id\":0,\"mem_size\":512,\"mem_ptr\":55973221888,\"pmem_id\":\"0x11e1d195530\"}\n",
      "{\"hook\":\"free\",\"device_id\":0,\"mem_size\":512,\"mem_ptr\":55972986880,\"pmem_id\":\"0x11e7f649e30\"}\n",
      "{\"hook\":\"free\",\"device_id\":0,\"mem_size\":30208,\"mem_ptr\":55972987392,\"pmem_id\":\"0x11e1d1950b0\"}\n",
      "{\"hook\":\"alloc\",\"device_id\":0,\"mem_size\":120320,\"mem_ptr\":55973372928}\n",
      "{\"hook\":\"malloc\",\"device_id\":0,\"size\":120000,\"mem_size\":120320,\"mem_ptr\":55973372928,\"pmem_id\":\"0x11e1d191df0\"}\n",
      "{\"hook\":\"free\",\"device_id\":0,\"mem_size\":120320,\"mem_ptr\":55973252608,\"pmem_id\":\"0x11e1d195130\"}\n"
     ]
    }
   ],
   "source": [
    "from cupy.random import randint as RandInt\n",
    "from cupy.cuda import memory_hooks\n",
    "with memory_hooks.DebugPrintHook():\n",
    "    g1 = RandInt(1, high=4096*4096, size=7500)\n",
    "    g2 = RandInt(1, high=4096*4096, size=30000)\n",
    "\n"
   ]
  },
  {
   "cell_type": "code",
   "execution_count": 4,
   "metadata": {},
   "outputs": [
    {
     "data": {
      "text/plain": [
       "array([ 3303888,  9452227,   655191, ..., 11158492, 16475535,  3053514])"
      ]
     },
     "execution_count": 4,
     "metadata": {},
     "output_type": "execute_result"
    }
   ],
   "source": [
    "g1"
   ]
  },
  {
   "cell_type": "code",
   "execution_count": 5,
   "metadata": {},
   "outputs": [
    {
     "data": {
      "text/plain": [
       "array([ 2606976, 12659379,   884797, ..., 10871339,  7495338, 11785720])"
      ]
     },
     "execution_count": 5,
     "metadata": {},
     "output_type": "execute_result"
    }
   ],
   "source": [
    "g2"
   ]
  },
  {
   "cell_type": "code",
   "execution_count": 6,
   "metadata": {},
   "outputs": [
    {
     "data": {
      "text/plain": [
       "dtype('int32')"
      ]
     },
     "execution_count": 6,
     "metadata": {},
     "output_type": "execute_result"
    }
   ],
   "source": [
    "g2.dtype"
   ]
  },
  {
   "cell_type": "code",
   "execution_count": 8,
   "metadata": {},
   "outputs": [
    {
     "name": "stdout",
     "output_type": "stream",
     "text": [
      "{\"hook\":\"alloc\",\"device_id\":0,\"mem_size\":225000448,\"mem_ptr\":55975084032}\n",
      "{\"hook\":\"malloc\",\"device_id\":0,\"size\":225000000,\"mem_size\":225000448,\"mem_ptr\":55975084032,\"pmem_id\":\"0x11e32502df0\"}\n",
      "{\"hook\":\"malloc\",\"device_id\":0,\"size\":30000,\"mem_size\":30208,\"mem_ptr\":55972987392,\"pmem_id\":\"0x11e1d289e30\"}\n",
      "{\"hook\":\"free\",\"device_id\":0,\"mem_size\":225000448,\"mem_ptr\":55975084032,\"pmem_id\":\"0x11e32502df0\"}\n",
      "{\"hook\":\"malloc\",\"device_id\":0,\"size\":7500,\"mem_size\":7680,\"mem_ptr\":55973214208,\"pmem_id\":\"0x11e32502e30\"}\n",
      "{\"hook\":\"free\",\"device_id\":0,\"mem_size\":30208,\"mem_ptr\":55972987392,\"pmem_id\":\"0x11e1d289e30\"}\n"
     ]
    }
   ],
   "source": [
    "with memory_hooks.DebugPrintHook():\n",
    "    g3 = cp.isin(g1, g2)"
   ]
  },
  {
   "cell_type": "code",
   "execution_count": 9,
   "metadata": {},
   "outputs": [
    {
     "data": {
      "text/plain": [
       "array([False, False, False, ..., False, False, False])"
      ]
     },
     "execution_count": 9,
     "metadata": {},
     "output_type": "execute_result"
    }
   ],
   "source": [
    "g3"
   ]
  },
  {
   "cell_type": "code",
   "execution_count": 10,
   "metadata": {},
   "outputs": [
    {
     "data": {
      "text/plain": [
       "dtype('bool')"
      ]
     },
     "execution_count": 10,
     "metadata": {},
     "output_type": "execute_result"
    }
   ],
   "source": [
    "g3.dtype"
   ]
  },
  {
   "cell_type": "code",
   "execution_count": 3,
   "metadata": {},
   "outputs": [
    {
     "name": "stdout",
     "output_type": "stream",
     "text": [
      "16.7 ms ± 61 µs per loop (mean ± std. dev. of 7 runs, 1 loop each)\n",
      "int32\n",
      "The slowest run took 30.73 times longer than the fastest. This could mean that an intermediate result is being cached.\n",
      "54.9 µs ± 102 µs per loop (mean ± std. dev. of 7 runs, 1 loop each)\n"
     ]
    }
   ],
   "source": [
    "num = 100_000\n",
    "x = RandInt(1, high=(4096*4096)-1, size=num)\n",
    "y = RandInt(1, high=(4096*4096)-1, size=num)\n",
    "bool_arr = cp.zeros(num, dtype=bool)\n",
    "X = cp.asnumpy(x)\n",
    "Y = cp.asnumpy(y)\n",
    "#print(x)\n",
    "#print(y)\n",
    "%timeit -n 1 np.isin(X,Y)\n",
    "print(x.dtype)\n",
    "kernel = cp.ElementwiseKernel('T num,  T x,  raw T y', 'bool z',\n",
    "    '''int t = 0; \n",
    "    z = 0;\n",
    "    #pragma unroll\n",
    "    for(t = 0; t < num; t++) z = z || (x == y[t]);''',\n",
    "    'my_kernel')\n",
    "\n",
    "%timeit -n 1  bool_arr = kernel(num, x, y)\n",
    "#kernel(num, x, y)\n"
   ]
  },
  {
   "cell_type": "code",
   "execution_count": 18,
   "metadata": {},
   "outputs": [
    {
     "name": "stdout",
     "output_type": "stream",
     "text": [
      "[False  True  True False]\n"
     ]
    }
   ],
   "source": [
    "a = cp.array([0,2,4,6], cp.int32)\n",
    "b = cp.array([1,2,4,8], cp.int32)\n",
    "print(kernel(4,a,b))"
   ]
  },
  {
   "cell_type": "code",
   "execution_count": 19,
   "metadata": {},
   "outputs": [
    {
     "name": "stdout",
     "output_type": "stream",
     "text": [
      "[23 56 39 ... 21 82 76]\n",
      "[65 74 17 ... 68 23 54]\n"
     ]
    }
   ],
   "source": [
    "print(X)\n",
    "print(Y)"
   ]
  },
  {
   "cell_type": "code",
   "execution_count": null,
   "metadata": {},
   "outputs": [],
   "source": [
    "image2[:,:,3] = np.where(img[:,:,0]==img2[:,:,0], 0, image2[:,:,3]) # how can I make this work for NASA"
   ]
  },
  {
   "cell_type": "code",
   "execution_count": 22,
   "metadata": {},
   "outputs": [
    {
     "name": "stdout",
     "output_type": "stream",
     "text": [
      "Found ERROR 0  FOUND 0\n"
     ]
    }
   ],
   "source": [
    "Z = np.isin(X,Y)\n",
    "z = kernel(num, x, y)\n",
    "nz = cp.asnumpy(z)\n",
    "count =0\n",
    "truth =0\n",
    "for i in np.arange(num):\n",
    "    if Z[i] != z[i] :\n",
    "        count = count + 1\n",
    "        if(z[i] == True) : truth = truth + 1\n",
    "print (\"Found ERROR\", count, \" FOUND\", truth)"
   ]
  },
  {
   "cell_type": "code",
   "execution_count": 21,
   "metadata": {},
   "outputs": [
    {
     "name": "stdout",
     "output_type": "stream",
     "text": [
      "[ True  True  True ...  True  True  True]\n",
      "[ True  True  True ...  True  True  True]\n"
     ]
    }
   ],
   "source": [
    "print(Z)\n",
    "print(nz)"
   ]
  },
  {
   "cell_type": "code",
   "execution_count": 10,
   "metadata": {},
   "outputs": [
    {
     "name": "stdout",
     "output_type": "stream",
     "text": [
      "{\"hook\":\"malloc\",\"device_id\":0,\"size\":30000,\"mem_size\":30208,\"mem_ptr\":47383052800,\"pmem_id\":\"0x27eecc96fb0\"}\n",
      "{\"hook\":\"malloc\",\"device_id\":0,\"size\":1,\"mem_size\":512,\"mem_ptr\":47383281152,\"pmem_id\":\"0x27ed54582b0\"}\n",
      "{\"hook\":\"free\",\"device_id\":0,\"mem_size\":30208,\"mem_ptr\":47383052800,\"pmem_id\":\"0x27eecc96fb0\"}\n",
      "{\"hook\":\"malloc\",\"device_id\":0,\"size\":30000,\"mem_size\":30208,\"mem_ptr\":47383052800,\"pmem_id\":\"0x27eecdadd30\"}\n",
      "{\"hook\":\"malloc\",\"device_id\":0,\"size\":1,\"mem_size\":512,\"mem_ptr\":47383281664,\"pmem_id\":\"0x27eecd8f0f0\"}\n",
      "{\"hook\":\"free\",\"device_id\":0,\"mem_size\":30208,\"mem_ptr\":47383052800,\"pmem_id\":\"0x27eecdadd30\"}\n",
      "{\"hook\":\"malloc\",\"device_id\":0,\"size\":30000,\"mem_size\":30208,\"mem_ptr\":47383052800,\"pmem_id\":\"0x27eecd8bfb0\"}\n",
      "{\"hook\":\"malloc\",\"device_id\":0,\"size\":1,\"mem_size\":512,\"mem_ptr\":47383282176,\"pmem_id\":\"0x27eecd8f030\"}\n",
      "{\"hook\":\"free\",\"device_id\":0,\"mem_size\":30208,\"mem_ptr\":47383052800,\"pmem_id\":\"0x27eecd8bfb0\"}\n",
      "{\"hook\":\"malloc\",\"device_id\":0,\"size\":30000,\"mem_size\":30208,\"mem_ptr\":47383052800,\"pmem_id\":\"0x27eecc96fb0\"}\n",
      "{\"hook\":\"malloc\",\"device_id\":0,\"size\":1,\"mem_size\":512,\"mem_ptr\":47383282688,\"pmem_id\":\"0x27eecd9c170\"}\n",
      "{\"hook\":\"free\",\"device_id\":0,\"mem_size\":30208,\"mem_ptr\":47383052800,\"pmem_id\":\"0x27eecc96fb0\"}\n",
      "{\"hook\":\"malloc\",\"device_id\":0,\"size\":30000,\"mem_size\":30208,\"mem_ptr\":47383052800,\"pmem_id\":\"0x27eecdadd30\"}\n",
      "{\"hook\":\"malloc\",\"device_id\":0,\"size\":1,\"mem_size\":512,\"mem_ptr\":47383283200,\"pmem_id\":\"0x27ebef29c30\"}\n",
      "{\"hook\":\"free\",\"device_id\":0,\"mem_size\":30208,\"mem_ptr\":47383052800,\"pmem_id\":\"0x27eecdadd30\"}\n",
      "{\"hook\":\"malloc\",\"device_id\":0,\"size\":30000,\"mem_size\":30208,\"mem_ptr\":47383052800,\"pmem_id\":\"0x27eecd8bfb0\"}\n",
      "{\"hook\":\"malloc\",\"device_id\":0,\"size\":1,\"mem_size\":512,\"mem_ptr\":47383283712,\"pmem_id\":\"0x27ebef29d70\"}\n",
      "{\"hook\":\"free\",\"device_id\":0,\"mem_size\":30208,\"mem_ptr\":47383052800,\"pmem_id\":\"0x27eecd8bfb0\"}\n",
      "{\"hook\":\"malloc\",\"device_id\":0,\"size\":30000,\"mem_size\":30208,\"mem_ptr\":47383052800,\"pmem_id\":\"0x27eecdadd30\"}\n",
      "{\"hook\":\"malloc\",\"device_id\":0,\"size\":1,\"mem_size\":512,\"mem_ptr\":47383284224,\"pmem_id\":\"0x27eecd93e70\"}\n",
      "{\"hook\":\"free\",\"device_id\":0,\"mem_size\":30208,\"mem_ptr\":47383052800,\"pmem_id\":\"0x27eecdadd30\"}\n",
      "{\"hook\":\"malloc\",\"device_id\":0,\"size\":30000,\"mem_size\":30208,\"mem_ptr\":47383052800,\"pmem_id\":\"0x27eecd9c570\"}\n",
      "{\"hook\":\"malloc\",\"device_id\":0,\"size\":1,\"mem_size\":512,\"mem_ptr\":47383284736,\"pmem_id\":\"0x27eecd93a70\"}\n",
      "{\"hook\":\"free\",\"device_id\":0,\"mem_size\":30208,\"mem_ptr\":47383052800,\"pmem_id\":\"0x27eecd9c570\"}\n",
      "{\"hook\":\"malloc\",\"device_id\":0,\"size\":30000,\"mem_size\":30208,\"mem_ptr\":47383052800,\"pmem_id\":\"0x27eecd8bfb0\"}\n",
      "{\"hook\":\"malloc\",\"device_id\":0,\"size\":1,\"mem_size\":512,\"mem_ptr\":47383285248,\"pmem_id\":\"0x27eecd93730\"}\n",
      "{\"hook\":\"free\",\"device_id\":0,\"mem_size\":30208,\"mem_ptr\":47383052800,\"pmem_id\":\"0x27eecd8bfb0\"}\n",
      "{\"hook\":\"malloc\",\"device_id\":0,\"size\":30000,\"mem_size\":30208,\"mem_ptr\":47383052800,\"pmem_id\":\"0x27eecdadd30\"}\n",
      "{\"hook\":\"malloc\",\"device_id\":0,\"size\":1,\"mem_size\":512,\"mem_ptr\":47383285760,\"pmem_id\":\"0x27ed52097f0\"}\n",
      "{\"hook\":\"free\",\"device_id\":0,\"mem_size\":30208,\"mem_ptr\":47383052800,\"pmem_id\":\"0x27eecdadd30\"}\n",
      "{\"hook\":\"malloc\",\"device_id\":0,\"size\":30000,\"mem_size\":30208,\"mem_ptr\":47383052800,\"pmem_id\":\"0x27eecc96fb0\"}\n",
      "{\"hook\":\"malloc\",\"device_id\":0,\"size\":1,\"mem_size\":512,\"mem_ptr\":47383286272,\"pmem_id\":\"0x27e826126b0\"}\n",
      "{\"hook\":\"free\",\"device_id\":0,\"mem_size\":30208,\"mem_ptr\":47383052800,\"pmem_id\":\"0x27eecc96fb0\"}\n",
      "{\"hook\":\"malloc\",\"device_id\":0,\"size\":30000,\"mem_size\":30208,\"mem_ptr\":47383052800,\"pmem_id\":\"0x27eecd9c570\"}\n",
      "{\"hook\":\"malloc\",\"device_id\":0,\"size\":1,\"mem_size\":512,\"mem_ptr\":47383286784,\"pmem_id\":\"0x27e82612e70\"}\n",
      "{\"hook\":\"free\",\"device_id\":0,\"mem_size\":30208,\"mem_ptr\":47383052800,\"pmem_id\":\"0x27eecd9c570\"}\n",
      "{\"hook\":\"malloc\",\"device_id\":0,\"size\":30000,\"mem_size\":30208,\"mem_ptr\":47383052800,\"pmem_id\":\"0x27eecdadd30\"}\n",
      "{\"hook\":\"malloc\",\"device_id\":0,\"size\":1,\"mem_size\":512,\"mem_ptr\":47383318016,\"pmem_id\":\"0x27e82612f70\"}\n",
      "{\"hook\":\"free\",\"device_id\":0,\"mem_size\":30208,\"mem_ptr\":47383052800,\"pmem_id\":\"0x27eecdadd30\"}\n",
      "{\"hook\":\"malloc\",\"device_id\":0,\"size\":30000,\"mem_size\":30208,\"mem_ptr\":47383052800,\"pmem_id\":\"0x27eecc96fb0\"}\n",
      "{\"hook\":\"malloc\",\"device_id\":0,\"size\":1,\"mem_size\":512,\"mem_ptr\":47383318528,\"pmem_id\":\"0x27e826156f0\"}\n",
      "{\"hook\":\"free\",\"device_id\":0,\"mem_size\":30208,\"mem_ptr\":47383052800,\"pmem_id\":\"0x27eecc96fb0\"}\n",
      "{\"hook\":\"malloc\",\"device_id\":0,\"size\":30000,\"mem_size\":30208,\"mem_ptr\":47383052800,\"pmem_id\":\"0x27eecd9c570\"}\n",
      "{\"hook\":\"malloc\",\"device_id\":0,\"size\":1,\"mem_size\":512,\"mem_ptr\":47383319040,\"pmem_id\":\"0x27e826158b0\"}\n",
      "{\"hook\":\"free\",\"device_id\":0,\"mem_size\":30208,\"mem_ptr\":47383052800,\"pmem_id\":\"0x27eecd9c570\"}\n",
      "{\"hook\":\"malloc\",\"device_id\":0,\"size\":30000,\"mem_size\":30208,\"mem_ptr\":47383052800,\"pmem_id\":\"0x27eecdadd30\"}\n",
      "{\"hook\":\"malloc\",\"device_id\":0,\"size\":1,\"mem_size\":512,\"mem_ptr\":47383319552,\"pmem_id\":\"0x27e82615bb0\"}\n",
      "{\"hook\":\"free\",\"device_id\":0,\"mem_size\":30208,\"mem_ptr\":47383052800,\"pmem_id\":\"0x27eecdadd30\"}\n",
      "{\"hook\":\"malloc\",\"device_id\":0,\"size\":30000,\"mem_size\":30208,\"mem_ptr\":47383052800,\"pmem_id\":\"0x27eecc96fb0\"}\n",
      "{\"hook\":\"malloc\",\"device_id\":0,\"size\":1,\"mem_size\":512,\"mem_ptr\":47383320064,\"pmem_id\":\"0x27e82618170\"}\n",
      "{\"hook\":\"free\",\"device_id\":0,\"mem_size\":30208,\"mem_ptr\":47383052800,\"pmem_id\":\"0x27eecc96fb0\"}\n",
      "{\"hook\":\"malloc\",\"device_id\":0,\"size\":30000,\"mem_size\":30208,\"mem_ptr\":47383052800,\"pmem_id\":\"0x27eecd9c570\"}\n",
      "{\"hook\":\"malloc\",\"device_id\":0,\"size\":1,\"mem_size\":512,\"mem_ptr\":47383320576,\"pmem_id\":\"0x27e82618530\"}\n",
      "{\"hook\":\"free\",\"device_id\":0,\"mem_size\":30208,\"mem_ptr\":47383052800,\"pmem_id\":\"0x27eecd9c570\"}\n",
      "{\"hook\":\"malloc\",\"device_id\":0,\"size\":30000,\"mem_size\":30208,\"mem_ptr\":47383052800,\"pmem_id\":\"0x27eecdadd30\"}\n",
      "{\"hook\":\"malloc\",\"device_id\":0,\"size\":1,\"mem_size\":512,\"mem_ptr\":47383321088,\"pmem_id\":\"0x27e82618770\"}\n",
      "{\"hook\":\"free\",\"device_id\":0,\"mem_size\":30208,\"mem_ptr\":47383052800,\"pmem_id\":\"0x27eecdadd30\"}\n",
      "{\"hook\":\"malloc\",\"device_id\":0,\"size\":30000,\"mem_size\":30208,\"mem_ptr\":47383052800,\"pmem_id\":\"0x27eecc96fb0\"}\n",
      "{\"hook\":\"malloc\",\"device_id\":0,\"size\":1,\"mem_size\":512,\"mem_ptr\":47383321600,\"pmem_id\":\"0x27e82618af0\"}\n",
      "{\"hook\":\"free\",\"device_id\":0,\"mem_size\":30208,\"mem_ptr\":47383052800,\"pmem_id\":\"0x27eecc96fb0\"}\n",
      "{\"hook\":\"malloc\",\"device_id\":0,\"size\":30000,\"mem_size\":30208,\"mem_ptr\":47383052800,\"pmem_id\":\"0x27eecd9c570\"}\n",
      "{\"hook\":\"malloc\",\"device_id\":0,\"size\":1,\"mem_size\":512,\"mem_ptr\":47383322112,\"pmem_id\":\"0x27e82618e70\"}\n",
      "{\"hook\":\"free\",\"device_id\":0,\"mem_size\":30208,\"mem_ptr\":47383052800,\"pmem_id\":\"0x27eecd9c570\"}\n",
      "{\"hook\":\"malloc\",\"device_id\":0,\"size\":30000,\"mem_size\":30208,\"mem_ptr\":47383052800,\"pmem_id\":\"0x27eecdadd30\"}\n",
      "{\"hook\":\"malloc\",\"device_id\":0,\"size\":1,\"mem_size\":512,\"mem_ptr\":47383322624,\"pmem_id\":\"0x27e8261a2b0\"}\n",
      "{\"hook\":\"free\",\"device_id\":0,\"mem_size\":30208,\"mem_ptr\":47383052800,\"pmem_id\":\"0x27eecdadd30\"}\n",
      "{\"hook\":\"malloc\",\"device_id\":0,\"size\":30000,\"mem_size\":30208,\"mem_ptr\":47383052800,\"pmem_id\":\"0x27eecc96fb0\"}\n",
      "{\"hook\":\"malloc\",\"device_id\":0,\"size\":1,\"mem_size\":512,\"mem_ptr\":47383323136,\"pmem_id\":\"0x27e8261a670\"}\n",
      "{\"hook\":\"free\",\"device_id\":0,\"mem_size\":30208,\"mem_ptr\":47383052800,\"pmem_id\":\"0x27eecc96fb0\"}\n",
      "{\"hook\":\"malloc\",\"device_id\":0,\"size\":30000,\"mem_size\":30208,\"mem_ptr\":47383052800,\"pmem_id\":\"0x27eecd9c570\"}\n",
      "{\"hook\":\"malloc\",\"device_id\":0,\"size\":1,\"mem_size\":512,\"mem_ptr\":47383323648,\"pmem_id\":\"0x27e8261a830\"}\n",
      "{\"hook\":\"free\",\"device_id\":0,\"mem_size\":30208,\"mem_ptr\":47383052800,\"pmem_id\":\"0x27eecd9c570\"}\n",
      "{\"hook\":\"malloc\",\"device_id\":0,\"size\":30000,\"mem_size\":30208,\"mem_ptr\":47383052800,\"pmem_id\":\"0x27eecdadd30\"}\n",
      "{\"hook\":\"malloc\",\"device_id\":0,\"size\":1,\"mem_size\":512,\"mem_ptr\":47383324160,\"pmem_id\":\"0x27e8261adb0\"}\n",
      "{\"hook\":\"free\",\"device_id\":0,\"mem_size\":30208,\"mem_ptr\":47383052800,\"pmem_id\":\"0x27eecdadd30\"}\n",
      "{\"hook\":\"malloc\",\"device_id\":0,\"size\":30000,\"mem_size\":30208,\"mem_ptr\":47383052800,\"pmem_id\":\"0x27eecc96fb0\"}\n",
      "{\"hook\":\"malloc\",\"device_id\":0,\"size\":1,\"mem_size\":512,\"mem_ptr\":47383324672,\"pmem_id\":\"0x27e8261afb0\"}\n",
      "{\"hook\":\"free\",\"device_id\":0,\"mem_size\":30208,\"mem_ptr\":47383052800,\"pmem_id\":\"0x27eecc96fb0\"}\n",
      "{\"hook\":\"malloc\",\"device_id\":0,\"size\":30000,\"mem_size\":30208,\"mem_ptr\":47383052800,\"pmem_id\":\"0x27eecd9c570\"}\n",
      "{\"hook\":\"malloc\",\"device_id\":0,\"size\":1,\"mem_size\":512,\"mem_ptr\":47383325184,\"pmem_id\":\"0x27e8261b370\"}\n",
      "{\"hook\":\"free\",\"device_id\":0,\"mem_size\":30208,\"mem_ptr\":47383052800,\"pmem_id\":\"0x27eecd9c570\"}\n",
      "{\"hook\":\"malloc\",\"device_id\":0,\"size\":30000,\"mem_size\":30208,\"mem_ptr\":47383052800,\"pmem_id\":\"0x27eecdadd30\"}\n",
      "{\"hook\":\"malloc\",\"device_id\":0,\"size\":1,\"mem_size\":512,\"mem_ptr\":47383325696,\"pmem_id\":\"0x27e8261b770\"}\n",
      "{\"hook\":\"free\",\"device_id\":0,\"mem_size\":30208,\"mem_ptr\":47383052800,\"pmem_id\":\"0x27eecdadd30\"}\n",
      "{\"hook\":\"malloc\",\"device_id\":0,\"size\":30000,\"mem_size\":30208,\"mem_ptr\":47383052800,\"pmem_id\":\"0x27eecc96fb0\"}\n",
      "{\"hook\":\"malloc\",\"device_id\":0,\"size\":1,\"mem_size\":512,\"mem_ptr\":47383326208,\"pmem_id\":\"0x27e8261ba70\"}\n",
      "{\"hook\":\"free\",\"device_id\":0,\"mem_size\":30208,\"mem_ptr\":47383052800,\"pmem_id\":\"0x27eecc96fb0\"}\n",
      "{\"hook\":\"malloc\",\"device_id\":0,\"size\":30000,\"mem_size\":30208,\"mem_ptr\":47383052800,\"pmem_id\":\"0x27eecd9c570\"}\n",
      "{\"hook\":\"malloc\",\"device_id\":0,\"size\":1,\"mem_size\":512,\"mem_ptr\":47383326720,\"pmem_id\":\"0x27e8261bdf0\"}\n",
      "{\"hook\":\"free\",\"device_id\":0,\"mem_size\":30208,\"mem_ptr\":47383052800,\"pmem_id\":\"0x27eecd9c570\"}\n",
      "{\"hook\":\"malloc\",\"device_id\":0,\"size\":30000,\"mem_size\":30208,\"mem_ptr\":47383052800,\"pmem_id\":\"0x27eecd9c570\"}\n",
      "{\"hook\":\"malloc\",\"device_id\":0,\"size\":1,\"mem_size\":512,\"mem_ptr\":47383327232,\"pmem_id\":\"0x27eecdad2f0\"}\n",
      "{\"hook\":\"free\",\"device_id\":0,\"mem_size\":30208,\"mem_ptr\":47383052800,\"pmem_id\":\"0x27eecd9c570\"}\n",
      "{\"hook\":\"malloc\",\"device_id\":0,\"size\":30000,\"mem_size\":30208,\"mem_ptr\":47383052800,\"pmem_id\":\"0x27eecc96fb0\"}\n",
      "{\"hook\":\"malloc\",\"device_id\":0,\"size\":1,\"mem_size\":512,\"mem_ptr\":47383327744,\"pmem_id\":\"0x27eecdad830\"}\n",
      "{\"hook\":\"free\",\"device_id\":0,\"mem_size\":30208,\"mem_ptr\":47383052800,\"pmem_id\":\"0x27eecc96fb0\"}\n",
      "{\"hook\":\"malloc\",\"device_id\":0,\"size\":30000,\"mem_size\":30208,\"mem_ptr\":47383052800,\"pmem_id\":\"0x27eecd9c3b0\"}\n",
      "{\"hook\":\"malloc\",\"device_id\":0,\"size\":1,\"mem_size\":512,\"mem_ptr\":47383328256,\"pmem_id\":\"0x27eecdad9f0\"}\n",
      "{\"hook\":\"free\",\"device_id\":0,\"mem_size\":30208,\"mem_ptr\":47383052800,\"pmem_id\":\"0x27eecd9c3b0\"}\n",
      "{\"hook\":\"malloc\",\"device_id\":0,\"size\":30000,\"mem_size\":30208,\"mem_ptr\":47383052800,\"pmem_id\":\"0x27eecd9c570\"}\n",
      "{\"hook\":\"malloc\",\"device_id\":0,\"size\":1,\"mem_size\":512,\"mem_ptr\":47383328768,\"pmem_id\":\"0x27eecdad2b0\"}\n",
      "{\"hook\":\"free\",\"device_id\":0,\"mem_size\":30208,\"mem_ptr\":47383052800,\"pmem_id\":\"0x27eecd9c570\"}\n",
      "{\"hook\":\"malloc\",\"device_id\":0,\"size\":30000,\"mem_size\":30208,\"mem_ptr\":47383052800,\"pmem_id\":\"0x27eecc96fb0\"}\n",
      "{\"hook\":\"malloc\",\"device_id\":0,\"size\":1,\"mem_size\":512,\"mem_ptr\":47383329280,\"pmem_id\":\"0x27e8261e570\"}\n",
      "{\"hook\":\"free\",\"device_id\":0,\"mem_size\":30208,\"mem_ptr\":47383052800,\"pmem_id\":\"0x27eecc96fb0\"}\n",
      "{\"hook\":\"malloc\",\"device_id\":0,\"size\":30000,\"mem_size\":30208,\"mem_ptr\":47383052800,\"pmem_id\":\"0x27eecd9c3b0\"}\n",
      "{\"hook\":\"malloc\",\"device_id\":0,\"size\":1,\"mem_size\":512,\"mem_ptr\":47383329792,\"pmem_id\":\"0x27e8261e730\"}\n",
      "{\"hook\":\"free\",\"device_id\":0,\"mem_size\":30208,\"mem_ptr\":47383052800,\"pmem_id\":\"0x27eecd9c3b0\"}\n",
      "{\"hook\":\"malloc\",\"device_id\":0,\"size\":30000,\"mem_size\":30208,\"mem_ptr\":47383052800,\"pmem_id\":\"0x27eecd9c570\"}\n",
      "{\"hook\":\"malloc\",\"device_id\":0,\"size\":1,\"mem_size\":512,\"mem_ptr\":47383330304,\"pmem_id\":\"0x27e8261ecb0\"}\n",
      "{\"hook\":\"free\",\"device_id\":0,\"mem_size\":30208,\"mem_ptr\":47383052800,\"pmem_id\":\"0x27eecd9c570\"}\n",
      "{\"hook\":\"malloc\",\"device_id\":0,\"size\":30000,\"mem_size\":30208,\"mem_ptr\":47383052800,\"pmem_id\":\"0x27eecc96fb0\"}\n",
      "{\"hook\":\"malloc\",\"device_id\":0,\"size\":1,\"mem_size\":512,\"mem_ptr\":47383330816,\"pmem_id\":\"0x27e8261ef70\"}\n",
      "{\"hook\":\"free\",\"device_id\":0,\"mem_size\":30208,\"mem_ptr\":47383052800,\"pmem_id\":\"0x27eecc96fb0\"}\n",
      "{\"hook\":\"malloc\",\"device_id\":0,\"size\":30000,\"mem_size\":30208,\"mem_ptr\":47383052800,\"pmem_id\":\"0x27eecd9c3b0\"}\n",
      "{\"hook\":\"malloc\",\"device_id\":0,\"size\":1,\"mem_size\":512,\"mem_ptr\":47383331328,\"pmem_id\":\"0x27e826223f0\"}\n",
      "{\"hook\":\"free\",\"device_id\":0,\"mem_size\":30208,\"mem_ptr\":47383052800,\"pmem_id\":\"0x27eecd9c3b0\"}\n",
      "{\"hook\":\"malloc\",\"device_id\":0,\"size\":30000,\"mem_size\":30208,\"mem_ptr\":47383052800,\"pmem_id\":\"0x27eecd9c570\"}\n",
      "{\"hook\":\"malloc\",\"device_id\":0,\"size\":1,\"mem_size\":512,\"mem_ptr\":47383331840,\"pmem_id\":\"0x27e82622630\"}\n",
      "{\"hook\":\"free\",\"device_id\":0,\"mem_size\":30208,\"mem_ptr\":47383052800,\"pmem_id\":\"0x27eecd9c570\"}\n",
      "{\"hook\":\"malloc\",\"device_id\":0,\"size\":30000,\"mem_size\":30208,\"mem_ptr\":47383052800,\"pmem_id\":\"0x27eecc96fb0\"}\n",
      "{\"hook\":\"malloc\",\"device_id\":0,\"size\":1,\"mem_size\":512,\"mem_ptr\":47383332352,\"pmem_id\":\"0x27e82622930\"}\n",
      "{\"hook\":\"free\",\"device_id\":0,\"mem_size\":30208,\"mem_ptr\":47383052800,\"pmem_id\":\"0x27eecc96fb0\"}\n",
      "{\"hook\":\"malloc\",\"device_id\":0,\"size\":30000,\"mem_size\":30208,\"mem_ptr\":47383052800,\"pmem_id\":\"0x27eecd9c3b0\"}\n",
      "{\"hook\":\"malloc\",\"device_id\":0,\"size\":1,\"mem_size\":512,\"mem_ptr\":47383332864,\"pmem_id\":\"0x27e82622e70\"}\n",
      "{\"hook\":\"free\",\"device_id\":0,\"mem_size\":30208,\"mem_ptr\":47383052800,\"pmem_id\":\"0x27eecd9c3b0\"}\n",
      "{\"hook\":\"malloc\",\"device_id\":0,\"size\":30000,\"mem_size\":30208,\"mem_ptr\":47383052800,\"pmem_id\":\"0x27eecd9c570\"}\n",
      "{\"hook\":\"malloc\",\"device_id\":0,\"size\":1,\"mem_size\":512,\"mem_ptr\":47383333376,\"pmem_id\":\"0x27e82622f30\"}\n",
      "{\"hook\":\"free\",\"device_id\":0,\"mem_size\":30208,\"mem_ptr\":47383052800,\"pmem_id\":\"0x27eecd9c570\"}\n",
      "{\"hook\":\"malloc\",\"device_id\":0,\"size\":30000,\"mem_size\":30208,\"mem_ptr\":47383052800,\"pmem_id\":\"0x27eecc96fb0\"}\n",
      "{\"hook\":\"malloc\",\"device_id\":0,\"size\":1,\"mem_size\":512,\"mem_ptr\":47383333888,\"pmem_id\":\"0x27e82623470\"}\n",
      "{\"hook\":\"free\",\"device_id\":0,\"mem_size\":30208,\"mem_ptr\":47383052800,\"pmem_id\":\"0x27eecc96fb0\"}\n",
      "{\"hook\":\"malloc\",\"device_id\":0,\"size\":30000,\"mem_size\":30208,\"mem_ptr\":47383052800,\"pmem_id\":\"0x27eecd9c3b0\"}\n",
      "{\"hook\":\"malloc\",\"device_id\":0,\"size\":1,\"mem_size\":512,\"mem_ptr\":47383334400,\"pmem_id\":\"0x27e82623770\"}\n",
      "{\"hook\":\"free\",\"device_id\":0,\"mem_size\":30208,\"mem_ptr\":47383052800,\"pmem_id\":\"0x27eecd9c3b0\"}\n",
      "{\"hook\":\"malloc\",\"device_id\":0,\"size\":30000,\"mem_size\":30208,\"mem_ptr\":47383052800,\"pmem_id\":\"0x27eecd9c570\"}\n",
      "{\"hook\":\"malloc\",\"device_id\":0,\"size\":1,\"mem_size\":512,\"mem_ptr\":47383334912,\"pmem_id\":\"0x27e82623c30\"}\n",
      "{\"hook\":\"free\",\"device_id\":0,\"mem_size\":30208,\"mem_ptr\":47383052800,\"pmem_id\":\"0x27eecd9c570\"}\n",
      "{\"hook\":\"malloc\",\"device_id\":0,\"size\":30000,\"mem_size\":30208,\"mem_ptr\":47383052800,\"pmem_id\":\"0x27eecc96fb0\"}\n",
      "{\"hook\":\"malloc\",\"device_id\":0,\"size\":1,\"mem_size\":512,\"mem_ptr\":47383335424,\"pmem_id\":\"0x27e82623f70\"}\n",
      "{\"hook\":\"free\",\"device_id\":0,\"mem_size\":30208,\"mem_ptr\":47383052800,\"pmem_id\":\"0x27eecc96fb0\"}\n",
      "{\"hook\":\"malloc\",\"device_id\":0,\"size\":30000,\"mem_size\":30208,\"mem_ptr\":47383052800,\"pmem_id\":\"0x27eecd9c3b0\"}\n",
      "{\"hook\":\"malloc\",\"device_id\":0,\"size\":1,\"mem_size\":512,\"mem_ptr\":47383335936,\"pmem_id\":\"0x27e82623e30\"}\n",
      "{\"hook\":\"free\",\"device_id\":0,\"mem_size\":30208,\"mem_ptr\":47383052800,\"pmem_id\":\"0x27eecd9c3b0\"}\n",
      "{\"hook\":\"malloc\",\"device_id\":0,\"size\":30000,\"mem_size\":30208,\"mem_ptr\":47383052800,\"pmem_id\":\"0x27eecd9c570\"}\n",
      "{\"hook\":\"malloc\",\"device_id\":0,\"size\":1,\"mem_size\":512,\"mem_ptr\":47383336448,\"pmem_id\":\"0x27e826265b0\"}\n",
      "{\"hook\":\"free\",\"device_id\":0,\"mem_size\":30208,\"mem_ptr\":47383052800,\"pmem_id\":\"0x27eecd9c570\"}\n",
      "{\"hook\":\"malloc\",\"device_id\":0,\"size\":30000,\"mem_size\":30208,\"mem_ptr\":47383052800,\"pmem_id\":\"0x27eecc96fb0\"}\n",
      "{\"hook\":\"malloc\",\"device_id\":0,\"size\":1,\"mem_size\":512,\"mem_ptr\":47383336960,\"pmem_id\":\"0x27e82626930\"}\n",
      "{\"hook\":\"free\",\"device_id\":0,\"mem_size\":30208,\"mem_ptr\":47383052800,\"pmem_id\":\"0x27eecc96fb0\"}\n",
      "{\"hook\":\"malloc\",\"device_id\":0,\"size\":30000,\"mem_size\":30208,\"mem_ptr\":47383052800,\"pmem_id\":\"0x27eecd9c3b0\"}\n",
      "{\"hook\":\"malloc\",\"device_id\":0,\"size\":1,\"mem_size\":512,\"mem_ptr\":47383337472,\"pmem_id\":\"0x27e82626d30\"}\n",
      "{\"hook\":\"free\",\"device_id\":0,\"mem_size\":30208,\"mem_ptr\":47383052800,\"pmem_id\":\"0x27eecd9c3b0\"}\n",
      "{\"hook\":\"malloc\",\"device_id\":0,\"size\":30000,\"mem_size\":30208,\"mem_ptr\":47383052800,\"pmem_id\":\"0x27eecd9c570\"}\n",
      "{\"hook\":\"malloc\",\"device_id\":0,\"size\":1,\"mem_size\":512,\"mem_ptr\":47383337984,\"pmem_id\":\"0x27e82626cb0\"}\n",
      "{\"hook\":\"free\",\"device_id\":0,\"mem_size\":30208,\"mem_ptr\":47383052800,\"pmem_id\":\"0x27eecd9c570\"}\n",
      "{\"hook\":\"malloc\",\"device_id\":0,\"size\":30000,\"mem_size\":30208,\"mem_ptr\":47383052800,\"pmem_id\":\"0x27eecc96fb0\"}\n",
      "{\"hook\":\"malloc\",\"device_id\":0,\"size\":1,\"mem_size\":512,\"mem_ptr\":47383338496,\"pmem_id\":\"0x27e826273f0\"}\n",
      "{\"hook\":\"free\",\"device_id\":0,\"mem_size\":30208,\"mem_ptr\":47383052800,\"pmem_id\":\"0x27eecc96fb0\"}\n",
      "{\"hook\":\"malloc\",\"device_id\":0,\"size\":30000,\"mem_size\":30208,\"mem_ptr\":47383052800,\"pmem_id\":\"0x27eecd9c3b0\"}\n",
      "{\"hook\":\"malloc\",\"device_id\":0,\"size\":1,\"mem_size\":512,\"mem_ptr\":47383339008,\"pmem_id\":\"0x27e82627670\"}\n",
      "{\"hook\":\"free\",\"device_id\":0,\"mem_size\":30208,\"mem_ptr\":47383052800,\"pmem_id\":\"0x27eecd9c3b0\"}\n",
      "{\"hook\":\"malloc\",\"device_id\":0,\"size\":30000,\"mem_size\":30208,\"mem_ptr\":47383052800,\"pmem_id\":\"0x27eecd9c570\"}\n",
      "{\"hook\":\"malloc\",\"device_id\":0,\"size\":1,\"mem_size\":512,\"mem_ptr\":47383339520,\"pmem_id\":\"0x27e82627cf0\"}\n",
      "{\"hook\":\"free\",\"device_id\":0,\"mem_size\":30208,\"mem_ptr\":47383052800,\"pmem_id\":\"0x27eecd9c570\"}\n",
      "{\"hook\":\"free\",\"device_id\":0,\"mem_size\":512,\"mem_ptr\":47383280640,\"pmem_id\":\"0x27e82612930\"}\n",
      "{\"hook\":\"free\",\"device_id\":0,\"mem_size\":512,\"mem_ptr\":47383280128,\"pmem_id\":\"0x27e826123b0\"}\n",
      "{\"hook\":\"free\",\"device_id\":0,\"mem_size\":512,\"mem_ptr\":47383279616,\"pmem_id\":\"0x27e82612870\"}\n",
      "{\"hook\":\"free\",\"device_id\":0,\"mem_size\":512,\"mem_ptr\":47383287296,\"pmem_id\":\"0x27e826125b0\"}\n",
      "{\"hook\":\"free\",\"device_id\":0,\"mem_size\":512,\"mem_ptr\":47383052288,\"pmem_id\":\"0x27eecd8cf30\"}\n",
      "[array(False), array(False), array(False), array(False), array(False), array(False), array(False), array(False), array(False), array(False), array(False), array(False), array(False), array(False), array(False), array(False), array(False), array(False), array(False), array(False), array(False), array(False), array(False), array(False), array(False), array(False), array(False), array(False), array(False), array(False), array(False), array(False), array(False), array(False), array(False), array(False), array(False), array(False), array(False), array(False), array(False), array(False), array(False), array(False), array(False), array(False), array(False), array(False), array(False), array(False), array(False), array(False), array(False), array(False), array(False)]\n"
     ]
    }
   ],
   "source": [
    "with memory_hooks.DebugPrintHook():\n",
    "    result = [ cp.any( g2==x) for x in g1[:55] ]\n",
    "print(result)"
   ]
  },
  {
   "cell_type": "code",
   "execution_count": 11,
   "metadata": {},
   "outputs": [
    {
     "name": "stdout",
     "output_type": "stream",
     "text": [
      "178688\n",
      "309760\n",
      "0\n"
     ]
    }
   ],
   "source": [
    "# You can access statistics of these memory pools.\n",
    "print(mempool.used_bytes())              # 0\n",
    "print(mempool.total_bytes())             # 0\n",
    "print(pinned_mempool.n_free_blocks())    # 0"
   ]
  },
  {
   "cell_type": "code",
   "execution_count": 12,
   "metadata": {},
   "outputs": [
    {
     "name": "stdout",
     "output_type": "stream",
     "text": [
      "Sun Feb 23 19:55:44 2020       \n",
      "+-----------------------------------------------------------------------------+\n",
      "| NVIDIA-SMI 441.22       Driver Version: 441.22       CUDA Version: 10.2     |\n",
      "|-------------------------------+----------------------+----------------------+\n",
      "| GPU  Name            TCC/WDDM | Bus-Id        Disp.A | Volatile Uncorr. ECC |\n",
      "| Fan  Temp  Perf  Pwr:Usage/Cap|         Memory-Usage | GPU-Util  Compute M. |\n",
      "|===============================+======================+======================|\n",
      "|   0  TITAN X (Pascal)   WDDM  | 00000000:01:00.0  On |                  N/A |\n",
      "| 23%   40C    P8    13W / 250W |   1605MiB / 12288MiB |      2%      Default |\n",
      "+-------------------------------+----------------------+----------------------+\n",
      "                                                                               \n",
      "+-----------------------------------------------------------------------------+\n",
      "| Processes:                                                       GPU Memory |\n",
      "|  GPU       PID   Type   Process name                             Usage      |\n",
      "|=============================================================================|\n",
      "|    0      1656    C+G   Insufficient Permissions                   N/A      |\n",
      "|    0      3676      C   ...cal\\Programs\\Python\\Python38\\python.exe N/A      |\n",
      "|    0      4184    C+G   ...1.0_x64__8wekyb3d8bbwe\\WinStore.App.exe N/A      |\n",
      "|    0      7360    C+G   ...5n1h2txyewy\\StartMenuExperienceHost.exe N/A      |\n",
      "|    0      8268    C+G   C:\\Windows\\System32\\MicrosoftEdgeCP.exe    N/A      |\n",
      "|    0     12296    C+G   ...86)\\Firetrust\\MailWasher\\MailWasher.exe N/A      |\n",
      "|    0     12988    C+G   ...dows.Cortana_cw5n1h2txyewy\\SearchUI.exe N/A      |\n",
      "|    0     14840    C+G   ...oftEdge_8wekyb3d8bbwe\\MicrosoftEdge.exe N/A      |\n",
      "|    0     16064    C+G   C:\\Windows\\System32\\MicrosoftEdgeCP.exe    N/A      |\n",
      "|    0     16140    C+G   C:\\Windows\\System32\\MicrosoftEdgeCP.exe    N/A      |\n",
      "|    0     16504    C+G   C:\\Windows\\System32\\MicrosoftEdgeCP.exe    N/A      |\n",
      "|    0     17028    C+G   C:\\Windows\\System32\\MicrosoftEdgeCP.exe    N/A      |\n",
      "|    0     17980    C+G   ...hell.Experiences.TextInput.InputApp.exe N/A      |\n",
      "|    0     18296    C+G   C:\\Windows\\System32\\MicrosoftEdgeCP.exe    N/A      |\n",
      "|    0     18624    C+G   C:\\Windows\\System32\\MicrosoftEdgeCP.exe    N/A      |\n",
      "|    0     20224    C+G   C:\\Windows\\System32\\MicrosoftEdgeCP.exe    N/A      |\n",
      "|    0     20312    C+G   C:\\Windows\\System32\\MicrosoftEdgeCP.exe    N/A      |\n",
      "|    0     20440    C+G   C:\\Windows\\System32\\MicrosoftEdgeCP.exe    N/A      |\n",
      "|    0     21280    C+G   C:\\Windows\\System32\\MicrosoftEdgeCP.exe    N/A      |\n",
      "|    0     21376    C+G   C:\\Windows\\System32\\MicrosoftEdgeCP.exe    N/A      |\n",
      "|    0     21948    C+G   C:\\Windows\\System32\\MicrosoftEdgeCP.exe    N/A      |\n",
      "|    0     22896    C+G   C:\\Windows\\System32\\MicrosoftEdgeCP.exe    N/A      |\n",
      "|    0     23480    C+G   ...6)\\Google\\Chrome\\Application\\chrome.exe N/A      |\n",
      "|    0     26240    C+G   ...ng.net\\GameCenter\\dlls\\wgc_renderer.exe N/A      |\n",
      "|    0     27856    C+G   C:\\Windows\\System32\\WWAHost.exe            N/A      |\n",
      "|    0     27996    C+G   ...mmersiveControlPanel\\SystemSettings.exe N/A      |\n",
      "+-----------------------------------------------------------------------------+\n"
     ]
    }
   ],
   "source": [
    "!nvidia-smi"
   ]
  }
 ],
 "metadata": {
  "kernelspec": {
   "display_name": "Python 3",
   "language": "python",
   "name": "python3"
  },
  "language_info": {
   "codemirror_mode": {
    "name": "ipython",
    "version": 3
   },
   "file_extension": ".py",
   "mimetype": "text/x-python",
   "name": "python",
   "nbconvert_exporter": "python",
   "pygments_lexer": "ipython3",
   "version": "3.6.10"
  }
 },
 "nbformat": 4,
 "nbformat_minor": 4
}
