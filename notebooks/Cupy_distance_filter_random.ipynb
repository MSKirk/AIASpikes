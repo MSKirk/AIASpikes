{
 "cells": [
  {
   "cell_type": "code",
   "execution_count": 1,
   "metadata": {},
   "outputs": [
    {
     "name": "stdout",
     "output_type": "stream",
     "text": [
      "cupy:  7.3.0\n"
     ]
    }
   ],
   "source": [
    "import numpy as np\n",
    "import cupy as cp\n",
    "print(\"cupy: \", cp.__version__)"
   ]
  },
  {
   "cell_type": "code",
   "execution_count": 116,
   "metadata": {},
   "outputs": [],
   "source": [
    "def xy_coords(coords_1d):\n",
    "    x = coords_1d % 4096\n",
    "    y = coords_1d // 4096\n",
    "    return x, y\n",
    "\n",
    "\n",
    "@cp.fuse()\n",
    "def dist_mat(x1, x2, y1, y2):\n",
    "    return (x1 - x2)*(x1 - x2) + (y1-y2)*(y1-y2)\n",
    "\n",
    "\n",
    "\n",
    "@cp.fuse()\n",
    "def dist_mat_mink(x1, x2):\n",
    "    return cp.sum((x1 - x2)*(x1 - x2), axis=-1)\n",
    "\n",
    "\n",
    "@cp.fuse()\n",
    "def dist_mat_dot(x1, x1b, y1, y1b):\n",
    "    dx = x1 - x1b\n",
    "    dy = y1 - y1b\n",
    "    \n",
    "    \n",
    "    return cp.dot(x1-x1b, x2)\n",
    "\n",
    "\n",
    "\n",
    "def dist_matrix(coords):\n",
    "    # Calculate distance matrix for a series of 1D-from-2D-ravelled coordinates. \n",
    "    \n",
    "    # unravel  the 2D coordinate system of the CCD (4096 x 4096). This is faster than unravel() functions\n",
    "    x, y = xy_coords(coords)\n",
    "    # Use broadcasting to get Euclidian distances. Seemed faster than using meshgrid functions.\n",
    "    xb = x[:, cp.newaxis]\n",
    "    yb = y[:, cp.newaxis]\n",
    "\n",
    "    dist_matrix = dist_mat(x, xb, y, yb)\n",
    "    \n",
    "    return dist_matrix.get()\n",
    "\n",
    "\n",
    "def dist_matrix_mink(coords):\n",
    "    # Calculate distance matrix for a series of 1D-from-2D-ravelled coordinates. \n",
    "    \n",
    "    # unravel  the 2D coordinate system of the CCD (4096 x 4096). This is faster than unravel() functions\n",
    "    xy = cp.array([coords%4096, coords//4096]).T\n",
    "    xy1 = xy[:, cp.newaxis, :]\n",
    "    xy2 = xy[cp.newaxis, :, :]\n",
    "\n",
    "    dist_matrix = dist_mat_mink(xy1, xy2)\n",
    "    \n",
    "    return dist_matrix.get()\n",
    "\n",
    "\n",
    "def dist_matrix_dot(coords):\n",
    "    # Calculate distance matrix for a series of 1D-from-2D-ravelled coordinates. \n",
    "    \n",
    "    # unravel  the 2D coordinate system of the CCD (4096 x 4096). This is faster than unravel() functions\n",
    "    xy = cp.array([coords%4096, coords//4096]).T\n",
    "    xyb = xy[:, :, cp.newaxis]\n",
    "\n",
    "    dist_matrix = dist_mat_dot(xy1, xy2)\n",
    "    \n",
    "    return dist_matrix.get()\n",
    "\n",
    "\n",
    "\n",
    "def where_near(coords1, coords2, distance):\n",
    "    # Get a boolean array of same size as coords1 assigning True / False to its elements within 'distance' from coords2\n",
    "    dmat = dist_matrix(coords1, coords2)\n",
    "    near_mask = dmat <= distance\n",
    "    near_mask_tri = cupy.triu(near_mask, k=1)\n",
    "    where_near = near_mask_tri.any(axis=1)\n",
    "    return where_near.get()"
   ]
  },
  {
   "cell_type": "code",
   "execution_count": 76,
   "metadata": {},
   "outputs": [],
   "source": [
    "nspikes = 10_000\n",
    "spikes = cp.random.randint(1, high=(4096*4096)-1, size=nspikes, dtype=np.int32)"
   ]
  },
  {
   "cell_type": "code",
   "execution_count": 31,
   "metadata": {},
   "outputs": [
    {
     "name": "stdout",
     "output_type": "stream",
     "text": [
      "CPU times: user 93.5 ms, sys: 41.3 ms, total: 135 ms\n",
      "Wall time: 134 ms\n"
     ]
    }
   ],
   "source": [
    "%time dm = dist_matrix(spikes)"
   ]
  },
  {
   "cell_type": "code",
   "execution_count": 115,
   "metadata": {},
   "outputs": [
    {
     "name": "stdout",
     "output_type": "stream",
     "text": [
      "CPU times: user 171 ms, sys: 71.2 ms, total: 242 ms\n",
      "Wall time: 241 ms\n"
     ]
    }
   ],
   "source": [
    "%time dm = dist_matrix_mink(spikes)"
   ]
  },
  {
   "cell_type": "code",
   "execution_count": 105,
   "metadata": {},
   "outputs": [],
   "source": [
    "xy = cp.array([spikes%4096, spikes//4096])\n",
    "d = cp.dot(xy.T, xy)"
   ]
  },
  {
   "cell_type": "code",
   "execution_count": 120,
   "metadata": {},
   "outputs": [],
   "source": [
    "xy = cp.array([spikes%4096, spikes//4096]).T\n",
    "xy1 = xy[:, cp.newaxis, :]\n",
    "xy2 = xy[cp.newaxis, :, :]"
   ]
  },
  {
   "cell_type": "code",
   "execution_count": 127,
   "metadata": {},
   "outputs": [
    {
     "data": {
      "text/plain": [
       "(1, 10000, 2)"
      ]
     },
     "execution_count": 127,
     "metadata": {},
     "output_type": "execute_result"
    }
   ],
   "source": [
    "dxy = xy-xy2\n",
    "dxy.shape"
   ]
  },
  {
   "cell_type": "code",
   "execution_count": null,
   "metadata": {},
   "outputs": [],
   "source": []
  }
 ],
 "metadata": {
  "kernelspec": {
   "display_name": "Python 3",
   "language": "python",
   "name": "python3"
  },
  "language_info": {
   "codemirror_mode": {
    "name": "ipython",
    "version": 3
   },
   "file_extension": ".py",
   "mimetype": "text/x-python",
   "name": "python",
   "nbconvert_exporter": "python",
   "pygments_lexer": "ipython3",
   "version": "3.7.6"
  }
 },
 "nbformat": 4,
 "nbformat_minor": 4
}
