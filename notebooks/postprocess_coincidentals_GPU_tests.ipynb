{
 "cells": [
  {
   "cell_type": "code",
   "execution_count": 1,
   "metadata": {},
   "outputs": [],
   "source": [
    "import os\n",
    "import pandas as pd\n",
    "import numpy as np\n",
    "import fitsio\n",
    "import cudf\n",
    "from numba import cuda\n",
    "import cupy as cp\n",
    "from pathlib import Path, PurePath"
   ]
  },
  {
   "cell_type": "code",
   "execution_count": 2,
   "metadata": {},
   "outputs": [],
   "source": [
    "def get_dist_mat(coords):\n",
    "    coords_x = coords % 4096\n",
    "    coords_y = coords // 4096\n",
    "    coords_xb = coords_x[:, np.newaxis]\n",
    "    coords_yb = coords_y[:, np.newaxis]\n",
    "    dx_broadc = coords_x - coords_xb\n",
    "    dy_broadc = coords_y - coords_yb\n",
    "    dist_matrix = dx_broadc**2 + dy_broadc**2\n",
    "    return dist_matrix\n",
    "\n",
    "def get_dist_mat_gpu(coords):\n",
    "    coords_x = coords % 4096\n",
    "    coords_y = coords // 4096\n",
    "    coords_xb = coords_x[:, cp.newaxis]\n",
    "    coords_yb = coords_y[:, cp.newaxis]\n",
    "#     dx_broadc = coords_x - coords_xb\n",
    "#     dy_broadc = coords_y - coords_yb\n",
    "#     dist_matrix = (coords_x - coords_xb)**2 + (coords_y - coords_yb)**2\n",
    "    return (coords_x - coords_xb)**2 + (coords_y - coords_yb)**2\n",
    "\n",
    "def get_rows_list(array, w1_idx, w2_idx):\n",
    "    np_mask = (array[:, w1_idx] == 1) & (array[:, w2_idx] == 1)\n",
    "    df_idx = np.nonzero(np_mask)[0]\n",
    "    coords = array[np_mask, 0]\n",
    "    dist_matrix = get_dist_mat(coords)\n",
    "    select = dist_matrix < 2 \n",
    "    select2 = np.triu(select, k=1)\n",
    "    r,c = np.nonzero(select2)\n",
    "    idx1, idx2 = df_idx[r], df_idx[c]\n",
    "    return idx1, idx2\n",
    "\n",
    "def get_rows_list_gpu(array, w1_idx, w2_idx):\n",
    "    mask = (array[:, w1_idx] == 1) & (array[:, w2_idx] == 1)\n",
    "    df_idx = cp.nonzero(mask)[0]\n",
    "    coords = array[df_idx, 0]\n",
    "    dist_matrix = get_dist_mat_gpu(coords)\n",
    "    select = dist_matrix < 2 \n",
    "    select2 = cp.triu(select, k=1)\n",
    "    r,c = cp.nonzero(select2)\n",
    "    idx1, idx2 = df_idx[r], df_idx[c]\n",
    "    return idx1, idx2\n",
    "\n",
    "\n",
    "def get_2coincidentals(array, w1_idx, w2_idx):\n",
    "    idx1, idx2 = get_rows_list(array, w1_idx, w2_idx)\n",
    "    records = [df0.loc[[i1, i2]][['coords', 'int1', 'int2', 'wref']] for i1, i2 in zip(idx1, idx2)]\n",
    "    df_records = pd.concat(records, keys=list(range(len(records))))\n",
    "    return df_records\n",
    "\n",
    "\n",
    "def get_2clusters(array, w1_idx, w2_idx):\n",
    "    idx1, idx2 = get_rows_list(array, w1_idx, w2_idx)\n",
    "    # To remove conjugates\n",
    "#     keep_mask = arr0[idx1, 3] != arr0[idx2, 3] \n",
    "#     recordsf = np.concatenate((arr0[idx1[keep_mask], 0:4], arr0[idx2[keep_mask], 0:4]), axis=1)\n",
    "    \n",
    "    records = np.concatenate((array[idx1, 0:4], array[idx2, 0:4]), axis=1)\n",
    "    df_records = pd.DataFrame(records, columns=['coords1', 'int1_before', 'int1_after', 'wref1', 'coords2', 'int2_before', 'int2_after', 'wref2'])\n",
    "\n",
    "    return df_records\n",
    "\n",
    "\n",
    "def get_2clusters_gpu(gpu_array, w1_idx, w2_idx):\n",
    "    gidx1, gidx2 = get_rows_list_gpu(gpu_array, w1_idx, w2_idx)\n",
    "    grecords = cp.concatenate([gpu_array[gidx1, 0:4], gpu_array[gidx2, 0:4]], axis=1)\n",
    "    #grecords2 = cp.asfortranarray(grecords)\n",
    "    #cudf_records = cudf.DataFrame.from_gpu_matrix(grecords2, columns=['coords1', 'int1_before', 'int1_after', 'wref1', 'coords2', 'int2_before', 'int2_after', 'wref2'])\n",
    "    return records"
   ]
  },
  {
   "cell_type": "code",
   "execution_count": 3,
   "metadata": {},
   "outputs": [],
   "source": [
    "# data_dir = os.environ['SPIKESDATA']\n",
    "# spikes_db = pd.read_parquet(os.path.join(data_dir, 'spikes_df_2010.parquet'), engine='pyarrow')\n",
    "# spikes_db2 = spikes_db.set_index(['GroupNumber', 'Time'])"
   ]
  },
  {
   "cell_type": "markdown",
   "metadata": {},
   "source": [
    "### Get the filepaths (typically 7) for a given group"
   ]
  },
  {
   "cell_type": "code",
   "execution_count": 4,
   "metadata": {},
   "outputs": [
    {
     "data": {
      "text/html": [
       "<div>\n",
       "<style scoped>\n",
       "    .dataframe tbody tr th:only-of-type {\n",
       "        vertical-align: middle;\n",
       "    }\n",
       "\n",
       "    .dataframe tbody tr th {\n",
       "        vertical-align: top;\n",
       "    }\n",
       "\n",
       "    .dataframe thead th {\n",
       "        text-align: right;\n",
       "    }\n",
       "</style>\n",
       "<table border=\"1\" class=\"dataframe\">\n",
       "  <thead>\n",
       "    <tr style=\"text-align: right;\">\n",
       "      <th></th>\n",
       "      <th>coords</th>\n",
       "      <th>int1</th>\n",
       "      <th>int2</th>\n",
       "      <th>wref</th>\n",
       "      <th>w0</th>\n",
       "      <th>w1</th>\n",
       "      <th>w2</th>\n",
       "      <th>w3</th>\n",
       "      <th>w4</th>\n",
       "      <th>w5</th>\n",
       "      <th>w6</th>\n",
       "    </tr>\n",
       "    <tr>\n",
       "      <th>GroupNumber</th>\n",
       "      <th></th>\n",
       "      <th></th>\n",
       "      <th></th>\n",
       "      <th></th>\n",
       "      <th></th>\n",
       "      <th></th>\n",
       "      <th></th>\n",
       "      <th></th>\n",
       "      <th></th>\n",
       "      <th></th>\n",
       "      <th></th>\n",
       "    </tr>\n",
       "  </thead>\n",
       "  <tbody>\n",
       "    <tr>\n",
       "      <th>0</th>\n",
       "      <td>18917</td>\n",
       "      <td>122</td>\n",
       "      <td>11</td>\n",
       "      <td>0</td>\n",
       "      <td>1</td>\n",
       "      <td>1</td>\n",
       "      <td>0</td>\n",
       "      <td>0</td>\n",
       "      <td>0</td>\n",
       "      <td>0</td>\n",
       "      <td>0</td>\n",
       "    </tr>\n",
       "    <tr>\n",
       "      <th>0</th>\n",
       "      <td>19192</td>\n",
       "      <td>124</td>\n",
       "      <td>7</td>\n",
       "      <td>0</td>\n",
       "      <td>1</td>\n",
       "      <td>0</td>\n",
       "      <td>0</td>\n",
       "      <td>1</td>\n",
       "      <td>0</td>\n",
       "      <td>0</td>\n",
       "      <td>0</td>\n",
       "    </tr>\n",
       "    <tr>\n",
       "      <th>0</th>\n",
       "      <td>23013</td>\n",
       "      <td>75</td>\n",
       "      <td>10</td>\n",
       "      <td>0</td>\n",
       "      <td>1</td>\n",
       "      <td>1</td>\n",
       "      <td>0</td>\n",
       "      <td>0</td>\n",
       "      <td>0</td>\n",
       "      <td>0</td>\n",
       "      <td>0</td>\n",
       "    </tr>\n",
       "    <tr>\n",
       "      <th>0</th>\n",
       "      <td>23287</td>\n",
       "      <td>157</td>\n",
       "      <td>9</td>\n",
       "      <td>0</td>\n",
       "      <td>1</td>\n",
       "      <td>0</td>\n",
       "      <td>0</td>\n",
       "      <td>1</td>\n",
       "      <td>0</td>\n",
       "      <td>0</td>\n",
       "      <td>0</td>\n",
       "    </tr>\n",
       "    <tr>\n",
       "      <th>0</th>\n",
       "      <td>27109</td>\n",
       "      <td>38</td>\n",
       "      <td>9</td>\n",
       "      <td>0</td>\n",
       "      <td>1</td>\n",
       "      <td>1</td>\n",
       "      <td>0</td>\n",
       "      <td>0</td>\n",
       "      <td>0</td>\n",
       "      <td>0</td>\n",
       "      <td>0</td>\n",
       "    </tr>\n",
       "  </tbody>\n",
       "</table>\n",
       "</div>"
      ],
      "text/plain": [
       "             coords  int1  int2  wref  w0  w1  w2  w3  w4  w5  w6\n",
       "GroupNumber                                                      \n",
       "0             18917   122    11     0   1   1   0   0   0   0   0\n",
       "0             19192   124     7     0   1   0   0   1   0   0   0\n",
       "0             23013    75    10     0   1   1   0   0   0   0   0\n",
       "0             23287   157     9     0   1   0   0   1   0   0   0\n",
       "0             27109    38     9     0   1   1   0   0   0   0   0"
      ]
     },
     "execution_count": 4,
     "metadata": {},
     "output_type": "execute_result"
    }
   ],
   "source": [
    "parquet_dir = os.path.expanduser('~/raphael/data/AIA_Spikes/parquet_dataframes')\n",
    "df0 = pd.read_parquet(PurePath(parquet_dir, '2010/05/df_coincidentals_2010_05_13.parquet'))\n",
    "df0.set_index('GroupNumber', inplace=True)\n",
    "df0.loc[0].head()"
   ]
  },
  {
   "cell_type": "markdown",
   "metadata": {},
   "source": [
    "### Design method to extract unique coincidental events, lifting any ambiguity (conjugates, redundancies, ...)"
   ]
  },
  {
   "cell_type": "code",
   "execution_count": 5,
   "metadata": {},
   "outputs": [
    {
     "name": "stdout",
     "output_type": "stream",
     "text": [
      "796774\n"
     ]
    },
    {
     "data": {
      "text/html": [
       "<div>\n",
       "<style scoped>\n",
       "    .dataframe tbody tr th:only-of-type {\n",
       "        vertical-align: middle;\n",
       "    }\n",
       "\n",
       "    .dataframe tbody tr th {\n",
       "        vertical-align: top;\n",
       "    }\n",
       "\n",
       "    .dataframe thead th {\n",
       "        text-align: right;\n",
       "    }\n",
       "</style>\n",
       "<table border=\"1\" class=\"dataframe\">\n",
       "  <thead>\n",
       "    <tr style=\"text-align: right;\">\n",
       "      <th></th>\n",
       "      <th>coords</th>\n",
       "      <th>int1</th>\n",
       "      <th>int2</th>\n",
       "      <th>wref</th>\n",
       "      <th>w0</th>\n",
       "      <th>w1</th>\n",
       "      <th>w2</th>\n",
       "      <th>w3</th>\n",
       "      <th>w4</th>\n",
       "      <th>w5</th>\n",
       "      <th>w6</th>\n",
       "    </tr>\n",
       "    <tr>\n",
       "      <th>GroupNumber</th>\n",
       "      <th></th>\n",
       "      <th></th>\n",
       "      <th></th>\n",
       "      <th></th>\n",
       "      <th></th>\n",
       "      <th></th>\n",
       "      <th></th>\n",
       "      <th></th>\n",
       "      <th></th>\n",
       "      <th></th>\n",
       "      <th></th>\n",
       "    </tr>\n",
       "  </thead>\n",
       "  <tbody>\n",
       "    <tr>\n",
       "      <th>49</th>\n",
       "      <td>14929311</td>\n",
       "      <td>10</td>\n",
       "      <td>1</td>\n",
       "      <td>6</td>\n",
       "      <td>0</td>\n",
       "      <td>0</td>\n",
       "      <td>1</td>\n",
       "      <td>0</td>\n",
       "      <td>0</td>\n",
       "      <td>0</td>\n",
       "      <td>1</td>\n",
       "    </tr>\n",
       "    <tr>\n",
       "      <th>49</th>\n",
       "      <td>14995888</td>\n",
       "      <td>35</td>\n",
       "      <td>1</td>\n",
       "      <td>6</td>\n",
       "      <td>0</td>\n",
       "      <td>0</td>\n",
       "      <td>0</td>\n",
       "      <td>1</td>\n",
       "      <td>0</td>\n",
       "      <td>0</td>\n",
       "      <td>1</td>\n",
       "    </tr>\n",
       "    <tr>\n",
       "      <th>49</th>\n",
       "      <td>15476773</td>\n",
       "      <td>14</td>\n",
       "      <td>1</td>\n",
       "      <td>6</td>\n",
       "      <td>0</td>\n",
       "      <td>0</td>\n",
       "      <td>0</td>\n",
       "      <td>0</td>\n",
       "      <td>0</td>\n",
       "      <td>1</td>\n",
       "      <td>1</td>\n",
       "    </tr>\n",
       "    <tr>\n",
       "      <th>49</th>\n",
       "      <td>15684709</td>\n",
       "      <td>14</td>\n",
       "      <td>0</td>\n",
       "      <td>6</td>\n",
       "      <td>0</td>\n",
       "      <td>0</td>\n",
       "      <td>1</td>\n",
       "      <td>0</td>\n",
       "      <td>0</td>\n",
       "      <td>0</td>\n",
       "      <td>1</td>\n",
       "    </tr>\n",
       "    <tr>\n",
       "      <th>49</th>\n",
       "      <td>15993470</td>\n",
       "      <td>15</td>\n",
       "      <td>0</td>\n",
       "      <td>6</td>\n",
       "      <td>1</td>\n",
       "      <td>0</td>\n",
       "      <td>0</td>\n",
       "      <td>0</td>\n",
       "      <td>0</td>\n",
       "      <td>0</td>\n",
       "      <td>1</td>\n",
       "    </tr>\n",
       "  </tbody>\n",
       "</table>\n",
       "</div>"
      ],
      "text/plain": [
       "               coords  int1  int2  wref  w0  w1  w2  w3  w4  w5  w6\n",
       "GroupNumber                                                        \n",
       "49           14929311    10     1     6   0   0   1   0   0   0   1\n",
       "49           14995888    35     1     6   0   0   0   1   0   0   1\n",
       "49           15476773    14     1     6   0   0   0   0   0   1   1\n",
       "49           15684709    14     0     6   0   0   1   0   0   0   1\n",
       "49           15993470    15     0     6   1   0   0   0   0   0   1"
      ]
     },
     "execution_count": 5,
     "metadata": {},
     "output_type": "execute_result"
    }
   ],
   "source": [
    "w1_idx = 4\n",
    "w2_idx = 5\n",
    "df_ = df0.loc[range(50)] # This is very slow on HP Z8. Seems faster on Dell laptop. Need to test again\n",
    "print(len(df_))\n",
    "df_.iloc[-10:-5]"
   ]
  },
  {
   "cell_type": "code",
   "execution_count": 6,
   "metadata": {},
   "outputs": [
    {
     "data": {
      "text/plain": [
       "34.2363828125"
      ]
     },
     "execution_count": 6,
     "metadata": {},
     "output_type": "execute_result"
    }
   ],
   "source": [
    "df_.values.nbytes/(1024 *1e3)"
   ]
  },
  {
   "cell_type": "code",
   "execution_count": 7,
   "metadata": {},
   "outputs": [],
   "source": [
    "array = df_.values\n",
    "np_mask = (array[:, w1_idx] == 1) & (array[:, w2_idx] == 1)\n",
    "df_idx = np.nonzero(np_mask)[0]\n",
    "coords = array[np_mask, 0]"
   ]
  },
  {
   "cell_type": "code",
   "execution_count": 8,
   "metadata": {},
   "outputs": [],
   "source": [
    "dist_matrix = get_dist_mat(coords)"
   ]
  },
  {
   "cell_type": "code",
   "execution_count": 14,
   "metadata": {},
   "outputs": [
    {
     "name": "stdout",
     "output_type": "stream",
     "text": [
      "(23260, 23260)\n"
     ]
    },
    {
     "data": {
      "text/plain": [
       "2113.3890625"
      ]
     },
     "execution_count": 14,
     "metadata": {},
     "output_type": "execute_result"
    }
   ],
   "source": [
    "print(dist_matrix.shape)\n",
    "dist_matrix.nbytes/(1024*1e3)"
   ]
  },
  {
   "cell_type": "code",
   "execution_count": 10,
   "metadata": {},
   "outputs": [
    {
     "name": "stdout",
     "output_type": "stream",
     "text": [
      "CPU times: user 1.03 s, sys: 2.17 s, total: 3.2 s\n",
      "Wall time: 3.2 s\n"
     ]
    }
   ],
   "source": [
    "%time dist_matrix = get_dist_mat(coords)"
   ]
  },
  {
   "cell_type": "markdown",
   "metadata": {},
   "source": [
    "## Testing GPU versions"
   ]
  },
  {
   "cell_type": "code",
   "execution_count": 11,
   "metadata": {},
   "outputs": [],
   "source": [
    "gcoords = cp.asarray(coords)"
   ]
  },
  {
   "cell_type": "code",
   "execution_count": 12,
   "metadata": {},
   "outputs": [],
   "source": [
    "gdist_matrix = get_dist_mat_gpu(gcoords)"
   ]
  },
  {
   "cell_type": "code",
   "execution_count": 13,
   "metadata": {},
   "outputs": [
    {
     "name": "stdout",
     "output_type": "stream",
     "text": [
      "CPU times: user 1.23 ms, sys: 20.8 ms, total: 22 ms\n",
      "Wall time: 19.9 ms\n"
     ]
    }
   ],
   "source": [
    "%time gdist_matrix = get_dist_mat_gpu(gcoords)"
   ]
  },
  {
   "cell_type": "code",
   "execution_count": null,
   "metadata": {},
   "outputs": [],
   "source": [
    "gdist_matrix.shape"
   ]
  },
  {
   "cell_type": "code",
   "execution_count": null,
   "metadata": {},
   "outputs": [],
   "source": [
    "gdf0 = cudf.DataFrame.from_pandas(df0)"
   ]
  },
  {
   "cell_type": "code",
   "execution_count": null,
   "metadata": {},
   "outputs": [],
   "source": [
    "cuarr0 = cp.asarray(arr0)\n",
    "print(cuarr0.shape)"
   ]
  },
  {
   "cell_type": "code",
   "execution_count": null,
   "metadata": {},
   "outputs": [],
   "source": [
    "%time idx1, idx2 = get_rows_list(arr0, w1_idx, w2_idx)"
   ]
  },
  {
   "cell_type": "code",
   "execution_count": null,
   "metadata": {},
   "outputs": [],
   "source": [
    "%timeit gidx1, gidx2 = get_rows_list_gpu(cuarr0, w1_idx, w2_idx)"
   ]
  },
  {
   "cell_type": "code",
   "execution_count": null,
   "metadata": {},
   "outputs": [],
   "source": [
    "array = cuarr0"
   ]
  },
  {
   "cell_type": "code",
   "execution_count": null,
   "metadata": {},
   "outputs": [],
   "source": [
    "%%timeit\n",
    "mask = (array[:, w1_idx] == 1) & (array[:, w2_idx] == 1)\n",
    "df_idx = cp.nonzero(mask)[0]"
   ]
  },
  {
   "cell_type": "code",
   "execution_count": null,
   "metadata": {},
   "outputs": [],
   "source": [
    "len(df_idx)"
   ]
  },
  {
   "cell_type": "code",
   "execution_count": null,
   "metadata": {},
   "outputs": [],
   "source": [
    "coords = array[df_idx, 0]"
   ]
  },
  {
   "cell_type": "code",
   "execution_count": null,
   "metadata": {},
   "outputs": [],
   "source": [
    "%timeit dist_matrix = get_dist_mat_gpu(coords)"
   ]
  },
  {
   "cell_type": "code",
   "execution_count": null,
   "metadata": {},
   "outputs": [],
   "source": [
    "select = dist_matrix < 2 \n",
    "select2 = cp.triu(select, k=1)\n",
    "r,c = cp.nonzero(select2)\n",
    "idx1, idx2 = df_idx[r], df_idx[c]"
   ]
  },
  {
   "cell_type": "code",
   "execution_count": null,
   "metadata": {},
   "outputs": [],
   "source": [
    "gidx1, gidx2 = get_rows_list_gpu(cuarr0, w1_idx, w2_idx)\n",
    "grecords = cp.concatenate([cuarr0[gidx1, 0:4], cuarr0[gidx2, 0:4]], axis=1)\n",
    "grecords2 = cp.asfortranarray(grecords)\n",
    "cudf_records = cudf.DataFrame.from_gpu_matrix(grecords2, columns=['coords1', 'int1_before', 'int1_after', 'wref1', 'coords2', 'int2_before', 'int2_after', 'wref2'])\n",
    "cudf_records.head()"
   ]
  },
  {
   "cell_type": "code",
   "execution_count": null,
   "metadata": {},
   "outputs": [],
   "source": [
    "%%timeit\n",
    "gidx1, gidx2 = get_rows_list_gpu(cuarr0, w1_idx, w2_idx)\n",
    "grecords = cp.concatenate([cuarr0[gidx1, 0:4], cuarr0[gidx2, 0:4]], axis=1)\n",
    "# grecords2 = cp.asfortranarray(grecords)\n",
    "# cudf_records = cudf.DataFrame.from_gpu_matrix(grecords2, columns=['coords1', 'int1_before', 'int1_after', 'wref1', 'coords2', 'int2_before', 'int2_after', 'wref2'])\n",
    "#cudf_records.head()"
   ]
  },
  {
   "cell_type": "code",
   "execution_count": null,
   "metadata": {},
   "outputs": [],
   "source": [
    "%timeit cudf_records = cudf.DataFrame.from_gpu_matrix(grecords, columns=['coords1', 'int1_before', 'int1_after', 'wref1', 'coords2', 'int2_before', 'int2_after', 'wref2'])"
   ]
  },
  {
   "cell_type": "code",
   "execution_count": null,
   "metadata": {},
   "outputs": [],
   "source": [
    "array = cuarr0"
   ]
  },
  {
   "cell_type": "code",
   "execution_count": null,
   "metadata": {},
   "outputs": [],
   "source": [
    "%%timeit\n",
    "mask = (array[:, w1_idx] == 1) & (array[:, w2_idx] == 1)\n",
    "df_idx = cp.nonzero(mask)[0]\n",
    "coords = array[df_idx, 0]\n",
    "coords_x = coords % 4096\n",
    "coords_y = coords // 4096\n",
    "coords_xb = coords_x[:, cp.newaxis]\n",
    "coords_yb = coords_y[:, cp.newaxis]\n",
    "dx_broadc = coords_x - coords_xb\n",
    "dy_broadc = coords_y - coords_yb\n",
    "dist_matrix = cp.sqrt(dx_broadc**2 + dy_broadc**2)"
   ]
  },
  {
   "cell_type": "code",
   "execution_count": null,
   "metadata": {},
   "outputs": [],
   "source": [
    "%%timeit\n",
    "mask = (array[:, w1_idx] == 1) & (array[:, w2_idx] == 1)\n",
    "df_idx = cp.nonzero(mask)[0]\n",
    "coords = array[df_idx, 0]\n",
    "coords_x = coords % 4096\n",
    "coords_y = coords // 4096\n",
    "coords2d = cp.stack([coords_x, coords_y], axis=1)\n",
    "diff = coords2d[:, cp.newaxis, :] - coords2d\n",
    "distance_matrix = cp.sqrt(cp.sum(diff**2, axis=2))"
   ]
  },
  {
   "cell_type": "code",
   "execution_count": null,
   "metadata": {},
   "outputs": [],
   "source": [
    "print(coords_x.shape, coords_xb.shape)"
   ]
  },
  {
   "cell_type": "code",
   "execution_count": null,
   "metadata": {},
   "outputs": [],
   "source": [
    "%timeit a = coords_x[:, cp.newaxis]"
   ]
  },
  {
   "cell_type": "code",
   "execution_count": null,
   "metadata": {},
   "outputs": [],
   "source": [
    "%timeit a = coords_x.reshape([*coords.shape, 1])"
   ]
  },
  {
   "cell_type": "code",
   "execution_count": null,
   "metadata": {},
   "outputs": [],
   "source": [
    "%timeit mask = (array[:, w1_idx] == 1) & (array[:, w2_idx] == 1)"
   ]
  },
  {
   "cell_type": "code",
   "execution_count": null,
   "metadata": {},
   "outputs": [],
   "source": [
    "%timeit df_idx = cp.nonzero(mask)[0]"
   ]
  },
  {
   "cell_type": "code",
   "execution_count": null,
   "metadata": {},
   "outputs": [],
   "source": [
    "%timeit coords = array[df_idx, 0]"
   ]
  },
  {
   "cell_type": "code",
   "execution_count": null,
   "metadata": {},
   "outputs": [],
   "source": [
    "%timeit coords2d = cp.stack(cp.unravel_index(coords, [4096, 4096]), axis=1)"
   ]
  },
  {
   "cell_type": "code",
   "execution_count": null,
   "metadata": {},
   "outputs": [],
   "source": [
    "%timeit coords2d = cp.stack([coords_x, coords_y], axis=1)"
   ]
  },
  {
   "cell_type": "code",
   "execution_count": null,
   "metadata": {},
   "outputs": [],
   "source": [
    "%timeit a = dx_broadc**2"
   ]
  },
  {
   "cell_type": "code",
   "execution_count": null,
   "metadata": {},
   "outputs": [],
   "source": []
  },
  {
   "cell_type": "code",
   "execution_count": null,
   "metadata": {},
   "outputs": [],
   "source": []
  }
 ],
 "metadata": {
  "kernelspec": {
   "display_name": "Python 3",
   "language": "python",
   "name": "python3"
  },
  "language_info": {
   "codemirror_mode": {
    "name": "ipython",
    "version": 3
   },
   "file_extension": ".py",
   "mimetype": "text/x-python",
   "name": "python",
   "nbconvert_exporter": "python",
   "pygments_lexer": "ipython3",
   "version": "3.7.3"
  }
 },
 "nbformat": 4,
 "nbformat_minor": 4
}
