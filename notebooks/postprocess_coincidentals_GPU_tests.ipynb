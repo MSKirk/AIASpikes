{
 "cells": [
  {
   "cell_type": "code",
   "execution_count": null,
   "metadata": {},
   "outputs": [],
   "source": [
    "import os\n",
    "import pandas as pd\n",
    "import numpy as np\n",
    "import fitsio\n",
    "import cudf\n",
    "from numba import cuda\n",
    "import cupy as cp\n",
    "from pathlib import Path, PurePath"
   ]
  },
  {
   "cell_type": "code",
   "execution_count": null,
   "metadata": {},
   "outputs": [],
   "source": [
    "def get_dist_mat(coords):\n",
    "    coords_x = coords % 4096\n",
    "    coords_y = coords // 4096\n",
    "    coords_xb = coords_x[:, np.newaxis]\n",
    "    coords_yb = coords_y[:, np.newaxis]\n",
    "    dx_broadc = coords_x - coords_xb\n",
    "    dy_broadc = coords_y - coords_yb\n",
    "    dist_matrix = dx_broadc**2 + dy_broadc**2\n",
    "    return dist_matrix\n",
    "\n",
    "def get_dist_mat_gpu(coords):\n",
    "    coords_x = coords % 4096\n",
    "    coords_y = coords // 4096\n",
    "    coords_xb = coords_x[:, cp.newaxis]\n",
    "    coords_yb = coords_y[:, cp.newaxis]\n",
    "#     dx_broadc = coords_x - coords_xb\n",
    "#     dy_broadc = coords_y - coords_yb\n",
    "#     dist_matrix = (coords_x - coords_xb)**2 + (coords_y - coords_yb)**2\n",
    "    return (coords_x - coords_xb)**2 + (coords_y - coords_yb)**2\n",
    "\n",
    "def get_rows_list(array, w1_idx, w2_idx):\n",
    "    np_mask = (array[:, w1_idx] == 1) & (array[:, w2_idx] == 1)\n",
    "    df_idx = np.nonzero(np_mask)[0]\n",
    "    coords = array[np_mask, 0]\n",
    "    dist_matrix = get_dist_mat(coords)\n",
    "    select = dist_matrix < 2 \n",
    "    select2 = np.triu(select, k=1)\n",
    "    r,c = np.nonzero(select2)\n",
    "    idx1, idx2 = df_idx[r], df_idx[c]\n",
    "    return idx1, idx2\n",
    "\n",
    "def get_rows_list_gpu(array, w1_idx, w2_idx):\n",
    "    mask = (array[:, w1_idx] == 1) & (array[:, w2_idx] == 1)\n",
    "    df_idx = cp.nonzero(mask)[0]\n",
    "    coords = array[df_idx, 0]\n",
    "    dist_matrix = get_dist_mat_gpu(coords)\n",
    "    select = dist_matrix < 2 \n",
    "    select2 = cp.triu(select, k=1)\n",
    "    r,c = cp.nonzero(select2)\n",
    "    idx1, idx2 = df_idx[r], df_idx[c]\n",
    "    return idx1, idx2\n",
    "\n",
    "\n",
    "def get_2coincidentals(array, w1_idx, w2_idx):\n",
    "    idx1, idx2 = get_rows_list(array, w1_idx, w2_idx)\n",
    "    records = [df0.loc[[i1, i2]][['coords', 'int1', 'int2', 'wref']] for i1, i2 in zip(idx1, idx2)]\n",
    "    df_records = pd.concat(records, keys=list(range(len(records))))\n",
    "    return df_records\n",
    "\n",
    "\n",
    "def get_2clusters(array, w1_idx, w2_idx):\n",
    "    idx1, idx2 = get_rows_list(array, w1_idx, w2_idx)\n",
    "    # To remove conjugates\n",
    "#     keep_mask = arr0[idx1, 3] != arr0[idx2, 3] \n",
    "#     recordsf = np.concatenate((arr0[idx1[keep_mask], 0:4], arr0[idx2[keep_mask], 0:4]), axis=1)\n",
    "    \n",
    "    records = np.concatenate((array[idx1, 0:4], array[idx2, 0:4]), axis=1)\n",
    "    df_records = pd.DataFrame(records, columns=['coords1', 'int1_before', 'int1_after', 'wref1', 'coords2', 'int2_before', 'int2_after', 'wref2'])\n",
    "\n",
    "    return df_records\n",
    "\n",
    "\n",
    "def get_2clusters_gpu(gpu_array, w1_idx, w2_idx):\n",
    "    gidx1, gidx2 = get_rows_list_gpu(gpu_array, w1_idx, w2_idx)\n",
    "    grecords = cp.concatenate([gpu_array[gidx1, 0:4], gpu_array[gidx2, 0:4]], axis=1)\n",
    "    #grecords2 = cp.asfortranarray(grecords)\n",
    "    #cudf_records = cudf.DataFrame.from_gpu_matrix(grecords2, columns=['coords1', 'int1_before', 'int1_after', 'wref1', 'coords2', 'int2_before', 'int2_after', 'wref2'])\n",
    "    return records"
   ]
  },
  {
   "cell_type": "code",
   "execution_count": null,
   "metadata": {},
   "outputs": [],
   "source": [
    "# data_dir = os.environ['SPIKESDATA']\n",
    "# spikes_db = pd.read_parquet(os.path.join(data_dir, 'spikes_df_2010.parquet'), engine='pyarrow')\n",
    "# spikes_db2 = spikes_db.set_index(['GroupNumber', 'Time'])"
   ]
  },
  {
   "cell_type": "markdown",
   "metadata": {},
   "source": [
    "### Get the filepaths (typically 7) for a given group"
   ]
  },
  {
   "cell_type": "code",
   "execution_count": null,
   "metadata": {},
   "outputs": [],
   "source": [
    "parquet_dir = os.path.expanduser('~/Data/AIA_Spikes/SPIKESDF/parquet_dataframes2')\n",
    "df0 = pd.read_parquet(PurePath(parquet_dir, '2010/05/df_coincidentals_2010_05_13.parquet'))\n",
    "df0.set_index('GroupNumber', inplace=True)\n",
    "df0.loc[0].head()"
   ]
  },
  {
   "cell_type": "markdown",
   "metadata": {},
   "source": [
    "### Design method to extract unique coincidental events, lifting any ambiguity (conjugates, redundancies, ...)"
   ]
  },
  {
   "cell_type": "code",
   "execution_count": null,
   "metadata": {},
   "outputs": [],
   "source": [
    "w1_idx = 4\n",
    "w2_idx = 5\n",
    "df_ = df0.loc[range(50)]\n",
    "print(len(df_))\n",
    "df_.iloc[-10:-5]"
   ]
  },
  {
   "cell_type": "code",
   "execution_count": null,
   "metadata": {},
   "outputs": [],
   "source": [
    "df_.values.nbytes/(1024 *1e3)"
   ]
  },
  {
   "cell_type": "code",
   "execution_count": null,
   "metadata": {},
   "outputs": [],
   "source": [
    "array = df_.values\n",
    "np_mask = (array[:, w1_idx] == 1) & (array[:, w2_idx] == 1)\n",
    "df_idx = np.nonzero(np_mask)[0]\n",
    "coords = array[np_mask, 0]"
   ]
  },
  {
   "cell_type": "code",
   "execution_count": null,
   "metadata": {},
   "outputs": [],
   "source": [
    "dist_matrix = get_dist_mat(coords)"
   ]
  },
  {
   "cell_type": "code",
   "execution_count": null,
   "metadata": {},
   "outputs": [],
   "source": [
    "dist_matrix.nbytes/(1024*1e3)"
   ]
  },
  {
   "cell_type": "code",
   "execution_count": null,
   "metadata": {},
   "outputs": [],
   "source": [
    "df0_records = get_2clusters(df_.values, w1_idx, w2_idx)"
   ]
  },
  {
   "cell_type": "code",
   "execution_count": null,
   "metadata": {},
   "outputs": [],
   "source": [
    "%timeit dist_matrix = get_dist_mat(coords)"
   ]
  },
  {
   "cell_type": "markdown",
   "metadata": {},
   "source": [
    "## Testing GPU versions"
   ]
  },
  {
   "cell_type": "code",
   "execution_count": null,
   "metadata": {},
   "outputs": [],
   "source": [
    "gcoords = cp.asarray(coords)"
   ]
  },
  {
   "cell_type": "code",
   "execution_count": null,
   "metadata": {},
   "outputs": [],
   "source": [
    "%time gdist_matrix = get_dist_mat_gpu(gcoords)"
   ]
  },
  {
   "cell_type": "code",
   "execution_count": null,
   "metadata": {},
   "outputs": [],
   "source": [
    "gdist_matrix.shape"
   ]
  },
  {
   "cell_type": "code",
   "execution_count": null,
   "metadata": {},
   "outputs": [],
   "source": [
    "gdf0 = cudf.DataFrame.from_pandas(df0)"
   ]
  },
  {
   "cell_type": "code",
   "execution_count": null,
   "metadata": {},
   "outputs": [],
   "source": [
    "cuarr0 = cp.asarray(arr0)\n",
    "print(cuarr0.shape)"
   ]
  },
  {
   "cell_type": "code",
   "execution_count": null,
   "metadata": {},
   "outputs": [],
   "source": [
    "%time idx1, idx2 = get_rows_list(arr0, w1_idx, w2_idx)"
   ]
  },
  {
   "cell_type": "code",
   "execution_count": null,
   "metadata": {},
   "outputs": [],
   "source": [
    "%timeit gidx1, gidx2 = get_rows_list_gpu(cuarr0, w1_idx, w2_idx)"
   ]
  },
  {
   "cell_type": "code",
   "execution_count": null,
   "metadata": {},
   "outputs": [],
   "source": [
    "array = cuarr0"
   ]
  },
  {
   "cell_type": "code",
   "execution_count": null,
   "metadata": {},
   "outputs": [],
   "source": [
    "%%timeit\n",
    "mask = (array[:, w1_idx] == 1) & (array[:, w2_idx] == 1)\n",
    "df_idx = cp.nonzero(mask)[0]"
   ]
  },
  {
   "cell_type": "code",
   "execution_count": null,
   "metadata": {},
   "outputs": [],
   "source": [
    "len(df_idx)"
   ]
  },
  {
   "cell_type": "code",
   "execution_count": null,
   "metadata": {},
   "outputs": [],
   "source": [
    "coords = array[df_idx, 0]"
   ]
  },
  {
   "cell_type": "code",
   "execution_count": null,
   "metadata": {},
   "outputs": [],
   "source": [
    "%timeit dist_matrix = get_dist_mat_gpu(coords)"
   ]
  },
  {
   "cell_type": "code",
   "execution_count": null,
   "metadata": {},
   "outputs": [],
   "source": [
    "select = dist_matrix < 2 \n",
    "select2 = cp.triu(select, k=1)\n",
    "r,c = cp.nonzero(select2)\n",
    "idx1, idx2 = df_idx[r], df_idx[c]"
   ]
  },
  {
   "cell_type": "code",
   "execution_count": null,
   "metadata": {},
   "outputs": [],
   "source": [
    "gidx1, gidx2 = get_rows_list_gpu(cuarr0, w1_idx, w2_idx)\n",
    "grecords = cp.concatenate([cuarr0[gidx1, 0:4], cuarr0[gidx2, 0:4]], axis=1)\n",
    "grecords2 = cp.asfortranarray(grecords)\n",
    "cudf_records = cudf.DataFrame.from_gpu_matrix(grecords2, columns=['coords1', 'int1_before', 'int1_after', 'wref1', 'coords2', 'int2_before', 'int2_after', 'wref2'])\n",
    "cudf_records.head()"
   ]
  },
  {
   "cell_type": "code",
   "execution_count": null,
   "metadata": {},
   "outputs": [],
   "source": [
    "%%timeit\n",
    "gidx1, gidx2 = get_rows_list_gpu(cuarr0, w1_idx, w2_idx)\n",
    "grecords = cp.concatenate([cuarr0[gidx1, 0:4], cuarr0[gidx2, 0:4]], axis=1)\n",
    "# grecords2 = cp.asfortranarray(grecords)\n",
    "# cudf_records = cudf.DataFrame.from_gpu_matrix(grecords2, columns=['coords1', 'int1_before', 'int1_after', 'wref1', 'coords2', 'int2_before', 'int2_after', 'wref2'])\n",
    "#cudf_records.head()"
   ]
  },
  {
   "cell_type": "code",
   "execution_count": null,
   "metadata": {},
   "outputs": [],
   "source": [
    "%timeit cudf_records = cudf.DataFrame.from_gpu_matrix(grecords, columns=['coords1', 'int1_before', 'int1_after', 'wref1', 'coords2', 'int2_before', 'int2_after', 'wref2'])"
   ]
  },
  {
   "cell_type": "code",
   "execution_count": null,
   "metadata": {},
   "outputs": [],
   "source": [
    "array = cuarr0"
   ]
  },
  {
   "cell_type": "code",
   "execution_count": null,
   "metadata": {},
   "outputs": [],
   "source": [
    "%%timeit\n",
    "mask = (array[:, w1_idx] == 1) & (array[:, w2_idx] == 1)\n",
    "df_idx = cp.nonzero(mask)[0]\n",
    "coords = array[df_idx, 0]\n",
    "coords_x = coords % 4096\n",
    "coords_y = coords // 4096\n",
    "coords_xb = coords_x[:, cp.newaxis]\n",
    "coords_yb = coords_y[:, cp.newaxis]\n",
    "dx_broadc = coords_x - coords_xb\n",
    "dy_broadc = coords_y - coords_yb\n",
    "dist_matrix = cp.sqrt(dx_broadc**2 + dy_broadc**2)"
   ]
  },
  {
   "cell_type": "code",
   "execution_count": null,
   "metadata": {},
   "outputs": [],
   "source": [
    "%%timeit\n",
    "mask = (array[:, w1_idx] == 1) & (array[:, w2_idx] == 1)\n",
    "df_idx = cp.nonzero(mask)[0]\n",
    "coords = array[df_idx, 0]\n",
    "coords_x = coords % 4096\n",
    "coords_y = coords // 4096\n",
    "coords2d = cp.stack([coords_x, coords_y], axis=1)\n",
    "diff = coords2d[:, cp.newaxis, :] - coords2d\n",
    "distance_matrix = cp.sqrt(cp.sum(diff**2, axis=2))"
   ]
  },
  {
   "cell_type": "code",
   "execution_count": null,
   "metadata": {},
   "outputs": [],
   "source": [
    "print(coords_x.shape, coords_xb.shape)"
   ]
  },
  {
   "cell_type": "code",
   "execution_count": null,
   "metadata": {},
   "outputs": [],
   "source": [
    "%timeit a = coords_x[:, cp.newaxis]"
   ]
  },
  {
   "cell_type": "code",
   "execution_count": null,
   "metadata": {},
   "outputs": [],
   "source": [
    "%timeit a = coords_x.reshape([*coords.shape, 1])"
   ]
  },
  {
   "cell_type": "code",
   "execution_count": null,
   "metadata": {},
   "outputs": [],
   "source": [
    "%timeit mask = (array[:, w1_idx] == 1) & (array[:, w2_idx] == 1)"
   ]
  },
  {
   "cell_type": "code",
   "execution_count": null,
   "metadata": {},
   "outputs": [],
   "source": [
    "%timeit df_idx = cp.nonzero(mask)[0]"
   ]
  },
  {
   "cell_type": "code",
   "execution_count": null,
   "metadata": {},
   "outputs": [],
   "source": [
    "%timeit coords = array[df_idx, 0]"
   ]
  },
  {
   "cell_type": "code",
   "execution_count": null,
   "metadata": {},
   "outputs": [],
   "source": [
    "%timeit coords2d = cp.stack(cp.unravel_index(coords, [4096, 4096]), axis=1)"
   ]
  },
  {
   "cell_type": "code",
   "execution_count": null,
   "metadata": {},
   "outputs": [],
   "source": [
    "%timeit coords2d = cp.stack([coords_x, coords_y], axis=1)"
   ]
  },
  {
   "cell_type": "code",
   "execution_count": null,
   "metadata": {},
   "outputs": [],
   "source": [
    "%timeit a = dx_broadc**2"
   ]
  },
  {
   "cell_type": "code",
   "execution_count": null,
   "metadata": {},
   "outputs": [],
   "source": []
  },
  {
   "cell_type": "code",
   "execution_count": null,
   "metadata": {},
   "outputs": [],
   "source": []
  }
 ],
 "metadata": {
  "kernelspec": {
   "display_name": "Python 3",
   "language": "python",
   "name": "python3"
  },
  "language_info": {
   "codemirror_mode": {
    "name": "ipython",
    "version": 3
   },
   "file_extension": ".py",
   "mimetype": "text/x-python",
   "name": "python",
   "nbconvert_exporter": "python",
   "pygments_lexer": "ipython3",
   "version": "3.6.7"
  }
 },
 "nbformat": 4,
 "nbformat_minor": 4
}
