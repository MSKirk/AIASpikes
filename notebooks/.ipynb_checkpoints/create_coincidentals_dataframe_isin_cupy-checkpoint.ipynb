{
 "cells": [
  {
   "cell_type": "code",
   "execution_count": 1,
   "metadata": {},
   "outputs": [
    {
     "name": "stdout",
     "output_type": "stream",
     "text": [
      "7.2.0\n"
     ]
    }
   ],
   "source": [
    "import os\n",
    "import pandas as pd\n",
    "import numpy as np\n",
    "import fitsio\n",
    "from pathlib import Path, PurePath\n",
    "import cupy as cp\n",
    "from IPython.display import display\n",
    "print(cp.__version__)"
   ]
  },
  {
   "cell_type": "code",
   "execution_count": 78,
   "metadata": {},
   "outputs": [],
   "source": [
    "def create_lookup_8nb(nx, ny):\n",
    "    \"\"\" Pre-compute the 8-connectivity lookup table. This will be shared across parallel workers.\n",
    "    :param nx: number of columns in image array (number of pixels on horizontal axis)\n",
    "    :param ny: number of rows in image array (number of pixels on vertical axis)\n",
    "    :return:\n",
    "    \"\"\"\n",
    "    # List of relative 2D coordinates for 8-neighbour connectivity, including origin pixel.\n",
    "    coords_8nb = np.array([[0, 0], [-1, 0], [-1, -1], [0, -1], [1, -1], [1, 0], [1, 1], [0, 1], [-1, 1]])\n",
    "    # Array of 2D coordinates for a 4096 x 4096 array. Matrix convention is kept. [rows, cols] = [y-axis, x-axis]\n",
    "    coords_1d = np.arange(nx * ny)\n",
    "    coordy, coordx = np.unravel_index(coords_1d, [ny, nx]) # also possible by raveling a meshgrid() output\n",
    "    coords2d = np.array([coordy, coordx])\n",
    "    # Create the array of 2D coordinates of 8-neighbours associated with each pixel.\n",
    "    # pixel 0 has 8 neighbour + itself, pixel 1 has 8 neighbour + itself, etc...\n",
    "    coords2d_8nb = coords2d[np.newaxis, ...] + coords_8nb[..., np.newaxis]\n",
    "    # Handle off-edges coordinates by clipping to the edges, operation done in-place. Here, square detector assumed.\n",
    "    # to per-axis clipping if that ever changes for another instrument.\n",
    "    np.clip(coords2d_8nb, 0, nx-1, out=coords2d_8nb)\n",
    "    # Convert to 1D coordinates.\n",
    "    lookup_coords = np.array([coords2d_8nb[i, 0, :] * nx + coords2d_8nb[i, 1, :] for i in range(len(coords_8nb))],\n",
    "                         dtype='int32', order='C').T\n",
    "    return lookup_coords\n",
    "\n",
    "kernel = cp.ElementwiseKernel('T num,  T x,  raw T y', 'bool z',\n",
    "'''int t = 0; \n",
    "z = 0;\n",
    "#pragma unroll\n",
    "for(t = 0; t < num; t++) z = z || (x == y[t]);''',\n",
    "'my_kernel')\n",
    "\n",
    "\n",
    "def extract_coincidentals_GPU(kernel, spikes_list, idx):\n",
    "    # Spikes coordinates at a given wavelength (starting with 1st one, i.e, index 0)\n",
    "    spikes = cuarrays_[idx]\n",
    "    # Haystack variable: spikes coordinates at one wavelength with the coordinates of their 8 nearest neighbours. \n",
    "    # Haystack is assigned True wherever elements of needles_pixels are found. \n",
    "    haystack_pixels = cuindex_8nb[spikes, :]\n",
    "    # output of needle - haystack search has dimensions: [7-wave, nb of pixels]. e.g [7, 8486]\n",
    "    bool_H0_all = cp.array([cp.column_stack([kernel(n_needles, haystack_pixels[:, j], needles) for j in range(9)]).any(axis=1) for needles in cuarrays_])\n",
    "    # Get which have at least 1 neighbour and copy them in another array. \n",
    "    bool_H0 = bool_H0_all.any(axis=0)\n",
    "    #coords_w0 = cuarrays_[0][bool_H0]\n",
    "    # Connectivity table\n",
    "    w_tables = bool_H0_all[:, bool_H0]\n",
    "    # Account for same-wavelength connectivity\n",
    "    w_tables[idx, :] = w_tables[idx, :] + 1\n",
    "    # Back to host\n",
    "    #coords_w0_cpu = cp.asnumpy(coords_w0)\n",
    "    w_tables_cpu = cp.asnumpy(w_tables)\n",
    "    bool_H0_cpu = cp.asnumpy(bool_H0)\n",
    "    coords_intensities = spikes_list[idx][:, bool_H0_cpu]\n",
    "    arr_w = np.concatenate([coords_intensities, w_tables_cpu], axis=0)\n",
    "    arr_w = np.insert(arr_w, 3, idx, axis=0)\n",
    "    \n",
    "    return arr_w\n",
    "\n",
    "\n",
    "def process_group_GPU(kernel, fpaths):\n",
    "    \n",
    "    spikes_list = [fitsio.read(os.path.join(os.environ['SPIKESDATA'], f)) for f in fpaths]\n",
    "    cuarrays_ = [cp.asarray(spikes[0,:]) for spikes in spikes_list]\n",
    "    searches_group = []\n",
    "    for idx in range(7):\n",
    "        # Haystack variable: spikes coordinates at one wavelength with the coordinates of their 8 nearest neighbours. \n",
    "        # Haystack is assigned True wherever elements of needles_pixels are found. \n",
    "        haystack = cuindex_8nb[cuarrays_[idx], :]\n",
    "        # output of needle - haystack search has dimensions: [7-wave, nb of pixels]. e.g [7, 8486]\n",
    "        searches = [kernel(len(needles), haystack.ravel(), needles).reshape(haystack.shape) for needles in cuarrays_]\n",
    "        searches_group.append(searches)\n",
    "        \n",
    "#     bool_Hall_Wall = [cp.array([cp.column_stack([searches_group[idx][i][j] for j in range(9)]).any(axis=1) for i in range(7)]) for idx in range(7)]\n",
    "#     select_pixels_all = [bool_H.any(axis=0) for bool_H in bool_Hall_Wall]\n",
    "#     tables_Wall = [bool_Hall_Wall[i][:, select_pixels_all[i]] for i in range(7)]\n",
    "\n",
    "#     return select_pixels_all, tables_Wall\n",
    "#    return bool_Hall_Wall, select_pixels_all\n",
    "    cp.cuda.runtime.deviceSynchronize()\n",
    "    return searches_group\n",
    "\n",
    "\n",
    "def process_group_GPU2(kernel, spikes_list):\n",
    "    \n",
    "    \n",
    "    cuarrays_ = [cp.asarray(spikes[0,:]) for spikes in spikes_list]\n",
    "    n_needles = [len(needles) for needles in cuarrays_]\n",
    "    n_cumsums= np.cumsum(n_needles)*9\n",
    "    slices = [slice(0, n_needles[0]*9)] + [slice(n_cumsums[i], n_cumsums[i+1]) for i in range(len(n_needles)-1)]\n",
    "    haystacks_ = cp.concatenate([cuindex_8nb[needles, :].ravel() for needles in cuarrays_])\n",
    "    searches_ = [kernel(n_needles[i], haystacks_, needles) for i, needles in enumerate(cuarrays_)]\n",
    "    cp.cuda.runtime.deviceSynchronize()\n",
    "    \n",
    "    return searches_\n",
    "\n",
    "\n",
    "def process_groups_GPU(fpaths_list_):\n",
    "    \n",
    "    kernel2 = cp.ElementwiseKernel('T num,  T x,  raw T y', 'bool z',\n",
    "                                   '''int t = 0; \n",
    "                                   #pragma unroll\n",
    "                                   for(t = 0; t < num; t++) z =x == y[t];''',\n",
    "                                   'my_kernel')\n",
    "    searches_groups_ = []\n",
    "    spikes_lists_ = [[fitsio.read(os.path.join(os.environ['SPIKESDATA'], f)) for f in fpaths] for fpaths in fpaths_list_]\n",
    "    \n",
    "    for spikes_list in spikes_lists_:\n",
    "        cuarrays_ = [cp.asarray(spikes[0,:]) for spikes in spikes_list]\n",
    "        searches_group = []\n",
    "        for idx in range(7):\n",
    "            # Haystack variable: spikes coordinates at one wavelength with the coordinates of their 8 nearest neighbours. \n",
    "            # Haystack is assigned True wherever elements of needles_pixels are found. \n",
    "            haystack = cuindex_8nb[cuarrays_[idx], :]\n",
    "            # output of needle - haystack search has dimensions: [7-wave, nb of pixels]. e.g [7, 8486]\n",
    "            searches = [kernel2(len(needles), haystack.ravel(), needles).reshape(haystack.shape) for needles in cuarrays_]\n",
    "            searches_group.append(searches)\n",
    "            \n",
    "    searches_groups_.append(searches_group)\n",
    "            \n",
    "    cp.cuda.runtime.deviceSynchronize()\n",
    "    return searches_groups_\n"
   ]
  },
  {
   "cell_type": "markdown",
   "metadata": {},
   "source": [
    "### Load the dataframes of file paths and their timestamp. "
   ]
  },
  {
   "cell_type": "code",
   "execution_count": 3,
   "metadata": {},
   "outputs": [],
   "source": [
    "spikes_df = pd.read_parquet(os.path.join(os.environ['SPIKESDATA'], 'spikes_df_2010.parquet'), engine='pyarrow')\n",
    "spikes_df.set_index(['GroupNumber'], inplace=True)\n",
    "path_Series = spikes_df['Path']"
   ]
  },
  {
   "cell_type": "code",
   "execution_count": 4,
   "metadata": {},
   "outputs": [],
   "source": [
    "tintervals = pd.interval_range(start=pd.Timestamp('2010-05-13 00:00:00', tz='UTC'),\n",
    "                                   end=pd.Timestamp('2010-05-16 00:00:00', tz='UTC'),\n",
    "                                   freq='D', closed='left')"
   ]
  },
  {
   "cell_type": "markdown",
   "metadata": {},
   "source": [
    "### Get the file paths of the 1st group in that time interval. There are 7 files per group"
   ]
  },
  {
   "cell_type": "code",
   "execution_count": 51,
   "metadata": {},
   "outputs": [],
   "source": [
    "tint = tintervals[0]\n",
    "groups = spikes_df.loc[(spikes_df['Time'] >= tint.left) & (spikes_df['Time'] < tint.right)].index.unique()\n",
    "group_n = groups[0]\n",
    "fpaths = path_Series[group_n]\n",
    "fpaths_list = [path_Series[group_n] for group_n in groups[0:10]]"
   ]
  },
  {
   "cell_type": "markdown",
   "metadata": {},
   "source": [
    "### load these fits files in RAM and send to GPU"
   ]
  },
  {
   "cell_type": "code",
   "execution_count": 6,
   "metadata": {},
   "outputs": [
    {
     "name": "stdout",
     "output_type": "stream",
     "text": [
      "8486\n",
      "30356\n",
      "36549\n",
      "7993\n",
      "13781\n",
      "26443\n",
      "27576\n"
     ]
    }
   ],
   "source": [
    "# %%timeit 3.99 ms ± 257 µs per loop (mean ± std. dev. of 7 runs, 100 loops each)\n",
    "spikes_list = [fitsio.read(os.path.join(os.environ['SPIKESDATA'], f)) for f in fpaths]\n",
    "for spikes in spikes_list:\n",
    "    print(len(spikes[0,:]))\n",
    "# Note: the size of the series of coordinates varies between files. They are independent measurements of \"spikes\" in each CCD <-> wavelength"
   ]
  },
  {
   "cell_type": "code",
   "execution_count": 7,
   "metadata": {},
   "outputs": [],
   "source": [
    "# To GPU: list of CUDF Series containing only the coordinates from the data loaded in each file\n",
    "# 7 CUDF Series cooresponding to the spikes coordinates measured in the 7 wavelengths (wav0, wav1, ... wav6)\n",
    "cuarrays_ = [cp.asarray(spikes[0,:]) for spikes in spikes_list]"
   ]
  },
  {
   "cell_type": "markdown",
   "metadata": {},
   "source": [
    "## Create lookup table and send to GPU"
   ]
  },
  {
   "cell_type": "code",
   "execution_count": 70,
   "metadata": {},
   "outputs": [],
   "source": [
    "index_8nb = create_lookup_8nb(4096, 4096)\n",
    "cuindex_8nb = cp.asarray(index_8nb)"
   ]
  },
  {
   "cell_type": "markdown",
   "metadata": {},
   "source": [
    "## Define the \"needles and the haystack\" "
   ]
  },
  {
   "cell_type": "code",
   "execution_count": 60,
   "metadata": {},
   "outputs": [],
   "source": [
    "idx = 0"
   ]
  },
  {
   "cell_type": "code",
   "execution_count": 71,
   "metadata": {},
   "outputs": [
    {
     "data": {
      "text/plain": [
       "array([[ 9362,  5266,  5265,  9361, 13457, 13458, 13459,  9363,  5267],\n",
       "       [ 9706,  5610,  5609,  9705, 13801, 13802, 13803,  9707,  5611],\n",
       "       [10170,  6074,  6073, 10169, 14265, 14266, 14267, 10171,  6075],\n",
       "       [10726,  6630,  6629, 10725, 14821, 14822, 14823, 10727,  6631],\n",
       "       [13014,  8918,  8917, 13013, 17109, 17110, 17111, 13015,  8919]],\n",
       "      dtype=int32)"
      ]
     },
     "metadata": {},
     "output_type": "display_data"
    },
    {
     "data": {
      "text/plain": [
       "array([ 9412, 10636, 11175, 11426, 12900, 13996, 14484, 15522, 16996,\n",
       "       17489, 18092, 18802, 21556, 21557, 21979, 22367, 22368, 23314,\n",
       "       23912, 23913], dtype=int32)"
      ]
     },
     "metadata": {},
     "output_type": "display_data"
    },
    {
     "data": {
      "text/plain": [
       "(8486, 9)"
      ]
     },
     "execution_count": 71,
     "metadata": {},
     "output_type": "execute_result"
    }
   ],
   "source": [
    "# Spikes coordinates at a given wavelength (starting with 1st one, i.e, index 0)\n",
    "spikes = cuarrays_[idx]\n",
    "# needles: series of spikes coordinates in another wavelength from which occurences will be searched in the above haystack\n",
    "needles = cuarrays_[1]\n",
    "# Haystack variable: spikes coordinates at one wavelength with the coordinates of their 8 nearest neighbours. \n",
    "# Haystack is assigned True wherever elements of needles_pixels are found. \n",
    "haystack = cuindex_8nb[spikes, :]\n",
    "# Show the needles and haystack\n",
    "display(haystack[0:5,:])\n",
    "display(needles[0:20])\n",
    "n_needles = len(needles)\n",
    "haystack.shape"
   ]
  },
  {
   "cell_type": "code",
   "execution_count": 11,
   "metadata": {},
   "outputs": [],
   "source": [
    "kernel = cp.ElementwiseKernel('T num,  T x,  raw T y', 'bool z',\n",
    "'''int t = 0; \n",
    "z = 0;\n",
    "#pragma unroll\n",
    "for(t = 0; t < num; t++) z = z || (x == y[t]);''',\n",
    "'my_kernel')"
   ]
  },
  {
   "cell_type": "code",
   "execution_count": 12,
   "metadata": {},
   "outputs": [],
   "source": [
    "kernel2 = cp.ElementwiseKernel('T num,  T x,  raw T y', 'bool z',\n",
    "'z = x == y[i];',\n",
    "'my_kernel')"
   ]
  },
  {
   "cell_type": "code",
   "execution_count": 72,
   "metadata": {},
   "outputs": [],
   "source": [
    "searches = cp.column_stack([kernel(n_needles, haystack[:, j], needles) for j in range(9)]).any(axis=1)\n",
    "cp.cuda.runtime.deviceSynchronize()"
   ]
  },
  {
   "cell_type": "code",
   "execution_count": 14,
   "metadata": {},
   "outputs": [],
   "source": [
    "searches = kernel(n_needles, haystack.ravel(), needles)\n",
    "searches2d = searches.reshape(haystack.shape).any(axis=1)\n",
    "cp.cuda.runtime.deviceSynchronize()"
   ]
  },
  {
   "cell_type": "code",
   "execution_count": 15,
   "metadata": {},
   "outputs": [
    {
     "name": "stdout",
     "output_type": "stream",
     "text": [
      "19.4 ms ± 1.79 ms per loop (mean ± std. dev. of 7 runs, 10 loops each)\n"
     ]
    }
   ],
   "source": [
    "%%timeit\n",
    "searches = cp.column_stack([kernel(n_needles, haystack[:, j], needles) for j in range(9)]).any(axis=1)\n",
    "cp.cuda.runtime.deviceSynchronize()"
   ]
  },
  {
   "cell_type": "code",
   "execution_count": 16,
   "metadata": {},
   "outputs": [
    {
     "name": "stdout",
     "output_type": "stream",
     "text": [
      "5.38 ms ± 127 µs per loop (mean ± std. dev. of 7 runs, 100 loops each)\n"
     ]
    }
   ],
   "source": [
    "%%timeit\n",
    "searches = kernel(n_needles, haystack.ravel(), needles)\n",
    "searches2d = searches.reshape(haystack.shape).any(axis=1)\n",
    "cp.cuda.runtime.deviceSynchronize()"
   ]
  },
  {
   "cell_type": "code",
   "execution_count": 49,
   "metadata": {},
   "outputs": [],
   "source": [
    "searches = process_group_GPU(kernel, fpaths)"
   ]
  },
  {
   "cell_type": "code",
   "execution_count": 50,
   "metadata": {},
   "outputs": [
    {
     "name": "stdout",
     "output_type": "stream",
     "text": [
      "CPU times: user 490 ms, sys: 0 ns, total: 490 ms\n",
      "Wall time: 487 ms\n"
     ]
    }
   ],
   "source": [
    "%%time\n",
    "searches = process_group_GPU(kernel, fpaths)"
   ]
  },
  {
   "cell_type": "code",
   "execution_count": 35,
   "metadata": {},
   "outputs": [],
   "source": [
    "searches2 = process_group_GPU2(kernel, spikes_list)"
   ]
  },
  {
   "cell_type": "code",
   "execution_count": 42,
   "metadata": {},
   "outputs": [
    {
     "name": "stdout",
     "output_type": "stream",
     "text": [
      "CPU times: user 452 ms, sys: 0 ns, total: 452 ms\n",
      "Wall time: 450 ms\n"
     ]
    }
   ],
   "source": [
    "%%time\n",
    "searches = process_group_GPU2(kernel, spikes_list)"
   ]
  },
  {
   "cell_type": "code",
   "execution_count": 83,
   "metadata": {},
   "outputs": [],
   "source": [
    "fpaths_list = [path_Series[group_n] for group_n in groups[0:100]]"
   ]
  },
  {
   "cell_type": "code",
   "execution_count": 84,
   "metadata": {},
   "outputs": [],
   "source": [
    "searches = process_groups_GPU(fpaths_list)"
   ]
  },
  {
   "cell_type": "code",
   "execution_count": 85,
   "metadata": {},
   "outputs": [
    {
     "name": "stdout",
     "output_type": "stream",
     "text": [
      "CPU times: user 24.1 s, sys: 13.9 s, total: 38 s\n",
      "Wall time: 38 s\n"
     ]
    }
   ],
   "source": [
    "%%time\n",
    "searches = process_groups_GPU(fpaths_list)"
   ]
  },
  {
   "cell_type": "code",
   "execution_count": null,
   "metadata": {},
   "outputs": [],
   "source": []
  }
 ],
 "metadata": {
  "kernelspec": {
   "display_name": "Python 3",
   "language": "python",
   "name": "python3"
  },
  "language_info": {
   "codemirror_mode": {
    "name": "ipython",
    "version": 3
   },
   "file_extension": ".py",
   "mimetype": "text/x-python",
   "name": "python",
   "nbconvert_exporter": "python",
   "pygments_lexer": "ipython3",
   "version": "3.7.3"
  }
 },
 "nbformat": 4,
 "nbformat_minor": 4
}
