{
 "cells": [
  {
   "cell_type": "code",
   "execution_count": 1,
   "metadata": {},
   "outputs": [
    {
     "name": "stdout",
     "output_type": "stream",
     "text": [
      "python version:  3.7.6 | packaged by conda-forge | (default, Mar 23 2020, 23:03:20) \n",
      "[GCC 7.3.0]\n",
      "CuPy version:  7.5.0\n",
      "CuDF version:  0.14.0\n"
     ]
    }
   ],
   "source": [
    "import sys, os\n",
    "import pandas as pd\n",
    "import numpy as np\n",
    "import cupy as cp\n",
    "from pathlib import Path, PurePath\n",
    "import cudf\n",
    "print('python version: ', sys.version)\n",
    "print('CuPy version: ', cp.__version__)\n",
    "print('CuDF version: ', cudf.__version__)"
   ]
  },
  {
   "cell_type": "code",
   "execution_count": 2,
   "metadata": {},
   "outputs": [],
   "source": [
    "def get_dist_mat(coords):\n",
    "    # Convert 1D to 2D image coordinates, all images are 4096 x 4096 pixels\n",
    "    coords_x = coords % 4096\n",
    "    coords_y = coords // 4096\n",
    "    # Leverage broadcasting to vectorize distance matrix calculation (i.e. no for loop needed)\n",
    "    coords_xb = coords_x[:, np.newaxis]\n",
    "    coords_yb = coords_y[:, np.newaxis]\n",
    "    dist_matrix = (coords_x - coords_xb)**2 + (coords_y - coords_yb)**2\n",
    "    return dist_matrix\n",
    "\n",
    "def get_dist_mat_gpu(coords):\n",
    "    coords_x = coords % 4096\n",
    "    coords_y = coords // 4096\n",
    "    coords_xb = coords_x[:, cp.newaxis]\n",
    "    coords_yb = coords_y[:, cp.newaxis]\n",
    "    dist_matrix = (coords_x - coords_xb)**2 + (coords_y - coords_yb)**2\n",
    "    cp.cuda.runtime.deviceSynchronize()\n",
    "    return dist_matrix\n",
    "\n",
    "\n",
    "@cp.fuse()\n",
    "def dist_mat(x1, x2, y1, y2):\n",
    "    return (x1 - x2)*(x1 - x2) + (y1-y2)*(y1-y2)\n",
    "\n",
    "\n",
    "def get_dist_mat_gpu_fuse(coords):\n",
    "    coords_x = coords % 4096\n",
    "    coords_y = coords // 4096\n",
    "    coords_xb = coords_x[:, cp.newaxis]\n",
    "    coords_yb = coords_y[:, cp.newaxis]\n",
    "    dist_matrix = dist_mat(coords_x, coords_xb, coords_y, coords_yb)\n",
    "    cp.cuda.runtime.deviceSynchronize()\n",
    "    return dist_matrix\n",
    "\n",
    "\n",
    "\n",
    "def get_rows_list(array, w1_idx, w2_idx):\n",
    "    np_mask = (array[:, w1_idx] == 1) & (array[:, w2_idx] == 1)\n",
    "    df_idx = np.nonzero(np_mask)[0]\n",
    "    coords = array[np_mask, 0]\n",
    "    dist_matrix = get_dist_mat(coords)\n",
    "    select = dist_matrix < 2 \n",
    "    select2 = np.triu(select, k=1)\n",
    "    r,c = np.nonzero(select2)\n",
    "    idx1, idx2 = df_idx[r], df_idx[c]\n",
    "    return idx1, idx2\n",
    "\n",
    "def get_rows_list_gpu(array, w1_idx, w2_idx):\n",
    "    mask = (array[:, w1_idx] == 1) & (array[:, w2_idx] == 1)\n",
    "    df_idx = cp.nonzero(mask)[0]\n",
    "    coords = array[df_idx, 0]\n",
    "    dist_matrix = get_dist_mat_gpu(coords)\n",
    "    select = dist_matrix < 2 \n",
    "    select2 = cp.triu(select, k=1)\n",
    "    r,c = cp.nonzero(select2)\n",
    "    idx1, idx2 = df_idx[r], df_idx[c]\n",
    "    return idx1, idx2\n",
    "\n",
    "\n",
    "def get_2coincidentals(array, w1_idx, w2_idx):\n",
    "    idx1, idx2 = get_rows_list(array, w1_idx, w2_idx)\n",
    "    records = [df0.loc[[i1, i2]][['coords', 'int1', 'int2', 'wref']] for i1, i2 in zip(idx1, idx2)]\n",
    "    df_records = pd.concat(records, keys=list(range(len(records))))\n",
    "    return df_records\n",
    "\n",
    "\n",
    "def get_2clusters(array, w1_idx, w2_idx, group_n=None):\n",
    "    idx1, idx2 = get_rows_list(array, w1_idx, w2_idx)\n",
    "    # To remove conjugates\n",
    "#     keep_mask = arr0[idx1, 3] != arr0[idx2, 3] \n",
    "#     recordsf = np.concatenate((arr0[idx1[keep_mask], 0:4], arr0[idx2[keep_mask], 0:4]), axis=1)\n",
    "    \n",
    "    records = np.concatenate((array[idx1, 0:4], array[idx2, 0:4]), axis=1)\n",
    "    df_records = pd.DataFrame(records, columns=['coords1', 'int1_before', 'int1_after', 'wref1', 'coords2', 'int2_before', 'int2_after', 'wref2'])\n",
    "    if group_n is not None:\n",
    "        df_records['GroupNumber'] = group_n\n",
    "\n",
    "    return df_records\n",
    "\n",
    "\n",
    "def get_2clusters_gpu(gpu_array, w1_idx, w2_idx):\n",
    "    gidx1, gidx2 = get_rows_list_gpu(gpu_array, w1_idx, w2_idx)\n",
    "    grecords = cp.concatenate([gpu_array[gidx1, 0:4], gpu_array[gidx2, 0:4]], axis=1)\n",
    "    #grecords2 = cp.asfortranarray(grecords)\n",
    "    #cudf_records = cudf.DataFrame.from_gpu_matrix(grecords2, columns=['coords1', 'int1_before', 'int1_after', 'wref1', 'coords2', 'int2_before', 'int2_after', 'wref2'])\n",
    "    return records"
   ]
  },
  {
   "cell_type": "code",
   "execution_count": 23,
   "metadata": {},
   "outputs": [
    {
     "data": {
      "text/html": [
       "<div>\n",
       "<style scoped>\n",
       "    .dataframe tbody tr th:only-of-type {\n",
       "        vertical-align: middle;\n",
       "    }\n",
       "\n",
       "    .dataframe tbody tr th {\n",
       "        vertical-align: top;\n",
       "    }\n",
       "\n",
       "    .dataframe thead th {\n",
       "        text-align: right;\n",
       "    }\n",
       "</style>\n",
       "<table border=\"1\" class=\"dataframe\">\n",
       "  <thead>\n",
       "    <tr style=\"text-align: right;\">\n",
       "      <th></th>\n",
       "      <th>coords</th>\n",
       "      <th>int1</th>\n",
       "      <th>int2</th>\n",
       "      <th>wref</th>\n",
       "      <th>w0</th>\n",
       "      <th>w1</th>\n",
       "      <th>w2</th>\n",
       "      <th>w3</th>\n",
       "      <th>w4</th>\n",
       "      <th>w5</th>\n",
       "      <th>w6</th>\n",
       "      <th>GroupNumber</th>\n",
       "    </tr>\n",
       "  </thead>\n",
       "  <tbody>\n",
       "    <tr>\n",
       "      <th>0</th>\n",
       "      <td>63998</td>\n",
       "      <td>49</td>\n",
       "      <td>10</td>\n",
       "      <td>0</td>\n",
       "      <td>1</td>\n",
       "      <td>0</td>\n",
       "      <td>0</td>\n",
       "      <td>1</td>\n",
       "      <td>0</td>\n",
       "      <td>0</td>\n",
       "      <td>0</td>\n",
       "      <td>432000</td>\n",
       "    </tr>\n",
       "    <tr>\n",
       "      <th>1</th>\n",
       "      <td>86745</td>\n",
       "      <td>420</td>\n",
       "      <td>1</td>\n",
       "      <td>0</td>\n",
       "      <td>1</td>\n",
       "      <td>0</td>\n",
       "      <td>0</td>\n",
       "      <td>0</td>\n",
       "      <td>0</td>\n",
       "      <td>0</td>\n",
       "      <td>1</td>\n",
       "      <td>432000</td>\n",
       "    </tr>\n",
       "    <tr>\n",
       "      <th>2</th>\n",
       "      <td>97515</td>\n",
       "      <td>54</td>\n",
       "      <td>2</td>\n",
       "      <td>0</td>\n",
       "      <td>1</td>\n",
       "      <td>0</td>\n",
       "      <td>0</td>\n",
       "      <td>1</td>\n",
       "      <td>0</td>\n",
       "      <td>0</td>\n",
       "      <td>0</td>\n",
       "      <td>432000</td>\n",
       "    </tr>\n",
       "    <tr>\n",
       "      <th>3</th>\n",
       "      <td>101611</td>\n",
       "      <td>106</td>\n",
       "      <td>3</td>\n",
       "      <td>0</td>\n",
       "      <td>1</td>\n",
       "      <td>0</td>\n",
       "      <td>0</td>\n",
       "      <td>1</td>\n",
       "      <td>0</td>\n",
       "      <td>0</td>\n",
       "      <td>0</td>\n",
       "      <td>432000</td>\n",
       "    </tr>\n",
       "    <tr>\n",
       "      <th>4</th>\n",
       "      <td>126328</td>\n",
       "      <td>44</td>\n",
       "      <td>0</td>\n",
       "      <td>0</td>\n",
       "      <td>1</td>\n",
       "      <td>0</td>\n",
       "      <td>0</td>\n",
       "      <td>1</td>\n",
       "      <td>0</td>\n",
       "      <td>0</td>\n",
       "      <td>0</td>\n",
       "      <td>432000</td>\n",
       "    </tr>\n",
       "  </tbody>\n",
       "</table>\n",
       "</div>"
      ],
      "text/plain": [
       "   coords  int1  int2  wref  w0  w1  w2  w3  w4  w5  w6  GroupNumber\n",
       "0   63998    49    10     0   1   0   0   1   0   0   0       432000\n",
       "1   86745   420     1     0   1   0   0   0   0   0   1       432000\n",
       "2   97515    54     2     0   1   0   0   1   0   0   0       432000\n",
       "3  101611   106     3     0   1   0   0   1   0   0   0       432000\n",
       "4  126328    44     0     0   1   0   0   1   0   0   0       432000"
      ]
     },
     "execution_count": 23,
     "metadata": {},
     "output_type": "execute_result"
    }
   ],
   "source": [
    "parquet_dir = os.path.join(os.environ['SPIKESDF'], 'parquet_dataframes/')\n",
    "df0 = pd.read_parquet(PurePath(parquet_dir, '2010/07/df_coincidentals_2010_07_12.parquet')\n",
    "                      , engine='pyarrow')\n",
    "df0.head()"
   ]
  },
  {
   "cell_type": "code",
   "execution_count": 4,
   "metadata": {},
   "outputs": [
    {
     "data": {
      "text/html": [
       "<div>\n",
       "<style scoped>\n",
       "    .dataframe tbody tr th:only-of-type {\n",
       "        vertical-align: middle;\n",
       "    }\n",
       "\n",
       "    .dataframe tbody tr th {\n",
       "        vertical-align: top;\n",
       "    }\n",
       "\n",
       "    .dataframe thead th {\n",
       "        text-align: right;\n",
       "    }\n",
       "</style>\n",
       "<table border=\"1\" class=\"dataframe\">\n",
       "  <thead>\n",
       "    <tr style=\"text-align: right;\">\n",
       "      <th></th>\n",
       "      <th></th>\n",
       "      <th>coords</th>\n",
       "      <th>int1</th>\n",
       "      <th>int2</th>\n",
       "      <th>wref</th>\n",
       "      <th>w0</th>\n",
       "      <th>w1</th>\n",
       "      <th>w2</th>\n",
       "      <th>w3</th>\n",
       "      <th>w4</th>\n",
       "      <th>w5</th>\n",
       "      <th>w6</th>\n",
       "    </tr>\n",
       "    <tr>\n",
       "      <th>GroupNumber</th>\n",
       "      <th></th>\n",
       "      <th></th>\n",
       "      <th></th>\n",
       "      <th></th>\n",
       "      <th></th>\n",
       "      <th></th>\n",
       "      <th></th>\n",
       "      <th></th>\n",
       "      <th></th>\n",
       "      <th></th>\n",
       "      <th></th>\n",
       "      <th></th>\n",
       "    </tr>\n",
       "  </thead>\n",
       "  <tbody>\n",
       "    <tr>\n",
       "      <th rowspan=\"5\" valign=\"top\">432000</th>\n",
       "      <th>0</th>\n",
       "      <td>63998</td>\n",
       "      <td>49</td>\n",
       "      <td>10</td>\n",
       "      <td>0</td>\n",
       "      <td>1</td>\n",
       "      <td>0</td>\n",
       "      <td>0</td>\n",
       "      <td>1</td>\n",
       "      <td>0</td>\n",
       "      <td>0</td>\n",
       "      <td>0</td>\n",
       "    </tr>\n",
       "    <tr>\n",
       "      <th>1</th>\n",
       "      <td>86745</td>\n",
       "      <td>420</td>\n",
       "      <td>1</td>\n",
       "      <td>0</td>\n",
       "      <td>1</td>\n",
       "      <td>0</td>\n",
       "      <td>0</td>\n",
       "      <td>0</td>\n",
       "      <td>0</td>\n",
       "      <td>0</td>\n",
       "      <td>1</td>\n",
       "    </tr>\n",
       "    <tr>\n",
       "      <th>2</th>\n",
       "      <td>97515</td>\n",
       "      <td>54</td>\n",
       "      <td>2</td>\n",
       "      <td>0</td>\n",
       "      <td>1</td>\n",
       "      <td>0</td>\n",
       "      <td>0</td>\n",
       "      <td>1</td>\n",
       "      <td>0</td>\n",
       "      <td>0</td>\n",
       "      <td>0</td>\n",
       "    </tr>\n",
       "    <tr>\n",
       "      <th>3</th>\n",
       "      <td>101611</td>\n",
       "      <td>106</td>\n",
       "      <td>3</td>\n",
       "      <td>0</td>\n",
       "      <td>1</td>\n",
       "      <td>0</td>\n",
       "      <td>0</td>\n",
       "      <td>1</td>\n",
       "      <td>0</td>\n",
       "      <td>0</td>\n",
       "      <td>0</td>\n",
       "    </tr>\n",
       "    <tr>\n",
       "      <th>4</th>\n",
       "      <td>126328</td>\n",
       "      <td>44</td>\n",
       "      <td>0</td>\n",
       "      <td>0</td>\n",
       "      <td>1</td>\n",
       "      <td>0</td>\n",
       "      <td>0</td>\n",
       "      <td>1</td>\n",
       "      <td>0</td>\n",
       "      <td>0</td>\n",
       "      <td>0</td>\n",
       "    </tr>\n",
       "  </tbody>\n",
       "</table>\n",
       "</div>"
      ],
      "text/plain": [
       "               coords  int1  int2  wref  w0  w1  w2  w3  w4  w5  w6\n",
       "GroupNumber                                                        \n",
       "432000      0   63998    49    10     0   1   0   0   1   0   0   0\n",
       "            1   86745   420     1     0   1   0   0   0   0   0   1\n",
       "            2   97515    54     2     0   1   0   0   1   0   0   0\n",
       "            3  101611   106     3     0   1   0   0   1   0   0   0\n",
       "            4  126328    44     0     0   1   0   0   1   0   0   0"
      ]
     },
     "execution_count": 4,
     "metadata": {},
     "output_type": "execute_result"
    }
   ],
   "source": [
    "df1 = df0.set_index('GroupNumber', append=True).swaplevel(0, 1)\n",
    "df1.head()"
   ]
  },
  {
   "cell_type": "code",
   "execution_count": 5,
   "metadata": {},
   "outputs": [
    {
     "data": {
      "text/plain": [
       "Int64Index([432000, 432001, 432002, 432003, 432004, 432005, 432006, 432007,\n",
       "            432008, 432009,\n",
       "            ...\n",
       "            439190, 439191, 439192, 439193, 439194, 439195, 439196, 439197,\n",
       "            439198, 439199],\n",
       "           dtype='int64', name='GroupNumber', length=7198)"
      ]
     },
     "execution_count": 5,
     "metadata": {},
     "output_type": "execute_result"
    }
   ],
   "source": [
    "groups = df1.index.get_level_values('GroupNumber').unique()\n",
    "groups"
   ]
  },
  {
   "cell_type": "code",
   "execution_count": 6,
   "metadata": {},
   "outputs": [
    {
     "data": {
      "text/html": [
       "<div>\n",
       "<style scoped>\n",
       "    .dataframe tbody tr th:only-of-type {\n",
       "        vertical-align: middle;\n",
       "    }\n",
       "\n",
       "    .dataframe tbody tr th {\n",
       "        vertical-align: top;\n",
       "    }\n",
       "\n",
       "    .dataframe thead th {\n",
       "        text-align: right;\n",
       "    }\n",
       "</style>\n",
       "<table border=\"1\" class=\"dataframe\">\n",
       "  <thead>\n",
       "    <tr style=\"text-align: right;\">\n",
       "      <th></th>\n",
       "      <th></th>\n",
       "      <th>coords</th>\n",
       "      <th>int1</th>\n",
       "      <th>int2</th>\n",
       "      <th>wref</th>\n",
       "      <th>w0</th>\n",
       "      <th>w1</th>\n",
       "      <th>w2</th>\n",
       "      <th>w3</th>\n",
       "      <th>w4</th>\n",
       "      <th>w5</th>\n",
       "      <th>w6</th>\n",
       "    </tr>\n",
       "    <tr>\n",
       "      <th>GroupNumber</th>\n",
       "      <th></th>\n",
       "      <th></th>\n",
       "      <th></th>\n",
       "      <th></th>\n",
       "      <th></th>\n",
       "      <th></th>\n",
       "      <th></th>\n",
       "      <th></th>\n",
       "      <th></th>\n",
       "      <th></th>\n",
       "      <th></th>\n",
       "      <th></th>\n",
       "    </tr>\n",
       "  </thead>\n",
       "  <tbody>\n",
       "    <tr>\n",
       "      <th rowspan=\"5\" valign=\"top\">432000</th>\n",
       "      <th>0</th>\n",
       "      <td>63998</td>\n",
       "      <td>49</td>\n",
       "      <td>10</td>\n",
       "      <td>0</td>\n",
       "      <td>1</td>\n",
       "      <td>0</td>\n",
       "      <td>0</td>\n",
       "      <td>1</td>\n",
       "      <td>0</td>\n",
       "      <td>0</td>\n",
       "      <td>0</td>\n",
       "    </tr>\n",
       "    <tr>\n",
       "      <th>1</th>\n",
       "      <td>86745</td>\n",
       "      <td>420</td>\n",
       "      <td>1</td>\n",
       "      <td>0</td>\n",
       "      <td>1</td>\n",
       "      <td>0</td>\n",
       "      <td>0</td>\n",
       "      <td>0</td>\n",
       "      <td>0</td>\n",
       "      <td>0</td>\n",
       "      <td>1</td>\n",
       "    </tr>\n",
       "    <tr>\n",
       "      <th>2</th>\n",
       "      <td>97515</td>\n",
       "      <td>54</td>\n",
       "      <td>2</td>\n",
       "      <td>0</td>\n",
       "      <td>1</td>\n",
       "      <td>0</td>\n",
       "      <td>0</td>\n",
       "      <td>1</td>\n",
       "      <td>0</td>\n",
       "      <td>0</td>\n",
       "      <td>0</td>\n",
       "    </tr>\n",
       "    <tr>\n",
       "      <th>3</th>\n",
       "      <td>101611</td>\n",
       "      <td>106</td>\n",
       "      <td>3</td>\n",
       "      <td>0</td>\n",
       "      <td>1</td>\n",
       "      <td>0</td>\n",
       "      <td>0</td>\n",
       "      <td>1</td>\n",
       "      <td>0</td>\n",
       "      <td>0</td>\n",
       "      <td>0</td>\n",
       "    </tr>\n",
       "    <tr>\n",
       "      <th>4</th>\n",
       "      <td>126328</td>\n",
       "      <td>44</td>\n",
       "      <td>0</td>\n",
       "      <td>0</td>\n",
       "      <td>1</td>\n",
       "      <td>0</td>\n",
       "      <td>0</td>\n",
       "      <td>1</td>\n",
       "      <td>0</td>\n",
       "      <td>0</td>\n",
       "      <td>0</td>\n",
       "    </tr>\n",
       "  </tbody>\n",
       "</table>\n",
       "</div>"
      ],
      "text/plain": [
       "               coords  int1  int2  wref  w0  w1  w2  w3  w4  w5  w6\n",
       "GroupNumber                                                        \n",
       "432000      0   63998    49    10     0   1   0   0   1   0   0   0\n",
       "            1   86745   420     1     0   1   0   0   0   0   0   1\n",
       "            2   97515    54     2     0   1   0   0   1   0   0   0\n",
       "            3  101611   106     3     0   1   0   0   1   0   0   0\n",
       "            4  126328    44     0     0   1   0   0   1   0   0   0"
      ]
     },
     "execution_count": 6,
     "metadata": {},
     "output_type": "execute_result"
    }
   ],
   "source": [
    "gdf = cudf.DataFrame.from_pandas(df1)\n",
    "gdf.head()"
   ]
  },
  {
   "cell_type": "code",
   "execution_count": 7,
   "metadata": {},
   "outputs": [
    {
     "data": {
      "text/plain": [
       "Int64Index([432000, 432001, 432002, 432003, 432004, 432005, 432006, 432007,\n",
       "            432008, 432009,\n",
       "            ...\n",
       "            439190, 439191, 439192, 439193, 439194, 439195, 439196, 439197,\n",
       "            439198, 439199],\n",
       "           dtype='int64', name='GroupNumber', length=7198)"
      ]
     },
     "execution_count": 7,
     "metadata": {},
     "output_type": "execute_result"
    }
   ],
   "source": [
    "# Get the index to iterate over mulitple groups\n",
    "cudf_groups = gdf.index.get_level_values('GroupNumber').unique()\n",
    "cudf_groups"
   ]
  },
  {
   "cell_type": "code",
   "execution_count": 8,
   "metadata": {},
   "outputs": [],
   "source": [
    "gdf2 = gdf.loc[cudf_groups[0:200], :]\n",
    "array = cp.asarray(gdf2.as_gpu_matrix())"
   ]
  },
  {
   "cell_type": "code",
   "execution_count": 9,
   "metadata": {},
   "outputs": [
    {
     "name": "stdout",
     "output_type": "stream",
     "text": [
      "25.6 ms ± 1.23 ms per loop (mean ± std. dev. of 7 runs, 10 loops each)\n"
     ]
    }
   ],
   "source": [
    "%%timeit \n",
    "gdf2 = gdf.loc[cudf_groups[0:200], :]\n",
    "array = cp.asarray(gdf2.as_gpu_matrix())"
   ]
  },
  {
   "cell_type": "markdown",
   "metadata": {},
   "source": [
    "### Calculate distance matrices to extract and univocally label pair-wise overlapping pixel events within a parametrized distance.\n",
    "\n",
    "We use the dataframes above that tells us for each \"bad\" pixel, which one has a \"bad\" neighbour, but we do not know what neighbour that is, that linkage does not exist and require calculating distance matrices.  "
   ]
  },
  {
   "cell_type": "code",
   "execution_count": 10,
   "metadata": {},
   "outputs": [],
   "source": [
    "# Column indices of a pair of wavelengths of interest\n",
    "w1_idx = 4\n",
    "w2_idx = 5"
   ]
  },
  {
   "cell_type": "code",
   "execution_count": 11,
   "metadata": {},
   "outputs": [
    {
     "name": "stdout",
     "output_type": "stream",
     "text": [
      "CPU times: user 6.27 s, sys: 36.1 ms, total: 6.3 s\n",
      "Wall time: 6.3 s\n"
     ]
    },
    {
     "data": {
      "text/html": [
       "<div>\n",
       "<style scoped>\n",
       "    .dataframe tbody tr th:only-of-type {\n",
       "        vertical-align: middle;\n",
       "    }\n",
       "\n",
       "    .dataframe tbody tr th {\n",
       "        vertical-align: top;\n",
       "    }\n",
       "\n",
       "    .dataframe thead th {\n",
       "        text-align: right;\n",
       "    }\n",
       "</style>\n",
       "<table border=\"1\" class=\"dataframe\">\n",
       "  <thead>\n",
       "    <tr style=\"text-align: right;\">\n",
       "      <th></th>\n",
       "      <th>coords1</th>\n",
       "      <th>int1_before</th>\n",
       "      <th>int1_after</th>\n",
       "      <th>wref1</th>\n",
       "      <th>coords2</th>\n",
       "      <th>int2_before</th>\n",
       "      <th>int2_after</th>\n",
       "      <th>wref2</th>\n",
       "      <th>GroupNumber</th>\n",
       "    </tr>\n",
       "  </thead>\n",
       "  <tbody>\n",
       "    <tr>\n",
       "      <th>1</th>\n",
       "      <td>938908</td>\n",
       "      <td>426</td>\n",
       "      <td>10</td>\n",
       "      <td>0</td>\n",
       "      <td>934812</td>\n",
       "      <td>307</td>\n",
       "      <td>3</td>\n",
       "      <td>1</td>\n",
       "      <td>432000</td>\n",
       "    </tr>\n",
       "    <tr>\n",
       "      <th>3</th>\n",
       "      <td>1004780</td>\n",
       "      <td>163</td>\n",
       "      <td>17</td>\n",
       "      <td>0</td>\n",
       "      <td>1004781</td>\n",
       "      <td>355</td>\n",
       "      <td>3</td>\n",
       "      <td>1</td>\n",
       "      <td>432000</td>\n",
       "    </tr>\n",
       "    <tr>\n",
       "      <th>4</th>\n",
       "      <td>2027361</td>\n",
       "      <td>333</td>\n",
       "      <td>1</td>\n",
       "      <td>0</td>\n",
       "      <td>2031457</td>\n",
       "      <td>27</td>\n",
       "      <td>1</td>\n",
       "      <td>1</td>\n",
       "      <td>432000</td>\n",
       "    </tr>\n",
       "    <tr>\n",
       "      <th>6</th>\n",
       "      <td>2535069</td>\n",
       "      <td>98</td>\n",
       "      <td>12</td>\n",
       "      <td>0</td>\n",
       "      <td>2530973</td>\n",
       "      <td>1857</td>\n",
       "      <td>2</td>\n",
       "      <td>1</td>\n",
       "      <td>432000</td>\n",
       "    </tr>\n",
       "    <tr>\n",
       "      <th>9</th>\n",
       "      <td>3629323</td>\n",
       "      <td>219</td>\n",
       "      <td>13</td>\n",
       "      <td>0</td>\n",
       "      <td>3629324</td>\n",
       "      <td>52</td>\n",
       "      <td>5</td>\n",
       "      <td>1</td>\n",
       "      <td>432000</td>\n",
       "    </tr>\n",
       "  </tbody>\n",
       "</table>\n",
       "</div>"
      ],
      "text/plain": [
       "   coords1  int1_before  int1_after  wref1  coords2  int2_before  int2_after  \\\n",
       "1   938908          426          10      0   934812          307           3   \n",
       "3  1004780          163          17      0  1004781          355           3   \n",
       "4  2027361          333           1      0  2031457           27           1   \n",
       "6  2535069           98          12      0  2530973         1857           2   \n",
       "9  3629323          219          13      0  3629324           52           5   \n",
       "\n",
       "   wref2  GroupNumber  \n",
       "1      1       432000  \n",
       "3      1       432000  \n",
       "4      1       432000  \n",
       "6      1       432000  \n",
       "9      1       432000  "
      ]
     },
     "execution_count": 11,
     "metadata": {},
     "output_type": "execute_result"
    }
   ],
   "source": [
    "%%time \n",
    "events12 = [get_2clusters(df1.loc[group_n].values, w1_idx, w2_idx, group_n) for group_n in groups]\n",
    "df_events12 = pd.concat(events12)\n",
    "df_events12 = df_events12.loc[(df_events12.wref2 == 1)]\n",
    "df_events12.head()"
   ]
  },
  {
   "cell_type": "markdown",
   "metadata": {},
   "source": [
    "#### Comparing CPU vs GPU versions"
   ]
  },
  {
   "cell_type": "code",
   "execution_count": 35,
   "metadata": {},
   "outputs": [
    {
     "name": "stdout",
     "output_type": "stream",
     "text": [
      "CPU times: user 1e+03 ns, sys: 1 µs, total: 2 µs\n",
      "Wall time: 4.05 µs\n"
     ]
    },
    {
     "data": {
      "text/plain": [
       "((1031292, 11), (16940,), (16940, 16940))"
      ]
     },
     "execution_count": 35,
     "metadata": {},
     "output_type": "execute_result"
    }
   ],
   "source": [
    "%time\n",
    "array = df1.loc[groups[0:200]].values\n",
    "np_mask = (array[:, w1_idx] == 1) & (array[:, w2_idx] == 1)\n",
    "cpu_coords = array[np_mask, 0]\n",
    "dist_matrix = get_dist_mat(cpu_coords)\n",
    "array.shape, cpu_coords.shape, dist_matrix.shape"
   ]
  },
  {
   "cell_type": "code",
   "execution_count": 20,
   "metadata": {},
   "outputs": [
    {
     "name": "stdout",
     "output_type": "stream",
     "text": [
      "54 ms ± 282 µs per loop (mean ± std. dev. of 7 runs, 10 loops each)\n"
     ]
    }
   ],
   "source": [
    "%%timeit\n",
    "array = cp.asarray(gdf.loc[cudf_groups[0:200], :].as_gpu_matrix())\n",
    "# Get the coordinates of the pixels that are known to belong to the pair of wavelengths of interest\n",
    "cp_mask = (array[:, w1_idx] == 1) & (array[:, w2_idx] == 1)\n",
    "gpu_coords = array[cp_mask, :][:,0] # CuPy currently does not support mixed slice/indexing methods... \n",
    "dist_matrix = get_dist_mat_gpu_fuse(gpu_coords)"
   ]
  },
  {
   "cell_type": "code",
   "execution_count": 21,
   "metadata": {},
   "outputs": [
    {
     "name": "stdout",
     "output_type": "stream",
     "text": [
      "966 ms ± 23 ms per loop (mean ± std. dev. of 7 runs, 1 loop each)\n"
     ]
    }
   ],
   "source": [
    "%timeit dist_matrix = get_dist_mat(cpu_coords)"
   ]
  },
  {
   "cell_type": "code",
   "execution_count": 22,
   "metadata": {},
   "outputs": [
    {
     "name": "stdout",
     "output_type": "stream",
     "text": [
      "25.8 ms ± 1.5 ms per loop (mean ± std. dev. of 7 runs, 10 loops each)\n"
     ]
    }
   ],
   "source": [
    "%timeit gdist_matrix2 = get_dist_mat_gpu_fuse(gpu_coords)"
   ]
  },
  {
   "cell_type": "code",
   "execution_count": 33,
   "metadata": {},
   "outputs": [
    {
     "data": {
      "text/plain": [
       "304.1666666666667"
      ]
     },
     "execution_count": 33,
     "metadata": {},
     "output_type": "execute_result"
    }
   ],
   "source": [
    "6 * 365 * 10 * 120 / (60 * 60) * 10 / 24"
   ]
  },
  {
   "cell_type": "code",
   "execution_count": 29,
   "metadata": {},
   "outputs": [
    {
     "data": {
      "text/plain": [
       "120"
      ]
     },
     "execution_count": 29,
     "metadata": {},
     "output_type": "execute_result"
    }
   ],
   "source": [
    "21+35+35+21+7+1"
   ]
  },
  {
   "cell_type": "code",
   "execution_count": 31,
   "metadata": {},
   "outputs": [
    {
     "data": {
      "text/plain": [
       "30.4"
      ]
     },
     "execution_count": 31,
     "metadata": {},
     "output_type": "execute_result"
    }
   ],
   "source": [
    "1520 / 50"
   ]
  },
  {
   "cell_type": "code",
   "execution_count": 34,
   "metadata": {},
   "outputs": [
    {
     "data": {
      "text/plain": [
       "38.64"
      ]
     },
     "execution_count": 34,
     "metadata": {},
     "output_type": "execute_result"
    }
   ],
   "source": [
    "966 / 25"
   ]
  },
  {
   "cell_type": "code",
   "execution_count": null,
   "metadata": {},
   "outputs": [],
   "source": []
  }
 ],
 "metadata": {
  "kernelspec": {
   "display_name": "Python 3",
   "language": "python",
   "name": "python3"
  },
  "language_info": {
   "codemirror_mode": {
    "name": "ipython",
    "version": 3
   },
   "file_extension": ".py",
   "mimetype": "text/x-python",
   "name": "python",
   "nbconvert_exporter": "python",
   "pygments_lexer": "ipython3",
   "version": "3.7.6"
  }
 },
 "nbformat": 4,
 "nbformat_minor": 4
}
