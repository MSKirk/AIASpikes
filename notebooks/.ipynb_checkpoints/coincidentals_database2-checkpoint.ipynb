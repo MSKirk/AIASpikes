{
 "cells": [
  {
   "cell_type": "code",
   "execution_count": 1,
   "metadata": {},
   "outputs": [],
   "source": [
    "import os\n",
    "import pandas as pd\n",
    "import numpy as np\n",
    "import fitsio\n",
    "import cudf\n",
    "from numba import cuda\n",
    "import cupy as cp"
   ]
  },
  {
   "cell_type": "code",
   "execution_count": 2,
   "metadata": {},
   "outputs": [],
   "source": [
    "def extract_coincidentals(spikes_list, idx):\n",
    "    \n",
    "    # Spikes coordinates at given wavelength index\n",
    "    spikes_w = spikes_list[idx]\n",
    "    # Associated neighbour coordinates\n",
    "    nb_pixels = index_8nb[spikes_w[0, :], :]\n",
    "    # Sublist of spikes data that will excludes the one serving as template\n",
    "    spikes_sublist = spikes_list[:idx]+spikes_list[idx+1:]\n",
    "    # Coincidental cross-referencing. \n",
    "    mask_w_arr = np.array([np.isin(nb_pixels, index_8nb[spikes[0,:], :]).any(axis=1) for spikes in spikes_sublist])\n",
    "    select_pixels = mask_w_arr.any(axis=0)\n",
    "    coords_w = spikes_w[0, select_pixels] \n",
    "    w_tables = np.insert(mask_w_arr[:, select_pixels], idx, True, axis=0)\n",
    "    # Retrieve intensity values for the selected coordinates\n",
    "    intensities = spikes_w[ 1:, select_pixels]\n",
    "    arr_w = np.concatenate([coords_w[np.newaxis,...], intensities, w_tables], axis=0)\n",
    "    arr_w = np.insert(arr_w, 3, idx, axis=0)\n",
    "    \n",
    "    return arr_w"
   ]
  },
  {
   "cell_type": "code",
   "execution_count": 3,
   "metadata": {},
   "outputs": [],
   "source": [
    "data_dir = os.environ['SPIKESDATA']\n",
    "spikes_db = pd.read_parquet(os.path.join(data_dir, 'spikes_df_2010.parquet'), engine='pyarrow')\n",
    "spikes_db2 = spikes_db.set_index(['GroupNumber', 'Time'])"
   ]
  },
  {
   "cell_type": "markdown",
   "metadata": {},
   "source": [
    "### Get the filepaths (typically 7) for a given group"
   ]
  },
  {
   "cell_type": "code",
   "execution_count": 4,
   "metadata": {},
   "outputs": [
    {
     "data": {
      "text/plain": [
       "(16777216, 9)"
      ]
     },
     "execution_count": 4,
     "metadata": {},
     "output_type": "execute_result"
    }
   ],
   "source": [
    "################################################################################################\n",
    "# Pre-compute the 8-connectivity lookup table. This will be shared across parallel workers.\n",
    "################################################################################################\n",
    "# List of relative 2D coordinates for 8-neighbour connectiviy (9-element list). 1st one is the origin pixel.\n",
    "coords_8nb = np.array([[0, 0], [-1, 0], [-1, -1], [0, -1], [1, -1], [1, 0], [1, 1], [0, 1], [-1, 1]])\n",
    "# Array of 2D coordinates for a 4096 x 4096 array. Matrix convention is kept. [rows, cols] = [y-axis, x-axis]\n",
    "ny, nx = [4096, 4096]\n",
    "coords_1d = np.arange(nx * ny)\n",
    "coordy, coordx = np.unravel_index(coords_1d, [ny, nx]) # also possible by raveling a meshgrid() output\n",
    "coords2d = np.array([coordy, coordx])\n",
    "# Create the array of 2D coordinates of 8-neighbours associated with each pixel.\n",
    "# pixel 0 has 8 neighbour + itself, pixel 1 has 8 neighbour + itself, etc...\n",
    "coords2d_8nb = coords2d[np.newaxis, ...] + coords_8nb[..., np.newaxis]\n",
    "# Handle off-edges coordinates by clipping to the edges, operation done in-place. Here, square detector assumed. Update\n",
    "# to per-axis clipping if that ever changes for another instrument.\n",
    "np.clip(coords2d_8nb, 0, nx-1, out=coords2d_8nb)\n",
    "# Convert to 1D coordinates.\n",
    "index_8nb = np.array([coords2d_8nb[i, 0, :] * nx + coords2d_8nb[i, 1, :] for i in range(len(coords_8nb))],\n",
    "                     dtype='int32', order='C').T\n",
    "index_8nb.shape"
   ]
  },
  {
   "cell_type": "code",
   "execution_count": 5,
   "metadata": {},
   "outputs": [
    {
     "name": "stdout",
     "output_type": "stream",
     "text": [
      "(3, 8486)\n",
      "(3, 30356)\n",
      "(3, 36549)\n",
      "(3, 7993)\n",
      "(3, 13781)\n",
      "(3, 26443)\n",
      "(3, 27576)\n",
      "\n",
      "total spikes =  151184\n"
     ]
    }
   ],
   "source": [
    "n_co_spikes = 2\n",
    "\n",
    "group_n = 0\n",
    "fpaths = spikes_db2.loc[group_n]['Path'].values\n",
    "spikes_list = [fitsio.read(os.path.join(data_dir, f)) for f in fpaths]\n",
    "nspikes = 0\n",
    "for spikes in spikes_list:\n",
    "    print(spikes.shape)\n",
    "    nspikes += spikes.shape[1]\n",
    "print('\\ntotal spikes = ', nspikes)"
   ]
  },
  {
   "cell_type": "code",
   "execution_count": 6,
   "metadata": {},
   "outputs": [],
   "source": [
    "column_names = ['coords' , 'int1', 'int2', 'wref', 'w0', 'w1', 'w2', 'w3', 'w4', 'w5', 'w6']"
   ]
  },
  {
   "cell_type": "code",
   "execution_count": 7,
   "metadata": {},
   "outputs": [],
   "source": [
    "group_data = np.concatenate([extract_coincidentals(spikes_list, i) for i in range(7)], axis=1)\n",
    "#u, idx, counts = np.unique(group_data[0, :], return_index=True, return_counts=True)\n",
    "df0 = pd.DataFrame(group_data.T, columns=column_names)\n"
   ]
  },
  {
   "cell_type": "code",
   "execution_count": 8,
   "metadata": {},
   "outputs": [
    {
     "name": "stdout",
     "output_type": "stream",
     "text": [
      "   coords  int1  int2  wref  w0  w1  w2  w3  w4  w5  w6\n",
      "0   18917   122    11     0   1   1   0   0   0   0   0\n",
      "1   19192   124     7     0   1   0   0   1   0   0   0\n",
      "2   23013    75    10     0   1   1   0   0   0   0   0\n",
      "3   23287   157     9     0   1   0   0   1   0   0   0\n",
      "4   27109    38     9     0   1   1   0   0   0   0   0\n",
      "16339\n"
     ]
    }
   ],
   "source": [
    "print(df0.head())\n",
    "print(len(df0))"
   ]
  },
  {
   "cell_type": "markdown",
   "metadata": {},
   "source": [
    "### Design method to extract unique coincidental events, lifting any ambiguity (conjugates, redundancies, ...)"
   ]
  },
  {
   "cell_type": "code",
   "execution_count": 9,
   "metadata": {},
   "outputs": [],
   "source": [
    "def get_rows_list(array, w1_idx, w2_idx):\n",
    "    np_mask = (array[:, w1_idx] == 1) & (array[:, w2_idx] == 1)\n",
    "    df_idx = np.nonzero(np_mask)[0]\n",
    "    coords = array[np_mask, 0]\n",
    "    coords_x = coords % 4096\n",
    "    coords_y = coords // 4096\n",
    "    coords_xb = coords_x[:, np.newaxis]\n",
    "    coords_yb = coords_y[:, np.newaxis]\n",
    "    dx_broadc = coords_x - coords_xb\n",
    "    dy_broadc = coords_y - coords_yb\n",
    "    dist_matrix = np.sqrt(dx_broadc**2 + dy_broadc**2)\n",
    "    select = dist_matrix < 2 \n",
    "    select2 = np.triu(select, k=1)\n",
    "    r,c = np.nonzero(select2)\n",
    "    idx1, idx2 = df_idx[r], df_idx[c]\n",
    "    return idx1, idx2"
   ]
  },
  {
   "cell_type": "code",
   "execution_count": 10,
   "metadata": {},
   "outputs": [],
   "source": [
    "def get_rows_list_gpu(array, w1_idx, w2_idx):\n",
    "    mask = (array[:, w1_idx] == 1) & (array[:, w2_idx] == 1)\n",
    "    df_idx = cp.nonzero(mask)[0]\n",
    "    coords = array[df_idx, 0]\n",
    "    coords_x = coords % 4096\n",
    "    coords_y = coords // 4096\n",
    "    coords_xb = coords_x[:, cp.newaxis]\n",
    "    coords_yb = coords_y[:, cp.newaxis]\n",
    "    dx_broadc = coords_x - coords_xb\n",
    "    dy_broadc = coords_y - coords_yb\n",
    "    dist_matrix = cp.sqrt(dx_broadc**2 + dy_broadc**2)\n",
    "    select = dist_matrix < 2 \n",
    "    select2 = cp.triu(select, k=1)\n",
    "    r,c = cp.nonzero(select2)\n",
    "    idx1, idx2 = df_idx[r], df_idx[c]\n",
    "    return idx1, idx2"
   ]
  },
  {
   "cell_type": "code",
   "execution_count": 14,
   "metadata": {},
   "outputs": [],
   "source": [
    "def get_2coincidentals(array, w1_idx, w2_idx):\n",
    "    idx1, idx2 = get_rows_list(array, w1_idx, w2_idx)\n",
    "    records = [df0.loc[[i1, i2]][['coords', 'int1', 'int2', 'wref']] for i1, i2 in zip(idx1, idx2)]\n",
    "    df_records = pd.concat(records, keys=list(range(len(records))))\n",
    "    return df_records"
   ]
  },
  {
   "cell_type": "code",
   "execution_count": 134,
   "metadata": {},
   "outputs": [],
   "source": [
    "def get_2coincidentals2(array, w1_idx, w2_idx):\n",
    "    idx1, idx2 = get_rows_list(array, w1_idx, w2_idx)\n",
    "#     records = arr0[(idx1, idx2), 0:4]\n",
    "#     records2 = records.reshape([np.prod(records.shape[0:2]), records.shape[-1]])\n",
    "\n",
    "#     index_iterables = [np.arange(records_arr.shape[0]), [0,1]]\n",
    "#     index = pd.MultiIndex.from_product(index_iterables, names=['id1', 'id2'])\n",
    "    \n",
    "#     df_records = pd.DataFrame(records2, index=index, columns=['coords', 'int1', 'int2', 'wref'])\n",
    "    records = np.concatenate((array[idx1, 0:4], array[idx2, 0:4]), axis=1)\n",
    "    df_records = pd.DataFrame(records, columns=['coords1', 'int1_before', 'int1_after', 'wref1', 'coords2', 'int2_before', 'int2_after', 'wref2'])\n",
    "\n",
    "    return df_records"
   ]
  },
  {
   "cell_type": "code",
   "execution_count": 15,
   "metadata": {},
   "outputs": [],
   "source": [
    "def get_2coincidentals_gpu(array, w1_idx, w2_idx):\n",
    "    gidx1, gidx2 = get_rows_list_gpu(array, w1_idx, w2_idx)\n",
    "    records = array[(gidx1, gidx2), 0:4]\n",
    "    records2 = records.reshape([np.prod(records.shape[0:2]), records.shape[-1]])\n",
    "    \n",
    "    records = [df0.loc[[i1, i2]][['coords', 'int1', 'int2', 'wref']] for i1, i2 in zip(idx1, idx2)]\n",
    "    df_records = cudf.concat(records, keys=list(range(len(records))))\n",
    "    return records"
   ]
  },
  {
   "cell_type": "code",
   "execution_count": 21,
   "metadata": {},
   "outputs": [],
   "source": [
    "w1_idx = 4\n",
    "w2_idx = 5\n",
    "arr0 = df0.values\n",
    "df_records = get_2coincidentals(arr0, w1_idx, w2_idx)"
   ]
  },
  {
   "cell_type": "code",
   "execution_count": 27,
   "metadata": {},
   "outputs": [
    {
     "name": "stdout",
     "output_type": "stream",
     "text": [
      "1.23 ms ± 22.6 µs per loop (mean ± std. dev. of 7 runs, 1000 loops each)\n"
     ]
    }
   ],
   "source": [
    "%timeit idx1, idx2 = get_rows_list(arr0, w1_idx, w2_idx)"
   ]
  },
  {
   "cell_type": "code",
   "execution_count": 138,
   "metadata": {},
   "outputs": [
    {
     "name": "stdout",
     "output_type": "stream",
     "text": [
      "421 ms ± 2.31 ms per loop (mean ± std. dev. of 7 runs, 1 loop each)\n"
     ]
    }
   ],
   "source": [
    "%timeit df_records = get_2coincidentals(arr0, w1_idx, w2_idx)"
   ]
  },
  {
   "cell_type": "code",
   "execution_count": 139,
   "metadata": {},
   "outputs": [
    {
     "name": "stdout",
     "output_type": "stream",
     "text": [
      "2.27 ms ± 18.3 µs per loop (mean ± std. dev. of 7 runs, 100 loops each)\n"
     ]
    }
   ],
   "source": [
    "%timeit df_records = get_2coincidentals2(arr0, w1_idx, w2_idx)"
   ]
  },
  {
   "cell_type": "code",
   "execution_count": 170,
   "metadata": {},
   "outputs": [
    {
     "name": "stdout",
     "output_type": "stream",
     "text": [
      "2.3 ms ± 31.2 µs per loop (mean ± std. dev. of 7 runs, 100 loops each)\n"
     ]
    }
   ],
   "source": [
    "%timeit df_records = get_2coincidentals2(arr0, w1_idx, w2_idx)\n",
    "#print(df_records.head())"
   ]
  },
  {
   "cell_type": "code",
   "execution_count": 167,
   "metadata": {},
   "outputs": [
    {
     "name": "stdout",
     "output_type": "stream",
     "text": [
      "(2, 476, 4)\n",
      "(189, 8)\n"
     ]
    },
    {
     "data": {
      "text/html": [
       "<div>\n",
       "<style scoped>\n",
       "    .dataframe tbody tr th:only-of-type {\n",
       "        vertical-align: middle;\n",
       "    }\n",
       "\n",
       "    .dataframe tbody tr th {\n",
       "        vertical-align: top;\n",
       "    }\n",
       "\n",
       "    .dataframe thead th {\n",
       "        text-align: right;\n",
       "    }\n",
       "</style>\n",
       "<table border=\"1\" class=\"dataframe\">\n",
       "  <thead>\n",
       "    <tr style=\"text-align: right;\">\n",
       "      <th></th>\n",
       "      <th>coords1</th>\n",
       "      <th>int1_before</th>\n",
       "      <th>int1_after</th>\n",
       "      <th>wref2</th>\n",
       "      <th>coords2</th>\n",
       "      <th>int2_before</th>\n",
       "      <th>int2_after</th>\n",
       "      <th>wref2</th>\n",
       "    </tr>\n",
       "  </thead>\n",
       "  <tbody>\n",
       "    <tr>\n",
       "      <th>0</th>\n",
       "      <td>23013</td>\n",
       "      <td>75</td>\n",
       "      <td>10</td>\n",
       "      <td>0</td>\n",
       "      <td>27108</td>\n",
       "      <td>11</td>\n",
       "      <td>0</td>\n",
       "      <td>1</td>\n",
       "    </tr>\n",
       "    <tr>\n",
       "      <th>1</th>\n",
       "      <td>27109</td>\n",
       "      <td>38</td>\n",
       "      <td>9</td>\n",
       "      <td>0</td>\n",
       "      <td>27108</td>\n",
       "      <td>11</td>\n",
       "      <td>0</td>\n",
       "      <td>1</td>\n",
       "    </tr>\n",
       "    <tr>\n",
       "      <th>2</th>\n",
       "      <td>272628</td>\n",
       "      <td>240</td>\n",
       "      <td>8</td>\n",
       "      <td>0</td>\n",
       "      <td>268532</td>\n",
       "      <td>111</td>\n",
       "      <td>0</td>\n",
       "      <td>1</td>\n",
       "    </tr>\n",
       "    <tr>\n",
       "      <th>3</th>\n",
       "      <td>272628</td>\n",
       "      <td>240</td>\n",
       "      <td>8</td>\n",
       "      <td>0</td>\n",
       "      <td>268533</td>\n",
       "      <td>20</td>\n",
       "      <td>0</td>\n",
       "      <td>1</td>\n",
       "    </tr>\n",
       "    <tr>\n",
       "      <th>4</th>\n",
       "      <td>272629</td>\n",
       "      <td>32</td>\n",
       "      <td>10</td>\n",
       "      <td>0</td>\n",
       "      <td>268532</td>\n",
       "      <td>111</td>\n",
       "      <td>0</td>\n",
       "      <td>1</td>\n",
       "    </tr>\n",
       "  </tbody>\n",
       "</table>\n",
       "</div>"
      ],
      "text/plain": [
       "   coords1  int1_before  int1_after  wref2  coords2  int2_before  int2_after  \\\n",
       "0    23013           75          10      0    27108           11           0   \n",
       "1    27109           38           9      0    27108           11           0   \n",
       "2   272628          240           8      0   268532          111           0   \n",
       "3   272628          240           8      0   268533           20           0   \n",
       "4   272629           32          10      0   268532          111           0   \n",
       "\n",
       "   wref2  \n",
       "0      1  \n",
       "1      1  \n",
       "2      1  \n",
       "3      1  \n",
       "4      1  "
      ]
     },
     "execution_count": 167,
     "metadata": {},
     "output_type": "execute_result"
    }
   ],
   "source": [
    "array = arr0\n",
    "idx1, idx2 = get_rows_list(array, w1_idx, w2_idx)\n",
    "print(records.shape)\n",
    "keep_mask = arr0[idx1, 3] != arr0[idx2, 3] \n",
    "recordsf = np.concatenate((arr0[idx1[keep_mask], 0:4], arr0[idx2[keep_mask], 0:4]), axis=1)\n",
    "print(recordsf.shape)\n",
    "df_records = pd.DataFrame(recordsf, columns=['coords1', 'int1_before', 'int1_after', 'wref1', 'coords2', 'int2_before', 'int2_after', 'wref2'])\n",
    "df_records.head()"
   ]
  },
  {
   "cell_type": "code",
   "execution_count": 168,
   "metadata": {},
   "outputs": [
    {
     "name": "stdout",
     "output_type": "stream",
     "text": [
      "(5, 2533)\n",
      "(6, 2532)\n"
     ]
    }
   ],
   "source": [
    "print(np.unravel_index(23013, [4096, 4096]))\n",
    "print(np.unravel_index(27108, [4096, 4096]))"
   ]
  },
  {
   "cell_type": "code",
   "execution_count": 19,
   "metadata": {},
   "outputs": [],
   "source": [
    "gdf0 = cudf.DataFrame.from_pandas(df0)"
   ]
  },
  {
   "cell_type": "code",
   "execution_count": 25,
   "metadata": {},
   "outputs": [
    {
     "name": "stdout",
     "output_type": "stream",
     "text": [
      "(16339, 11)\n"
     ]
    }
   ],
   "source": [
    "cuarr0 = cp.asarray(arr0)\n",
    "print(cuarr0.shape)"
   ]
  },
  {
   "cell_type": "code",
   "execution_count": 26,
   "metadata": {},
   "outputs": [
    {
     "name": "stdout",
     "output_type": "stream",
     "text": [
      "1.88 ms ± 27.4 µs per loop (mean ± std. dev. of 7 runs, 1 loop each)\n"
     ]
    }
   ],
   "source": [
    "%timeit gidx1, gidx2 = get_rows_list_gpu(cuarr0, w1_idx, w2_idx)"
   ]
  },
  {
   "cell_type": "code",
   "execution_count": 28,
   "metadata": {},
   "outputs": [],
   "source": [
    "gidx1, gidx2 = get_rows_list_gpu(cuarr0, w1_idx, w2_idx)"
   ]
  },
  {
   "cell_type": "code",
   "execution_count": 174,
   "metadata": {},
   "outputs": [
    {
     "name": "stdout",
     "output_type": "stream",
     "text": [
      "6.49 ms ± 380 µs per loop (mean ± std. dev. of 7 runs, 100 loops each)\n"
     ]
    }
   ],
   "source": [
    "%%timeit\n",
    "gidx1, gidx2 = get_rows_list_gpu(cuarr0, w1_idx, w2_idx)\n",
    "records1 = cuarr0[gidx1, 0:4]\n",
    "records2 = cuarr0[gidx2, 0:4]\n",
    "records = cp.concatenate([records1, records2], axis=1)\n",
    "#cudf_records = cudf.DataFrame(records, columns=['coords1', 'int1_before', 'int1_after', 'wref1', 'coords2', 'int2_before', 'int2_after', 'wref2'])\n"
   ]
  },
  {
   "cell_type": "code",
   "execution_count": 57,
   "metadata": {},
   "outputs": [
    {
     "name": "stdout",
     "output_type": "stream",
     "text": [
      "568 µs ± 3.4 µs per loop (mean ± std. dev. of 7 runs, 1000 loops each)\n"
     ]
    }
   ],
   "source": [
    "%timeit curecord_df = cudf.DataFrame.from_gpu_matrix(fcurecord)"
   ]
  },
  {
   "cell_type": "code",
   "execution_count": 20,
   "metadata": {},
   "outputs": [],
   "source": [
    "records3 = records2.drop(labels=non_unique_idx)"
   ]
  },
  {
   "cell_type": "code",
   "execution_count": null,
   "metadata": {},
   "outputs": [],
   "source": []
  }
 ],
 "metadata": {
  "kernelspec": {
   "display_name": "Python 3",
   "language": "python",
   "name": "python3"
  },
  "language_info": {
   "codemirror_mode": {
    "name": "ipython",
    "version": 3
   },
   "file_extension": ".py",
   "mimetype": "text/x-python",
   "name": "python",
   "nbconvert_exporter": "python",
   "pygments_lexer": "ipython3",
   "version": "3.6.7"
  }
 },
 "nbformat": 4,
 "nbformat_minor": 4
}
