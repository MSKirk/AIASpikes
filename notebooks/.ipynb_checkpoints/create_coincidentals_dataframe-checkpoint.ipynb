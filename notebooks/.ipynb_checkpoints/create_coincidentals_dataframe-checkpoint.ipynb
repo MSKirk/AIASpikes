{
 "cells": [
  {
   "cell_type": "code",
   "execution_count": 17,
   "metadata": {},
   "outputs": [],
   "source": [
    "import os\n",
    "import pandas as pd\n",
    "import numpy as np\n",
    "import fitsio\n",
    "from pathlib import Path, PurePath"
   ]
  },
  {
   "cell_type": "code",
   "execution_count": 58,
   "metadata": {},
   "outputs": [],
   "source": [
    "def create_lookup_8nb(nx, ny):\n",
    "    \"\"\" Pre-compute the 8-connectivity lookup table. This will be shared across parallel workers.\n",
    "    :param nx:\n",
    "    :param ny:\n",
    "    :return:\n",
    "    \"\"\"\n",
    "    # List of relative 2D coordinates for 8-neighbour connectiviy (9-element list). 1st one is the origin pixel.\n",
    "    coords_8nb = np.array([[0, 0], [-1, 0], [-1, -1], [0, -1], [1, -1], [1, 0], [1, 1], [0, 1], [-1, 1]])\n",
    "    # Array of 2D coordinates for a 4096 x 4096 array. Matrix convention is kept. [rows, cols] = [y-axis, x-axis]\n",
    "    coords_1d = np.arange(nx * ny)\n",
    "    coordy, coordx = np.unravel_index(coords_1d, [ny, nx]) # also possible by raveling a meshgrid() output\n",
    "    coords2d = np.array([coordy, coordx])\n",
    "    # Create the array of 2D coordinates of 8-neighbours associated with each pixel.\n",
    "    # pixel 0 has 8 neighbour + itself, pixel 1 has 8 neighbour + itself, etc...\n",
    "    coords2d_8nb = coords2d[np.newaxis, ...] + coords_8nb[..., np.newaxis]\n",
    "    # Handle off-edges coordinates by clipping to the edges, operation done in-place. Here, square detector assumed.\n",
    "    # to per-axis clipping if that ever changes for another instrument.\n",
    "    np.clip(coords2d_8nb, 0, nx-1, out=coords2d_8nb)\n",
    "    # Convert to 1D coordinates.\n",
    "    lookup_coords = np.array([coords2d_8nb[i, 0, :] * nx + coords2d_8nb[i, 1, :] for i in range(len(coords_8nb))],\n",
    "                         dtype='int32', order='C').T\n",
    "    return lookup_coords\n",
    "\n",
    "\n",
    "def extract_coincidentals(spikes_list, idx):\n",
    "    # Spikes coordinates at given wavelength index\n",
    "    spikes_w = spikes_list[idx]\n",
    "    # Associated neighbour coordinates\n",
    "    nb_pixels = index_8nb[spikes_w[0, :], :]\n",
    "    # Cross-referencing the spikes coordinates of all wavelengths (needles) with the neighbour array (haystack) at wavelength idx\n",
    "    isin_arr = np.array([ np.isin(nb_pixels[:, int(i==idx):], spikes[0, :]).any(axis=1) for i, spikes in enumerate(spikes_list)])\n",
    "    select_pixels = isin_arr.any(axis=0)\n",
    "    isin_table = np.insert(isin_arr[:, select_pixels], idx, True, axis=0)\n",
    "    # Get coordinates and intensity values for the selected coincidental pixels, alongside the \"truth table\".\n",
    "    arr_w = np.concatenate([spikes_w[:, select_pixels], isin_table], axis=0)\n",
    "    arr_w = np.insert(arr_w, 3, idx, axis=0)\n",
    "    return arr_w\n",
    "\n",
    "\n",
    "SPIKESDATA = os.environ['SPIKESDATA']\n",
    "column_names = ['coords', 'int1', 'int2', 'wref', 'w1', 'w2', 'w3', 'w4', 'w4', 'w5', 'w6', 'w7']"
   ]
  },
  {
   "cell_type": "code",
   "execution_count": 3,
   "metadata": {},
   "outputs": [],
   "source": [
    "index_8nb = create_lookup_8nb(4096, 4096)"
   ]
  },
  {
   "cell_type": "code",
   "execution_count": 4,
   "metadata": {},
   "outputs": [],
   "source": [
    "spikes_df = pd.read_parquet(os.path.join(os.environ['SPIKESDATA'], 'spikes_df_2010.parquet'),\n",
    "                                engine='pyarrow')"
   ]
  },
  {
   "cell_type": "code",
   "execution_count": 5,
   "metadata": {},
   "outputs": [],
   "source": [
    "spikes_df2 = spikes_df.set_index(['GroupNumber', 'Time'])\n",
    "path_Series = spikes_df2['Path']"
   ]
  },
  {
   "cell_type": "code",
   "execution_count": 6,
   "metadata": {},
   "outputs": [],
   "source": [
    "tintervals = pd.interval_range(start=pd.Timestamp('2010-05-13 00:00:00', tz='UTC'),\n",
    "                                   end=pd.Timestamp('2010-05-16 00:00:00', tz='UTC'),\n",
    "                                   freq='D', closed='left')\n",
    "\n",
    "tint = tintervals[0]"
   ]
  },
  {
   "cell_type": "code",
   "execution_count": 60,
   "metadata": {},
   "outputs": [],
   "source": [
    "groups = spikes_df['GroupNumber'].loc[(spikes_df['Time'] >= tint.left) & (spikes_df['Time'] < tint.right)].unique()\n",
    "group_n = groups[0]"
   ]
  },
  {
   "cell_type": "code",
   "execution_count": 69,
   "metadata": {},
   "outputs": [
    {
     "name": "stdout",
     "output_type": "stream",
     "text": [
      "(3, 8486)\n",
      "(3, 30356)\n",
      "(3, 36549)\n",
      "(3, 7993)\n",
      "(3, 13781)\n",
      "(3, 26443)\n",
      "(3, 27576)\n"
     ]
    }
   ],
   "source": [
    "fpaths = path_Series.loc[groups[0]]\n",
    "spikes_list = [fitsio.read(PurePath(SPIKESDATA, f).as_posix()) for f in fpaths]\n",
    "for spikes in spikes_list:\n",
    "    print(spikes.shape)"
   ]
  },
  {
   "cell_type": "code",
   "execution_count": 48,
   "metadata": {},
   "outputs": [
    {
     "name": "stdout",
     "output_type": "stream",
     "text": [
      "CPU times: user 27 ms, sys: 3.18 ms, total: 30.2 ms\n",
      "Wall time: 29.4 ms\n"
     ]
    }
   ],
   "source": [
    "%time r = extract_coincidentals(spikes_list, 0)"
   ]
  },
  {
   "cell_type": "code",
   "execution_count": 49,
   "metadata": {},
   "outputs": [
    {
     "name": "stdout",
     "output_type": "stream",
     "text": [
      "22.8 ms ± 250 µs per loop (mean ± std. dev. of 7 runs, 10 loops each)\n"
     ]
    }
   ],
   "source": [
    "%timeit r = extract_coincidentals(spikes_list, 0)"
   ]
  },
  {
   "cell_type": "code",
   "execution_count": 53,
   "metadata": {},
   "outputs": [
    {
     "name": "stdout",
     "output_type": "stream",
     "text": [
      "CPU times: user 489 ms, sys: 0 ns, total: 489 ms\n",
      "Wall time: 488 ms\n"
     ]
    }
   ],
   "source": [
    "%time group_data = np.concatenate([ extract_coincidentals(spikes_list, i) for i in range(7) ], axis=1)"
   ]
  },
  {
   "cell_type": "code",
   "execution_count": 68,
   "metadata": {},
   "outputs": [
    {
     "name": "stdout",
     "output_type": "stream",
     "text": [
      "454 ms ± 1.77 ms per loop (mean ± std. dev. of 7 runs, 1 loop each)\n"
     ]
    }
   ],
   "source": [
    "%timeit group_data = np.concatenate([ extract_coincidentals(spikes_list, i) for i in range(7) ], axis=1)"
   ]
  },
  {
   "cell_type": "code",
   "execution_count": 64,
   "metadata": {},
   "outputs": [
    {
     "name": "stdout",
     "output_type": "stream",
     "text": [
      "461 ms ± 1.32 ms per loop (mean ± std. dev. of 7 runs, 1 loop each)\n"
     ]
    }
   ],
   "source": [
    "%%timeit\n",
    "group_data = np.concatenate([ extract_coincidentals(spikes_list, i) for i in range(7) ], axis=1)\n",
    "coincidental_spikes_df = pd.DataFrame(group_data.T, columns=column_names)\n",
    "coincidental_spikes_df['GroupNumber'] = group_n"
   ]
  },
  {
   "cell_type": "code",
   "execution_count": null,
   "metadata": {},
   "outputs": [],
   "source": []
  }
 ],
 "metadata": {
  "kernelspec": {
   "display_name": "Python 3",
   "language": "python",
   "name": "python3"
  },
  "language_info": {
   "codemirror_mode": {
    "name": "ipython",
    "version": 3
   },
   "file_extension": ".py",
   "mimetype": "text/x-python",
   "name": "python",
   "nbconvert_exporter": "python",
   "pygments_lexer": "ipython3",
   "version": "3.7.6"
  }
 },
 "nbformat": 4,
 "nbformat_minor": 4
}
