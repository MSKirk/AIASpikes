{
 "cells": [
  {
   "cell_type": "code",
   "execution_count": 1,
   "metadata": {},
   "outputs": [
    {
     "name": "stdout",
     "output_type": "stream",
     "text": [
      "numpy:  1.18.1\n",
      "cupy:  7.3.0\n",
      "cudf:  0.13.0+0.ga2804c3.dirty\n"
     ]
    }
   ],
   "source": [
    "import os\n",
    "import pandas as pd\n",
    "import numpy as np\n",
    "import fitsio\n",
    "from pathlib import Path, PurePath\n",
    "import cudf\n",
    "from IPython.display import display\n",
    "import cupy as cp\n",
    "\n",
    "print(\"numpy: \", np.__version__)\n",
    "print(\"cupy: \", cp.__version__)\n",
    "print(\"cudf: \", cudf.__version__)"
   ]
  },
  {
   "cell_type": "code",
   "execution_count": 28,
   "metadata": {},
   "outputs": [],
   "source": [
    "def create_lookup_8nb(nx, ny):\n",
    "    \"\"\" Pre-compute the 8-connectivity lookup table. This will be shared across parallel workers.\n",
    "    :param nx: number of columns in image array (number of pixels on horizontal axis)\n",
    "    :param ny: number of rows in image array (number of pixels on vertical axis)\n",
    "    :return:\n",
    "    \"\"\"\n",
    "    # List of relative 2D coordinates for 8-neighbour connectivity, including origin pixel.\n",
    "    coords_8nb = np.array([[0, 0], [-1, 0], [-1, -1], [0, -1], [1, -1], [1, 0], [1, 1], [0, 1], [-1, 1]])\n",
    "    # Array of 2D coordinates for a 4096 x 4096 array. Matrix convention is kept. [rows, cols] = [y-axis, x-axis]\n",
    "    coords_1d = np.arange(nx * ny)\n",
    "    coordy, coordx = np.unravel_index(coords_1d, [ny, nx]) # also possible by raveling a meshgrid() output\n",
    "    coords2d = np.array([coordy, coordx])\n",
    "    # Create the array of 2D coordinates of 8-neighbours associated with each pixel.\n",
    "    # pixel 0 has 8 neighbour + itself, pixel 1 has 8 neighbour + itself, etc...\n",
    "    coords2d_8nb = coords2d[np.newaxis, ...] + coords_8nb[..., np.newaxis]\n",
    "    # Handle off-edges coordinates by clipping to the edges, operation done in-place. Here, square detector assumed.\n",
    "    np.clip(coords2d_8nb, 0, nx-1, out=coords2d_8nb)\n",
    "    # Convert to 1D coordinates.\n",
    "    lookup_coords = np.array([coords2d_8nb[i, 0, :] * nx + coords2d_8nb[i, 1, :] for i in range(len(coords_8nb))],\n",
    "                         dtype='int32', order='C').T\n",
    "    return lookup_coords\n",
    "\n",
    "\n",
    "def where_coincidentals(spikes_list, idx):\n",
    "    # Spikes coordinates at given wavelength index\n",
    "    spikes_w = spikes_list[idx]\n",
    "    # Associated neighbour coordinates\n",
    "    nb_haystack = index_8nb[spikes_w, :]\n",
    "    # Cross-referencing the spikes coordinates of all wavelengths (needles) with the neighbour array (haystack) at wavelength idx\n",
    "    isin_arr = np.array([ np.isin(nb_haystack[:, int(i==idx):], spikes).any(axis=1) for i, spikes in enumerate(spikes_list)])\n",
    "    select_pixels = isin_arr.any(axis=0)\n",
    "    return select_pixels\n",
    "\n",
    "\n",
    "def cudf_isin(cupy_haystack, cudf_needles):\n",
    "    haystack_flat = cupy_haystack.flatten()\n",
    "    haystack_flat = cudf.from_dlpack(cp.asfortranarray(haystack_flat).toDlpack())\n",
    "    isin_flat = haystack_flat.isin(cudf_needles) \n",
    "    isin_reshaped = isin_flat.values.reshape(cupy_haystack.shape)\n",
    "    return isin_reshaped\n",
    "\n",
    "\n",
    "def where_coincidentals_cudf(cudf_spikes_list, idx):\n",
    "    # Spikes coordinates at given wavelength index\n",
    "    spikes_w = cudf_spikes_list[idx]\n",
    "    # Associated neighbour coordinates\n",
    "    nb_haystack = cu_8nb[spikes_w.values, :]\n",
    "    # Cross-referencing the spikes coordinates of all wavelengths (needles) with the neighbour array (haystack) at wavelength idx\n",
    "    isin_arr = [ cudf_isin(nb_haystack[:, int(i==idx):], spikes).any(axis=1) for i, spikes in enumerate(cudf_spikes_list) ]\n",
    "    select_pixels = cp.array(isin_arr).any(axis=0)\n",
    "    return select_pixels.get()\n",
    "\n"
   ]
  },
  {
   "cell_type": "code",
   "execution_count": 4,
   "metadata": {},
   "outputs": [],
   "source": [
    "# Create lookup table\n",
    "index_8nb = create_lookup_8nb(4096, 4096)\n",
    "# Convert into pandas dataframe\n",
    "cu_8nb = cp.asarray(index_8nb)"
   ]
  },
  {
   "cell_type": "markdown",
   "metadata": {},
   "source": [
    "### Create random data - mimic real data array sizes"
   ]
  },
  {
   "cell_type": "code",
   "execution_count": 5,
   "metadata": {},
   "outputs": [],
   "source": [
    "# Generate random numpy arrays, same size as group N=0 of real data\n",
    "nspikes = [8486, 30_356, 36_549, 7993, 13_781, 26_443, 27_576]\n",
    "np_needles = [np.random.randint(1, high=(4096*4096)-1, size=n, dtype=np.int32) for n in nspikes]\n",
    "# To GPU: list of CUDF Series containing only the coordinates from the data loaded in each file\n",
    "# 7 CUDF Series cooresponding to the spikes coordinates measured in the 7 wavelengths (wav0, wav1, ... wav6)\n",
    "cudf_needles = [cudf.Series(needles, name=f'wav{w}') for w, needles in enumerate(np_needles)]\n",
    "# cupy_needles = [cp.asarray(needles) for needles in np_needles]"
   ]
  },
  {
   "cell_type": "code",
   "execution_count": 29,
   "metadata": {},
   "outputs": [],
   "source": [
    "idx = 0\n",
    "spikes_w = cudf_needles[idx]\n",
    "# Associated neighbour coordinates\n",
    "cupy_haystack = cu_8nb[spikes_w.values, :]\n",
    "# cpu version\n",
    "select_pixels = [where_coincidentals(np_needles, i) for i in range(7)]\n",
    "# Cupy / CUDF version restricted to the isin() search and any() reduction\n",
    "select_pixels = [where_coincidentals_cudf(cudf_needles, i) for i in range(7)]"
   ]
  },
  {
   "cell_type": "code",
   "execution_count": 30,
   "metadata": {},
   "outputs": [
    {
     "name": "stdout",
     "output_type": "stream",
     "text": [
      "CPU times: user 617 ms, sys: 0 ns, total: 617 ms\n",
      "Wall time: 616 ms\n"
     ]
    }
   ],
   "source": [
    "%time select_pixels = [ where_coincidentals(np_needles, i) for i in range(7) ]"
   ]
  },
  {
   "cell_type": "code",
   "execution_count": 31,
   "metadata": {},
   "outputs": [
    {
     "name": "stdout",
     "output_type": "stream",
     "text": [
      "CPU times: user 452 ms, sys: 92.2 ms, total: 544 ms\n",
      "Wall time: 544 ms\n"
     ]
    }
   ],
   "source": [
    "%time select_pixels = [where_coincidentals_cudf(cudf_needles, i) for i in range(7)]"
   ]
  },
  {
   "cell_type": "code",
   "execution_count": null,
   "metadata": {},
   "outputs": [],
   "source": []
  }
 ],
 "metadata": {
  "kernelspec": {
   "display_name": "Python 3",
   "language": "python",
   "name": "python3"
  },
  "language_info": {
   "codemirror_mode": {
    "name": "ipython",
    "version": 3
   },
   "file_extension": ".py",
   "mimetype": "text/x-python",
   "name": "python",
   "nbconvert_exporter": "python",
   "pygments_lexer": "ipython3",
   "version": "3.7.6"
  }
 },
 "nbformat": 4,
 "nbformat_minor": 4
}
