{
 "cells": [
  {
   "cell_type": "code",
   "execution_count": null,
   "metadata": {},
   "outputs": [],
   "source": [
    "import os\n",
    "import pandas as pd\n",
    "import numpy as np\n",
    "import fitsio\n",
    "from pathlib import Path, PurePath\n",
    "import cudf\n",
    "from IPython.display import display\n",
    "import cupy as cp\n",
    "\n",
    "print(\"numpy: \", np.__version__)\n",
    "print(\"cupy: \", cp.__version__)\n",
    "print(\"cudf: \", cudf.__version__)"
   ]
  },
  {
   "cell_type": "code",
   "execution_count": null,
   "metadata": {},
   "outputs": [],
   "source": [
    "def create_lookup_8nb(nx, ny):\n",
    "    \"\"\" Pre-compute the 8-connectivity lookup table. This will be shared across parallel workers.\n",
    "    :param nx: number of columns in image array (number of pixels on horizontal axis)\n",
    "    :param ny: number of rows in image array (number of pixels on vertical axis)\n",
    "    :return:\n",
    "    \"\"\"\n",
    "    # List of relative 2D coordinates for 8-neighbour connectivity, including origin pixel.\n",
    "    coords_8nb = np.array([[0, 0], [-1, 0], [-1, -1], [0, -1], [1, -1], [1, 0], [1, 1], [0, 1], [-1, 1]])\n",
    "    # Array of 2D coordinates for a 4096 x 4096 array. Matrix convention is kept. [rows, cols] = [y-axis, x-axis]\n",
    "    coords_1d = np.arange(nx * ny)\n",
    "    coordy, coordx = np.unravel_index(coords_1d, [ny, nx]) # also possible by raveling a meshgrid() output\n",
    "    coords2d = np.array([coordy, coordx])\n",
    "    # Create the array of 2D coordinates of 8-neighbours associated with each pixel.\n",
    "    # pixel 0 has 8 neighbour + itself, pixel 1 has 8 neighbour + itself, etc...\n",
    "    coords2d_8nb = coords2d[np.newaxis, ...] + coords_8nb[..., np.newaxis]\n",
    "    # Handle off-edges coordinates by clipping to the edges, operation done in-place. Here, square detector assumed.\n",
    "    np.clip(coords2d_8nb, 0, nx-1, out=coords2d_8nb)\n",
    "    # Convert to 1D coordinates.\n",
    "    lookup_coords = np.array([coords2d_8nb[i, 0, :] * nx + coords2d_8nb[i, 1, :] for i in range(len(coords_8nb))],\n",
    "                         dtype='int32', order='C').T\n",
    "    return lookup_coords\n",
    "\n",
    "\n",
    "# Cupy kernel from Brian @ NVIDIA\n",
    "kernel = cp.ElementwiseKernel('T num,  T x,  raw T y', 'bool z',\n",
    "    '''int t = 0; \n",
    "    z = 0;\n",
    "    #pragma unroll\n",
    "    for(t = 0; t < num; t++) z = z || (x == y[t]);''',\n",
    "    'my_kernel')"
   ]
  },
  {
   "cell_type": "code",
   "execution_count": null,
   "metadata": {},
   "outputs": [],
   "source": [
    "# Create lookup table\n",
    "index_8nb = create_lookup_8nb(4096, 4096)\n",
    "# Convert into pandas dataframe\n",
    "pd_8nb = pd.DataFrame(index_8nb, index=index_8nb[:,0])\n",
    "# convert to CUDF. Consider this alternative to skip the Pandas conversion: \n",
    "# https://stackoverflow.com/questions/55922162/recommended-cudf-dataframe-construction\n",
    "cudf_8nb = cudf.DataFrame.from_pandas(pd_8nb)"
   ]
  },
  {
   "cell_type": "markdown",
   "metadata": {},
   "source": [
    "### Create random data - mimic real data array sizes"
   ]
  },
  {
   "cell_type": "code",
   "execution_count": null,
   "metadata": {},
   "outputs": [],
   "source": [
    "# Generate Cupy arrays\n",
    "nevents = np.array([20_000, 30_000, 35_000, 25_000, 23_000, 15_000, 10_000])\n",
    "np_needles = [np.random.randint(1, high=(4096*4096)-1, size=n, dtype=np.int32) for n in nevents]\n",
    "# To GPU: list of CUDF Series containing only the coordinates from the data loaded in each file\n",
    "# 7 CUDF Series cooresponding to the spikes coordinates measured in the 7 wavelengths (wav0, wav1, ... wav6)\n",
    "cudf_needles = [cudf.Series(needles, name=f'wav{w}') for w, needles in enumerate(np_needles)]\n",
    "cupy_needles = [cp.asarray(needles) for needles in np_needles]"
   ]
  },
  {
   "cell_type": "code",
   "execution_count": null,
   "metadata": {},
   "outputs": [],
   "source": [
    "np_haystack = index_8nb[np_needles[0],:]\n",
    "%timeit np_haystack = index_8nb[np_needles[0],:]"
   ]
  },
  {
   "cell_type": "markdown",
   "metadata": {},
   "source": [
    "Convert into CUDF dataframes."
   ]
  },
  {
   "cell_type": "code",
   "execution_count": null,
   "metadata": {},
   "outputs": [],
   "source": [
    "cudf_haystack = cudf_8nb.iloc[cudf_needles[0], :]\n",
    "%timeit cudf_haystack = cudf_8nb.iloc[cudf_needles[0], :]"
   ]
  },
  {
   "cell_type": "code",
   "execution_count": null,
   "metadata": {},
   "outputs": [],
   "source": [
    "np_H0_1 = np.isin(np_haystack, np_needles[1]).any(axis=1)\n",
    "np_H0_1.sum()\n",
    "%timeit np_H0_1 = np.isin(np_haystack, np_needles[1]).any(axis=1)"
   ]
  },
  {
   "cell_type": "code",
   "execution_count": null,
   "metadata": {},
   "outputs": [],
   "source": [
    "H0_1 = cudf.concat( [cudf_haystack[i].isin(cudf_needles[1]) for i in range(9)], axis=1 ).any(axis=1)\n",
    "%timeit H0_1 = cudf.concat( [cudf_haystack[i].isin(cudf_needles[1]) for i in range(9)], axis=1 ).any(axis=1)"
   ]
  },
  {
   "cell_type": "code",
   "execution_count": null,
   "metadata": {},
   "outputs": [],
   "source": [
    "cp_flat_haystack = cudf_haystack.values.flatten()\n",
    "hf0 = cp.asfortranarray(cp_flat_haystack)\n",
    "hf1 = cudf.from_dlpack(hf0.toDlpack())\n",
    "H0_1f = hf1.isin(cudf_needles[1]) \n",
    "H0_1f_reshaped = H0_1f.values.reshape(cudf_haystack.values.shape)\n",
    "H0_1 = H0_1f_reshaped.any(axis=1)\n",
    "np_H0_1_cp = cp.asnumpy(H0_1)\n",
    "np_H0_1_cp.sum()"
   ]
  },
  {
   "cell_type": "code",
   "execution_count": null,
   "metadata": {},
   "outputs": [],
   "source": [
    "%%timeit\n",
    "# Memory inflation with asfrotranarray()\n",
    "# hf0 = cupy.asfortranarray(haystack_pixels.values.flatten())\n",
    "hf1 = cudf.from_dlpack(hf0.toDlpack())\n",
    "H0_1f = hf1.isin(cudf_needles[1]) \n",
    "H0_1f_reshaped = H0_1f.values.reshape(cudf_haystack.values.shape)\n",
    "H0_1 = H0_1f_reshaped.any(axis=1)\n",
    "np_H0_1_cp = cp.asnumpy(H0_1)"
   ]
  },
  {
   "cell_type": "code",
   "execution_count": null,
   "metadata": {},
   "outputs": [],
   "source": [
    "def cupy_search(i):\n",
    "    H0_if = kernel(nevents[i], cp_flat_haystack, cupy_needles[i])\n",
    "    H0_if_reshaped = H0_if.reshape(cudf_haystack.values.shape)\n",
    "    H0_i = H0_1f_reshaped.any(axis=1)\n",
    "    # np_H0_i_cp = cp.asnumpy(H0_1)\n",
    "    return H0_i #np_H0_i_cp.sum()"
   ]
  },
  {
   "cell_type": "code",
   "execution_count": null,
   "metadata": {},
   "outputs": [],
   "source": [
    "%%time\n",
    "# Cupy\n",
    "sum1 = cupy_search(1)"
   ]
  },
  {
   "cell_type": "code",
   "execution_count": null,
   "metadata": {},
   "outputs": [],
   "source": [
    "%%time \n",
    "r1 = cupy_search(1)\n",
    "r2 = cupy_search(2)\n",
    "r3 = cupy_search(3)\n",
    "r4 = cupy_search(4)\n",
    "r5 = cupy_search(5)\n",
    "r6 = cupy_search(6)"
   ]
  },
  {
   "cell_type": "code",
   "execution_count": null,
   "metadata": {},
   "outputs": [],
   "source": []
  },
  {
   "cell_type": "code",
   "execution_count": null,
   "metadata": {},
   "outputs": [],
   "source": [
    "H0_allf = [kernel(nevents[i+1], cp_flat_haystack, cupy_needles[i+1]) for i in range(6)]\n",
    "np_H0_all = [cp.asnumpy(cparr) for cparr in H0_allf]\n",
    "np_H0_all[0].sum()"
   ]
  },
  {
   "cell_type": "code",
   "execution_count": null,
   "metadata": {},
   "outputs": [],
   "source": [
    "%%timeit \n",
    "H0_1f = kernel(nevents[1], cp_flat_haystack, cupy_needles[1])\n",
    "np_H0_1_cp = cp.asnumpy(H0_1)"
   ]
  },
  {
   "cell_type": "code",
   "execution_count": null,
   "metadata": {},
   "outputs": [],
   "source": [
    "%time\n",
    "H0_allf = [kernel(nevents[i+1], cp_flat_haystack, cupy_needles[i+1]) for i in range(6)]\n",
    "np_H0_all = [cp.asnumpy(cparr) for cparr in H0_allf]\n",
    "sums = [arr.sum() for arr in np_H0_all]"
   ]
  },
  {
   "cell_type": "code",
   "execution_count": null,
   "metadata": {},
   "outputs": [],
   "source": [
    "np_H0_all[0].sum()"
   ]
  },
  {
   "cell_type": "code",
   "execution_count": null,
   "metadata": {},
   "outputs": [],
   "source": []
  }
 ],
 "metadata": {
  "kernelspec": {
   "display_name": "Python 3",
   "language": "python",
   "name": "python3"
  },
  "language_info": {
   "codemirror_mode": {
    "name": "ipython",
    "version": 3
   },
   "file_extension": ".py",
   "mimetype": "text/x-python",
   "name": "python",
   "nbconvert_exporter": "python",
   "pygments_lexer": "ipython3",
   "version": "3.7.6"
  }
 },
 "nbformat": 4,
 "nbformat_minor": 4
}
