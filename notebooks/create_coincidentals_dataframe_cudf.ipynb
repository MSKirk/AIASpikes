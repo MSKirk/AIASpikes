{
 "cells": [
  {
   "cell_type": "code",
   "execution_count": 1,
   "metadata": {},
   "outputs": [],
   "source": [
    "import os\n",
    "import pandas as pd\n",
    "import numpy as np\n",
    "import fitsio\n",
    "from pathlib import Path, PurePath\n",
    "import cudf\n",
    "from IPython.display import display"
   ]
  },
  {
   "cell_type": "code",
   "execution_count": 2,
   "metadata": {},
   "outputs": [],
   "source": [
    "def create_lookup_8nb(nx, ny):\n",
    "    \"\"\" Pre-compute the 8-connectivity lookup table. This will be shared across parallel workers.\n",
    "    :param nx: number of columns in image array (number of pixels on horizontal axis)\n",
    "    :param ny: number of rows in image array (number of pixels on vertical axis)\n",
    "    :return:\n",
    "    \"\"\"\n",
    "    # List of relative 2D coordinates for 8-neighbour connectivity, including origin pixel.\n",
    "    coords_8nb = np.array([[0, 0], [-1, 0], [-1, -1], [0, -1], [1, -1], [1, 0], [1, 1], [0, 1], [-1, 1]])\n",
    "    # Array of 2D coordinates for a 4096 x 4096 array. Matrix convention is kept. [rows, cols] = [y-axis, x-axis]\n",
    "    coords_1d = np.arange(nx * ny)\n",
    "    coordy, coordx = np.unravel_index(coords_1d, [ny, nx]) # also possible by raveling a meshgrid() output\n",
    "    coords2d = np.array([coordy, coordx])\n",
    "    # Create the array of 2D coordinates of 8-neighbours associated with each pixel.\n",
    "    # pixel 0 has 8 neighbour + itself, pixel 1 has 8 neighbour + itself, etc...\n",
    "    coords2d_8nb = coords2d[np.newaxis, ...] + coords_8nb[..., np.newaxis]\n",
    "    # Handle off-edges coordinates by clipping to the edges, operation done in-place. Here, square detector assumed.\n",
    "    # to per-axis clipping if that ever changes for another instrument.\n",
    "    np.clip(coords2d_8nb, 0, nx-1, out=coords2d_8nb)\n",
    "    # Convert to 1D coordinates.\n",
    "    lookup_coords = np.array([coords2d_8nb[i, 0, :] * nx + coords2d_8nb[i, 1, :] for i in range(len(coords_8nb))],\n",
    "                         dtype='int32', order='C').T\n",
    "    return lookup_coords"
   ]
  },
  {
   "cell_type": "markdown",
   "metadata": {},
   "source": [
    "### Load the dataframes of file paths and their timestamp. "
   ]
  },
  {
   "cell_type": "code",
   "execution_count": 3,
   "metadata": {},
   "outputs": [],
   "source": [
    "spikes_df = pd.read_parquet(os.path.join(os.environ['SPIKESDATA'], 'spikes_df_2010.parquet'), engine='pyarrow')\n",
    "spikes_df.set_index(['GroupNumber'], inplace=True)\n",
    "path_Series = spikes_df['Path']"
   ]
  },
  {
   "cell_type": "code",
   "execution_count": 4,
   "metadata": {},
   "outputs": [],
   "source": [
    "tintervals = pd.interval_range(start=pd.Timestamp('2010-05-13 00:00:00', tz='UTC'),\n",
    "                                   end=pd.Timestamp('2010-05-16 00:00:00', tz='UTC'),\n",
    "                                   freq='D', closed='left')"
   ]
  },
  {
   "cell_type": "markdown",
   "metadata": {},
   "source": [
    "### Get the file paths of the 1st group in that time interval. There are 7 files per group"
   ]
  },
  {
   "cell_type": "code",
   "execution_count": 5,
   "metadata": {},
   "outputs": [
    {
     "data": {
      "text/plain": [
       "0    2010/05/13/2010-05-13T00:00:02.09Z_0193.spikes...\n",
       "0    2010/05/13/2010-05-13T00:00:03.57Z_0094.spikes...\n",
       "0    2010/05/13/2010-05-13T00:00:05.07Z_0335.spikes...\n",
       "0    2010/05/13/2010-05-13T00:00:06.58Z_0171.spikes...\n",
       "0    2010/05/13/2010-05-13T00:00:08.08Z_0211.spikes...\n",
       "0    2010/05/13/2010-05-13T00:00:09.58Z_0304.spikes...\n",
       "0    2010/05/13/2010-05-13T00:00:11.08Z_0131.spikes...\n",
       "Name: Path, dtype: object"
      ]
     },
     "execution_count": 5,
     "metadata": {},
     "output_type": "execute_result"
    }
   ],
   "source": [
    "tint = tintervals[0]\n",
    "groups = spikes_df.loc[(spikes_df['Time'] >= tint.left) & (spikes_df['Time'] < tint.right)].index.unique()\n",
    "group_n = groups[0]\n",
    "fpaths = path_Series[group_n]\n",
    "fpaths"
   ]
  },
  {
   "cell_type": "markdown",
   "metadata": {},
   "source": [
    "### load these fits files in RAM and send to GPU"
   ]
  },
  {
   "cell_type": "code",
   "execution_count": 6,
   "metadata": {},
   "outputs": [
    {
     "name": "stdout",
     "output_type": "stream",
     "text": [
      "8486\n",
      "30356\n",
      "36549\n",
      "7993\n",
      "13781\n",
      "26443\n",
      "27576\n"
     ]
    }
   ],
   "source": [
    "# %%timeit 3.99 ms ± 257 µs per loop (mean ± std. dev. of 7 runs, 100 loops each)\n",
    "spikes_list = [fitsio.read(os.path.join(os.environ['SPIKESDATA'], f)) for f in fpaths]\n",
    "for spikes in spikes_list:\n",
    "    print(len(spikes[0,:]))\n",
    "# Note: the size of the series of coordinates varies between files. They are independent measurements of \"spikes\" in each CCD <-> wavelength"
   ]
  },
  {
   "cell_type": "code",
   "execution_count": 7,
   "metadata": {},
   "outputs": [],
   "source": [
    "# To GPU: list of CUDF Series containing only the coordinates from the data loaded in each file\n",
    "# 7 CUDF Series cooresponding to the spikes coordinates measured in the 7 wavelengths (wav0, wav1, ... wav6)\n",
    "cuseries_ = [cudf.Series(spikes[0,:], name=f'wav{w}') for w, spikes in enumerate(spikes_list)]"
   ]
  },
  {
   "cell_type": "markdown",
   "metadata": {},
   "source": [
    "## Create lookup table and send to GPU"
   ]
  },
  {
   "cell_type": "code",
   "execution_count": 8,
   "metadata": {},
   "outputs": [],
   "source": [
    "index_8nb = create_lookup_8nb(4096, 4096)"
   ]
  },
  {
   "cell_type": "code",
   "execution_count": 9,
   "metadata": {},
   "outputs": [
    {
     "data": {
      "text/html": [
       "<div>\n",
       "<style scoped>\n",
       "    .dataframe tbody tr th:only-of-type {\n",
       "        vertical-align: middle;\n",
       "    }\n",
       "\n",
       "    .dataframe tbody tr th {\n",
       "        vertical-align: top;\n",
       "    }\n",
       "\n",
       "    .dataframe thead th {\n",
       "        text-align: right;\n",
       "    }\n",
       "</style>\n",
       "<table border=\"1\" class=\"dataframe\">\n",
       "  <thead>\n",
       "    <tr style=\"text-align: right;\">\n",
       "      <th></th>\n",
       "      <th>0</th>\n",
       "      <th>1</th>\n",
       "      <th>2</th>\n",
       "      <th>3</th>\n",
       "      <th>4</th>\n",
       "      <th>5</th>\n",
       "      <th>6</th>\n",
       "      <th>7</th>\n",
       "      <th>8</th>\n",
       "    </tr>\n",
       "  </thead>\n",
       "  <tbody>\n",
       "    <tr>\n",
       "      <th>0</th>\n",
       "      <td>0</td>\n",
       "      <td>0</td>\n",
       "      <td>0</td>\n",
       "      <td>0</td>\n",
       "      <td>4096</td>\n",
       "      <td>4096</td>\n",
       "      <td>4097</td>\n",
       "      <td>1</td>\n",
       "      <td>1</td>\n",
       "    </tr>\n",
       "    <tr>\n",
       "      <th>1</th>\n",
       "      <td>1</td>\n",
       "      <td>1</td>\n",
       "      <td>0</td>\n",
       "      <td>0</td>\n",
       "      <td>4096</td>\n",
       "      <td>4097</td>\n",
       "      <td>4098</td>\n",
       "      <td>2</td>\n",
       "      <td>2</td>\n",
       "    </tr>\n",
       "    <tr>\n",
       "      <th>2</th>\n",
       "      <td>2</td>\n",
       "      <td>2</td>\n",
       "      <td>1</td>\n",
       "      <td>1</td>\n",
       "      <td>4097</td>\n",
       "      <td>4098</td>\n",
       "      <td>4099</td>\n",
       "      <td>3</td>\n",
       "      <td>3</td>\n",
       "    </tr>\n",
       "    <tr>\n",
       "      <th>3</th>\n",
       "      <td>3</td>\n",
       "      <td>3</td>\n",
       "      <td>2</td>\n",
       "      <td>2</td>\n",
       "      <td>4098</td>\n",
       "      <td>4099</td>\n",
       "      <td>4100</td>\n",
       "      <td>4</td>\n",
       "      <td>4</td>\n",
       "    </tr>\n",
       "    <tr>\n",
       "      <th>4</th>\n",
       "      <td>4</td>\n",
       "      <td>4</td>\n",
       "      <td>3</td>\n",
       "      <td>3</td>\n",
       "      <td>4099</td>\n",
       "      <td>4100</td>\n",
       "      <td>4101</td>\n",
       "      <td>5</td>\n",
       "      <td>5</td>\n",
       "    </tr>\n",
       "  </tbody>\n",
       "</table>\n",
       "</div>"
      ],
      "text/plain": [
       "   0  1  2  3     4     5     6  7  8\n",
       "0  0  0  0  0  4096  4096  4097  1  1\n",
       "1  1  1  0  0  4096  4097  4098  2  2\n",
       "2  2  2  1  1  4097  4098  4099  3  3\n",
       "3  3  3  2  2  4098  4099  4100  4  4\n",
       "4  4  4  3  3  4099  4100  4101  5  5"
      ]
     },
     "metadata": {},
     "output_type": "display_data"
    }
   ],
   "source": [
    "pd_temp = pd.DataFrame(index_8nb, index=index_8nb[:,0])\n",
    "cuindex_8nb = cudf.DataFrame.from_pandas(pd_temp)\n",
    "display(pd_temp.head())"
   ]
  },
  {
   "cell_type": "markdown",
   "metadata": {},
   "source": [
    "## Define the \"needles and the haystack\" "
   ]
  },
  {
   "cell_type": "code",
   "execution_count": 10,
   "metadata": {},
   "outputs": [
    {
     "data": {
      "text/html": [
       "<div>\n",
       "<style scoped>\n",
       "    .dataframe tbody tr th:only-of-type {\n",
       "        vertical-align: middle;\n",
       "    }\n",
       "\n",
       "    .dataframe tbody tr th {\n",
       "        vertical-align: top;\n",
       "    }\n",
       "\n",
       "    .dataframe thead th {\n",
       "        text-align: right;\n",
       "    }\n",
       "</style>\n",
       "<table border=\"1\" class=\"dataframe\">\n",
       "  <thead>\n",
       "    <tr style=\"text-align: right;\">\n",
       "      <th></th>\n",
       "      <th>0</th>\n",
       "      <th>1</th>\n",
       "      <th>2</th>\n",
       "      <th>3</th>\n",
       "      <th>4</th>\n",
       "      <th>5</th>\n",
       "      <th>6</th>\n",
       "      <th>7</th>\n",
       "      <th>8</th>\n",
       "    </tr>\n",
       "  </thead>\n",
       "  <tbody>\n",
       "    <tr>\n",
       "      <th>9362</th>\n",
       "      <td>9362</td>\n",
       "      <td>5266</td>\n",
       "      <td>5265</td>\n",
       "      <td>9361</td>\n",
       "      <td>13457</td>\n",
       "      <td>13458</td>\n",
       "      <td>13459</td>\n",
       "      <td>9363</td>\n",
       "      <td>5267</td>\n",
       "    </tr>\n",
       "    <tr>\n",
       "      <th>9706</th>\n",
       "      <td>9706</td>\n",
       "      <td>5610</td>\n",
       "      <td>5609</td>\n",
       "      <td>9705</td>\n",
       "      <td>13801</td>\n",
       "      <td>13802</td>\n",
       "      <td>13803</td>\n",
       "      <td>9707</td>\n",
       "      <td>5611</td>\n",
       "    </tr>\n",
       "    <tr>\n",
       "      <th>10170</th>\n",
       "      <td>10170</td>\n",
       "      <td>6074</td>\n",
       "      <td>6073</td>\n",
       "      <td>10169</td>\n",
       "      <td>14265</td>\n",
       "      <td>14266</td>\n",
       "      <td>14267</td>\n",
       "      <td>10171</td>\n",
       "      <td>6075</td>\n",
       "    </tr>\n",
       "    <tr>\n",
       "      <th>10726</th>\n",
       "      <td>10726</td>\n",
       "      <td>6630</td>\n",
       "      <td>6629</td>\n",
       "      <td>10725</td>\n",
       "      <td>14821</td>\n",
       "      <td>14822</td>\n",
       "      <td>14823</td>\n",
       "      <td>10727</td>\n",
       "      <td>6631</td>\n",
       "    </tr>\n",
       "    <tr>\n",
       "      <th>13014</th>\n",
       "      <td>13014</td>\n",
       "      <td>8918</td>\n",
       "      <td>8917</td>\n",
       "      <td>13013</td>\n",
       "      <td>17109</td>\n",
       "      <td>17110</td>\n",
       "      <td>17111</td>\n",
       "      <td>13015</td>\n",
       "      <td>8919</td>\n",
       "    </tr>\n",
       "  </tbody>\n",
       "</table>\n",
       "</div>"
      ],
      "text/plain": [
       "           0     1     2      3      4      5      6      7     8\n",
       "9362    9362  5266  5265   9361  13457  13458  13459   9363  5267\n",
       "9706    9706  5610  5609   9705  13801  13802  13803   9707  5611\n",
       "10170  10170  6074  6073  10169  14265  14266  14267  10171  6075\n",
       "10726  10726  6630  6629  10725  14821  14822  14823  10727  6631\n",
       "13014  13014  8918  8917  13013  17109  17110  17111  13015  8919"
      ]
     },
     "metadata": {},
     "output_type": "display_data"
    },
    {
     "data": {
      "text/plain": [
       "0     9412\n",
       "1    10636\n",
       "2    11175\n",
       "3    11426\n",
       "4    12900\n",
       "Name: wav1, dtype: int32"
      ]
     },
     "metadata": {},
     "output_type": "display_data"
    }
   ],
   "source": [
    "# Spikes coordinates at a given wavelength (starting with 1st one, i.e, index 0)\n",
    "spikes = cuseries_[0]\n",
    "# needles: series of spikes coordinates in another wavelength from which occurences will be searched in the above haystack\n",
    "needles_pixels = cuseries_[1]\n",
    "# Haystack variable: spikes coordinates at one wavelength with the coordinates of their 8 nearest neighbours. \n",
    "# Haystack is assigned True wherever elements of needles_pixels are found. \n",
    "haystack_pixels = cuindex_8nb.iloc[spikes, :]\n",
    "# Show the needles and haystack\n",
    "display(haystack_pixels.head())\n",
    "display(needles_pixels.head())"
   ]
  },
  {
   "cell_type": "code",
   "execution_count": 11,
   "metadata": {},
   "outputs": [
    {
     "data": {
      "text/plain": [
       "array([[ 9362,  5266,  5265,  9361, 13457, 13458, 13459,  9363,  5267],\n",
       "       [ 9706,  5610,  5609,  9705, 13801, 13802, 13803,  9707,  5611],\n",
       "       [10170,  6074,  6073, 10169, 14265, 14266, 14267, 10171,  6075],\n",
       "       [10726,  6630,  6629, 10725, 14821, 14822, 14823, 10727,  6631],\n",
       "       [13014,  8918,  8917, 13013, 17109, 17110, 17111, 13015,  8919]],\n",
       "      dtype=int32)"
      ]
     },
     "metadata": {},
     "output_type": "display_data"
    }
   ],
   "source": [
    "# For comparison with numpy (CPU) \n",
    "haystack_pixels_np = index_8nb[spikes_list[0][0,:], :]\n",
    "needles_np = spikes_list[1][0,:]\n",
    "display(haystack_pixels_np[0:5, :])"
   ]
  },
  {
   "cell_type": "markdown",
   "metadata": {},
   "source": [
    "### processing with Numpy / CPU"
   ]
  },
  {
   "cell_type": "code",
   "execution_count": 12,
   "metadata": {},
   "outputs": [
    {
     "name": "stdout",
     "output_type": "stream",
     "text": [
      "4.35 ms ± 77.2 µs per loop (mean ± std. dev. of 7 runs, 100 loops each)\n"
     ]
    }
   ],
   "source": [
    "%timeit np_H0_1 = np.isin(haystack_pixels_np, needles_np).any(axis=1)"
   ]
  },
  {
   "cell_type": "markdown",
   "metadata": {},
   "source": [
    "### processing with CUDF / GPU\n",
    "Note: with CUDF, loop *isin()* through the 9 series, as *isin()* is only implemented for Series and not Dataframes contrary to Numpy above. "
   ]
  },
  {
   "cell_type": "code",
   "execution_count": 14,
   "metadata": {},
   "outputs": [
    {
     "name": "stdout",
     "output_type": "stream",
     "text": [
      "130 ms ± 1.62 ms per loop (mean ± std. dev. of 7 runs, 10 loops each)\n"
     ]
    }
   ],
   "source": [
    "%timeit cudf_H0_1 = cudf.concat([haystack_pixels[i].isin(needles_pixels) for i in range(9)], axis=1).any(axis=1)"
   ]
  },
  {
   "cell_type": "markdown",
   "metadata": {},
   "source": [
    "Maybe the list comprehension could be processed concurently by the GPU too?\n",
    "Also, that's just for wavelength 0 as haystack, to be searched for 6 other lists of needles from the 6 other wavelengths. \n",
    "Each of the 6 other wavelength will also become the haystack and so that all process will repeat also 7 times. This is to account for all possible combinations of 8-connectivity neighbourhoods. "
   ]
  },
  {
   "cell_type": "code",
   "execution_count": null,
   "metadata": {},
   "outputs": [],
   "source": []
  }
 ],
 "metadata": {
  "kernelspec": {
   "display_name": "Python 3",
   "language": "python",
   "name": "python3"
  },
  "language_info": {
   "codemirror_mode": {
    "name": "ipython",
    "version": 3
   },
   "file_extension": ".py",
   "mimetype": "text/x-python",
   "name": "python",
   "nbconvert_exporter": "python",
   "pygments_lexer": "ipython3",
   "version": "3.6.10"
  }
 },
 "nbformat": 4,
 "nbformat_minor": 4
}
