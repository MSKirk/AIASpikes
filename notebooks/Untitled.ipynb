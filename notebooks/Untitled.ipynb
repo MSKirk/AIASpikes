{
 "cells": [
  {
   "cell_type": "code",
   "execution_count": 2,
   "metadata": {},
   "outputs": [],
   "source": [
    "import os\n",
    "import pandas as pd\n",
    "datadir = os.environ['SPIKESDATA']"
   ]
  },
  {
   "cell_type": "code",
   "execution_count": 4,
   "metadata": {},
   "outputs": [
    {
     "data": {
      "text/html": [
       "<div>\n",
       "<style scoped>\n",
       "    .dataframe tbody tr th:only-of-type {\n",
       "        vertical-align: middle;\n",
       "    }\n",
       "\n",
       "    .dataframe tbody tr th {\n",
       "        vertical-align: top;\n",
       "    }\n",
       "\n",
       "    .dataframe thead th {\n",
       "        text-align: right;\n",
       "    }\n",
       "</style>\n",
       "<table border=\"1\" class=\"dataframe\">\n",
       "  <thead>\n",
       "    <tr style=\"text-align: right;\">\n",
       "      <th></th>\n",
       "      <th>path_str</th>\n",
       "      <th>filename</th>\n",
       "      <th>secs</th>\n",
       "      <th>timestamp</th>\n",
       "    </tr>\n",
       "  </thead>\n",
       "  <tbody>\n",
       "    <tr>\n",
       "      <th>0</th>\n",
       "      <td>2010/05/13/2010-05-13T00:00:02.09Z_0193.spikes...</td>\n",
       "      <td>2010-05-13T00:00:02.09Z_0193.spikes.fits</td>\n",
       "      <td>2</td>\n",
       "      <td>2010-05-13 00:00:02.090000+00:00</td>\n",
       "    </tr>\n",
       "    <tr>\n",
       "      <th>1</th>\n",
       "      <td>2010/05/13/2010-05-13T00:00:03.57Z_0094.spikes...</td>\n",
       "      <td>2010-05-13T00:00:03.57Z_0094.spikes.fits</td>\n",
       "      <td>3</td>\n",
       "      <td>2010-05-13 00:00:03.570000+00:00</td>\n",
       "    </tr>\n",
       "    <tr>\n",
       "      <th>2</th>\n",
       "      <td>2010/05/13/2010-05-13T00:00:05.07Z_0335.spikes...</td>\n",
       "      <td>2010-05-13T00:00:05.07Z_0335.spikes.fits</td>\n",
       "      <td>5</td>\n",
       "      <td>2010-05-13 00:00:05.070000+00:00</td>\n",
       "    </tr>\n",
       "    <tr>\n",
       "      <th>3</th>\n",
       "      <td>2010/05/13/2010-05-13T00:00:06.58Z_0171.spikes...</td>\n",
       "      <td>2010-05-13T00:00:06.58Z_0171.spikes.fits</td>\n",
       "      <td>6</td>\n",
       "      <td>2010-05-13 00:00:06.580000+00:00</td>\n",
       "    </tr>\n",
       "    <tr>\n",
       "      <th>4</th>\n",
       "      <td>2010/05/13/2010-05-13T00:00:08.08Z_0211.spikes...</td>\n",
       "      <td>2010-05-13T00:00:08.08Z_0211.spikes.fits</td>\n",
       "      <td>8</td>\n",
       "      <td>2010-05-13 00:00:08.080000+00:00</td>\n",
       "    </tr>\n",
       "  </tbody>\n",
       "</table>\n",
       "</div>"
      ],
      "text/plain": [
       "                                            path_str  \\\n",
       "0  2010/05/13/2010-05-13T00:00:02.09Z_0193.spikes...   \n",
       "1  2010/05/13/2010-05-13T00:00:03.57Z_0094.spikes...   \n",
       "2  2010/05/13/2010-05-13T00:00:05.07Z_0335.spikes...   \n",
       "3  2010/05/13/2010-05-13T00:00:06.58Z_0171.spikes...   \n",
       "4  2010/05/13/2010-05-13T00:00:08.08Z_0211.spikes...   \n",
       "\n",
       "                                   filename  secs  \\\n",
       "0  2010-05-13T00:00:02.09Z_0193.spikes.fits     2   \n",
       "1  2010-05-13T00:00:03.57Z_0094.spikes.fits     3   \n",
       "2  2010-05-13T00:00:05.07Z_0335.spikes.fits     5   \n",
       "3  2010-05-13T00:00:06.58Z_0171.spikes.fits     6   \n",
       "4  2010-05-13T00:00:08.08Z_0211.spikes.fits     8   \n",
       "\n",
       "                         timestamp  \n",
       "0 2010-05-13 00:00:02.090000+00:00  \n",
       "1 2010-05-13 00:00:03.570000+00:00  \n",
       "2 2010-05-13 00:00:05.070000+00:00  \n",
       "3 2010-05-13 00:00:06.580000+00:00  \n",
       "4 2010-05-13 00:00:08.080000+00:00  "
      ]
     },
     "execution_count": 4,
     "metadata": {},
     "output_type": "execute_result"
    }
   ],
   "source": [
    "pickle_f = os.path.join(datadir, 'spikes_df_2010.pkl')\n",
    "df = pd.read_pickle(pickle_f)\n",
    "df.head()"
   ]
  },
  {
   "cell_type": "code",
   "execution_count": 8,
   "metadata": {},
   "outputs": [],
   "source": [
    "ngroup = df.groupby(pd.Grouper(key='timestamp', freq='12s')).ngroup()"
   ]
  },
  {
   "cell_type": "code",
   "execution_count": 11,
   "metadata": {},
   "outputs": [
    {
     "data": {
      "text/plain": [
       "'2010-05-13T00:00:02.09Z_0193.spikes.fits'"
      ]
     },
     "execution_count": 11,
     "metadata": {},
     "output_type": "execute_result"
    }
   ],
   "source": [
    "f = df['filename'].iloc[0]\n",
    "f"
   ]
  },
  {
   "cell_type": "code",
   "execution_count": 15,
   "metadata": {},
   "outputs": [
    {
     "data": {
      "text/plain": [
       "'02.09Z_0193.spikes.fits'"
      ]
     },
     "execution_count": 15,
     "metadata": {},
     "output_type": "execute_result"
    }
   ],
   "source": [
    "ii = f \n",
    "ii.split(':')[-1]"
   ]
  },
  {
   "cell_type": "code",
   "execution_count": 16,
   "metadata": {},
   "outputs": [],
   "source": [
    "from astropy.time import Time"
   ]
  },
  {
   "cell_type": "code",
   "execution_count": 19,
   "metadata": {},
   "outputs": [],
   "source": [
    "t = '2010-05-13T00:01:60.00Z'"
   ]
  },
  {
   "cell_type": "code",
   "execution_count": 24,
   "metadata": {},
   "outputs": [
    {
     "data": {
      "text/plain": [
       "193"
      ]
     },
     "execution_count": 24,
     "metadata": {},
     "output_type": "execute_result"
    }
   ],
   "source": [
    "int(f.split('_')[-1][0:4])"
   ]
  },
  {
   "cell_type": "code",
   "execution_count": 30,
   "metadata": {},
   "outputs": [
    {
     "data": {
      "text/plain": [
       "'2010-05-13T00:00:02.09Z_0193.spikes.fits'"
      ]
     },
     "execution_count": 30,
     "metadata": {},
     "output_type": "execute_result"
    }
   ],
   "source": [
    "df['path_str'].iloc[0].split('/')[-1]"
   ]
  },
  {
   "cell_type": "code",
   "execution_count": 31,
   "metadata": {},
   "outputs": [
    {
     "data": {
      "text/plain": [
       "'2010-05-13T00:00:02.09Z_0193.spikes.fits'"
      ]
     },
     "execution_count": 31,
     "metadata": {},
     "output_type": "execute_result"
    }
   ],
   "source": [
    "f"
   ]
  },
  {
   "cell_type": "code",
   "execution_count": 40,
   "metadata": {},
   "outputs": [
    {
     "data": {
      "text/plain": [
       "'2010-05-13T00:00:00.09Z'"
      ]
     },
     "execution_count": 40,
     "metadata": {},
     "output_type": "execute_result"
    }
   ],
   "source": [
    "(f[0:17] + '00' + f[19:23])"
   ]
  },
  {
   "cell_type": "code",
   "execution_count": 41,
   "metadata": {},
   "outputs": [
    {
     "data": {
      "text/plain": [
       "'02'"
      ]
     },
     "execution_count": 41,
     "metadata": {},
     "output_type": "execute_result"
    }
   ],
   "source": [
    "f[17:19]"
   ]
  },
  {
   "cell_type": "code",
   "execution_count": null,
   "metadata": {},
   "outputs": [],
   "source": []
  }
 ],
 "metadata": {
  "kernelspec": {
   "display_name": "Python 3",
   "language": "python",
   "name": "python3"
  },
  "language_info": {
   "codemirror_mode": {
    "name": "ipython",
    "version": 3
   },
   "file_extension": ".py",
   "mimetype": "text/x-python",
   "name": "python",
   "nbconvert_exporter": "python",
   "pygments_lexer": "ipython3",
   "version": "3.6.9"
  }
 },
 "nbformat": 4,
 "nbformat_minor": 4
}
