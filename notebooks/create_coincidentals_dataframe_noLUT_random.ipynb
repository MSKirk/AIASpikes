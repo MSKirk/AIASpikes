{
 "cells": [
  {
   "cell_type": "code",
   "execution_count": 11,
   "metadata": {},
   "outputs": [],
   "source": [
    "import os\n",
    "import pandas as pd\n",
    "import numpy as np\n",
    "from pathlib import Path, PurePath\n",
    "import cupy as cp"
   ]
  },
  {
   "cell_type": "code",
   "execution_count": 23,
   "metadata": {},
   "outputs": [],
   "source": [
    "def xy_coords(coords_1d):\n",
    "    x = coords_1d % 4096\n",
    "    y = coords_1d // 4096\n",
    "    return x, y\n",
    "\n",
    "\n",
    "@cp.fuse()\n",
    "def dist_mat(x1, x2, y1, y2):\n",
    "    return (x1 - x2)*(x1 - x2) + (y1-y2)*(y1-y2)\n",
    "\n",
    "\n",
    "def dist_matrix(coords1, coords2):\n",
    "    # Calculate distance matrix between 2 sets of coordinates. \n",
    "    # Inputs are 2 lists of spikes 1D-ravelled coordinates \n",
    "    \n",
    "    # unravel to the 2D coordinate system of the CCD (4096 x 4096). This is faster than unravel() functions\n",
    "    x1, y1 = xy_coords(coords1)\n",
    "    x2, y2 = xy_coords(coords2)\n",
    "    # Use broadcasting to get Euclidian distances. Seemed faster than using meshgrid functions.\n",
    "    x1b = x1[:, np.newaxis]\n",
    "    y1b = y1[:, np.newaxis]\n",
    "\n",
    "    dist_matrix = dist_mat(x2, x1b, y2, y1b)#(x2 - x1b)**2 + (y2 - y1b)**2\n",
    "    \n",
    "    return dist_matrix\n",
    "\n",
    "\n",
    "def is_near(coords1, coords2, distance):\n",
    "    # Get a boolean array of same size as coords1 assigning True / False to its elements within 'distance' from coords2\n",
    "    dmat = dist_matrix(coords1, coords2)\n",
    "    near_mask = dmat <= distance\n",
    "    is_near = near_mask.any(axis=1)\n",
    "    return is_near\n",
    "\n",
    "def is_near_w(coords_, distance, widx):\n",
    "    # Get the pixels to keep within one file at a given wavelength\n",
    "    isnear_bools = [is_near(coords_[widx], coords_[i], distance) for i in range(7)]\n",
    "    isnear_bools[widx] = cp.triu(isnear_bools[widx], k=1)\n",
    "    mask_w_arr = cp.vstack(isnear_bools)\n",
    "    return mask_w_arr\n",
    "\n",
    "def create_mask_coincidentals_w_cupy(spikes_list, widx):\n",
    "    \n",
    "    cucoords_ = [cp.asarray(spikes[0,:]) for spikes in spikes_list]\n",
    "    mask_w_arr = is_near_w(cucoords_, 2, widx)\n",
    "    select_pixels = mask_w_arr.any(axis=0)\n",
    "    mask_w_arr2 = mask_w_arr[:, select_pixels]\n",
    "    return select_pixels, mask_w_arr2\n",
    "\n",
    "\n",
    "def extract_coincidentals_w_cupy(spikes_list, widx):\n",
    "    \n",
    "    select_pixels, mask_w_arr = create_mask_coincidentals_w_cupy(spikes_list, 0)\n",
    "    select_pixels_h = select_pixels.get() # cupy.asnumpy(select_pixels)\n",
    "    mask_w_arr_h = mask_w_arr.get() # cupy.asnumpy(mask_w_arr)\n",
    "    return select_pixels_h, mask_w_arr_h\n",
    "\n",
    "\n",
    "def is_near2(coords, distance):\n",
    "    # Get a boolean array of same size as coords1 assigning True / False to its elements within 'distance' from coords2\n",
    "    dmat = dist_matrix(coords, coords)\n",
    "    near_mask = dmat <= distance\n",
    "    is_near = near_mask.any(axis=1)\n",
    "    return is_near\n",
    "\n",
    "\n",
    "def is_near_w2(coords, distance):\n",
    "    # Get the pixels to keep within one file at a given wavelength\n",
    "    isnear_bools = is_near2(coords, distance)\n",
    "    mask_tri = cp.triu(isnear_bools, k=1)\n",
    "    return mask_tri\n",
    "\n",
    "\n",
    "def create_mask_coincidentals_w_cupy2(spikes_coords, wslices):\n",
    "    # Instead of looping through a list of 7 wavelengths, will merge the 7 arrays into 1. \n",
    "    mask_tri = is_near_w2(spikes_coords, 2)\n",
    "    select_pixels = [mask_tri[:, wslice].any(axis=0) for wslice in wslices]\n",
    "    return select_pixels\n",
    "\n",
    "\n",
    "def extract_coincidentals_w_cupy2(spikes_coords, nspikes_per_wav):\n",
    "\n",
    "    wslices = [slice(i*nspikes, (i+1)*nspikes) for i, nspikes in enumerate(nspikes_per_wav)]                               \n",
    "    select_pixels = create_mask_coincidentals_w_cupy2(spikes_coords, wslices)\n",
    "    select_pixels_h = [pixels.get() for pixels in select_pixels] # cupy.asnumpy(select_pixels)\n",
    "    return select_pixels_h"
   ]
  },
  {
   "cell_type": "markdown",
   "metadata": {},
   "source": [
    "## Load them in cpu RAM"
   ]
  },
  {
   "cell_type": "code",
   "execution_count": 8,
   "metadata": {},
   "outputs": [],
   "source": [
    "spikes_list = [cp.random.randint(1, high=4095*4095, size=[3, 8000]) for i in range(7)]"
   ]
  },
  {
   "cell_type": "code",
   "execution_count": 9,
   "metadata": {},
   "outputs": [],
   "source": [
    "a, b = extract_coincidentals_w_cupy(spikes_list, 0)"
   ]
  },
  {
   "cell_type": "code",
   "execution_count": 10,
   "metadata": {},
   "outputs": [
    {
     "name": "stdout",
     "output_type": "stream",
     "text": [
      "68.5 ms ± 2.28 ms per loop (mean ± std. dev. of 7 runs, 10 loops each)\n"
     ]
    }
   ],
   "source": [
    "%timeit a, b = extract_coincidentals_w_cupy(spikes_list, 0)"
   ]
  },
  {
   "cell_type": "code",
   "execution_count": 27,
   "metadata": {},
   "outputs": [],
   "source": [
    "nspikes_per_wav = [2000]*7\n",
    "g7 = cp.random.randint(0, high=4096*4096, size=14000)"
   ]
  },
  {
   "cell_type": "code",
   "execution_count": 24,
   "metadata": {},
   "outputs": [],
   "source": [
    "select_pixels_cpu = extract_coincidentals_w_cupy2(g7, nspikes_per_wav)"
   ]
  },
  {
   "cell_type": "code",
   "execution_count": 30,
   "metadata": {},
   "outputs": [
    {
     "name": "stdout",
     "output_type": "stream",
     "text": [
      "28.9 ms ± 310 µs per loop (mean ± std. dev. of 7 runs, 100 loops each)\n"
     ]
    }
   ],
   "source": [
    "%timeit -n 100 select_pixels_cpu = extract_coincidentals_w_cupy2(g7, nspikes_per_wav)"
   ]
  },
  {
   "cell_type": "code",
   "execution_count": null,
   "metadata": {},
   "outputs": [],
   "source": []
  }
 ],
 "metadata": {
  "kernelspec": {
   "display_name": "Python 3",
   "language": "python",
   "name": "python3"
  },
  "language_info": {
   "codemirror_mode": {
    "name": "ipython",
    "version": 3
   },
   "file_extension": ".py",
   "mimetype": "text/x-python",
   "name": "python",
   "nbconvert_exporter": "python",
   "pygments_lexer": "ipython3",
   "version": "3.7.6"
  }
 },
 "nbformat": 4,
 "nbformat_minor": 4
}
