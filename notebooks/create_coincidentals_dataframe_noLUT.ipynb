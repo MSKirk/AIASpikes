{
 "cells": [
  {
   "cell_type": "code",
   "execution_count": 3,
   "metadata": {},
   "outputs": [],
   "source": [
    "import os\n",
    "import pandas as pd\n",
    "import numpy as np\n",
    "import fitsio\n",
    "from pathlib import Path, PurePath\n",
    "import cupy"
   ]
  },
  {
   "cell_type": "code",
   "execution_count": 22,
   "metadata": {},
   "outputs": [],
   "source": [
    "def extract_coincidentals(spikes_list, idx):\n",
    "    # Spikes coordinates at given wavelength index\n",
    "    spikes_w = spikes_list[idx]\n",
    "    # Associated neighbour coordinates\n",
    "    nb_pixels = index_8nb[spikes_w[0, :], :]\n",
    "    # Sublist of spikes data that will excludes the one serving as template\n",
    "    spikes_sublist = spikes_list[:idx] + spikes_list[idx + 1:]\n",
    "    # Coincidental cross-referencing.\n",
    "    # mask_w_arr = np.array([np.isin(nb_pixels, index_8nb[spikes[0, :], :]).any(axis=1) for spikes in spikes_sublist])\n",
    "    mask_w_arr = np.array([np.isin(nb_pixels, spikes[0, :]).any(axis=1) for spikes in spikes_sublist])\n",
    "    select_pixels = mask_w_arr.any(axis=0)\n",
    "    coords_w = spikes_w[0, select_pixels]\n",
    "    w_tables = np.insert(mask_w_arr[:, select_pixels], idx, True, axis=0)\n",
    "    # Retrieve intensity values for the selected coordinates\n",
    "    intensities = spikes_w[1:, select_pixels]\n",
    "    arr_w = np.concatenate([coords_w[np.newaxis, ...], intensities, w_tables], axis=0)\n",
    "    arr_w = np.insert(arr_w, 3, idx, axis=0)\n",
    "\n",
    "    return arr_w\n",
    "\n",
    "\n",
    "def process_group(group_n):\n",
    "    fpaths = path_Series.loc[group_n]\n",
    "    spikes_list = [fitsio.read(os.path.join(os.environ['SPIKESDATA'], f)) for f in fpaths]\n",
    "    group_data = np.concatenate([extract_coincidentals(spikes_list, i) for i in range(7)], axis=1)\n",
    "    column_names = ['coords', 'int1', 'int2', 'wref', 'w0', 'w1', 'w2', 'w3', 'w4', 'w5', 'w6']\n",
    "    coincidental_spikes_df = pd.DataFrame(group_data.T, columns=column_names)\n",
    "    coincidental_spikes_df['GroupNumber'] = group_n\n",
    "    return coincidental_spikes_df\n",
    "\n",
    "\n",
    "def xy_coords(coords_1d):\n",
    "    x = coords_1d % 4096\n",
    "    y = coords_1d // 4096\n",
    "    return x, y\n",
    "\n",
    "\n",
    "def dist_matrix(coords1, coords2):\n",
    "    # Calculate distance matrix between 2 sets of coordinates. \n",
    "    # Inputs are 2 lists of spikes 1D-ravelled coordinates \n",
    "    \n",
    "    # unravel to the 2D coordinate system of the CCD (4096 x 4096). This is faster than unravel() functions\n",
    "    x1, y1 = xy_coords(coords1)\n",
    "    x2, y2 = xy_coords(coords2)\n",
    "    # Use broadcasting to get Euclidian distances. Seemed faster than using meshgrid functions.\n",
    "    x1b = x1[:, np.newaxis]\n",
    "    y1b = y1[:, np.newaxis]\n",
    "    dxb = x2 - x1b\n",
    "    dyb = y2 - y1b\n",
    "    \n",
    "    dist_matrix = dxb**2 + dyb**2\n",
    "    \n",
    "    return dist_matrix\n",
    "\n",
    "\n",
    "def is_near(coords1, coords2, distance):\n",
    "    # Get a boolean array of same size as coords1 assigning True / False to its elements within 'distance' from coords2\n",
    "    dmat = dist_matrix(coords1, coords2)\n",
    "    near_mask = dmat <= distance\n",
    "    is_near = near_mask.any(axis=1)\n",
    "    return is_near\n",
    "\n",
    "def is_near_w(coords_, distance, widx):\n",
    "    # Get the pixels to keep within one file at a given wavelength\n",
    "    isnear_bools = [is_near(coords_[widx][0:5000], coords_[i][0:5000], 2) for i in range(7)]\n",
    "    isnear_bools[widx] = cupy.triu(isnear_bools[widx], k=1)\n",
    "    mask_w_arr = cupy.vstack(isnear_bools)\n",
    "    return mask_w_arr\n",
    "\n",
    "def extract_coincidentals_cupy(spikes_list, widx):\n",
    "    \n",
    "    cucoords_ = [cupy.asarray(spikes[0,:]) for spikes in spikes_list]\n",
    "    mask_w_arr = is_near_w(cucoords_, 2, widx)\n",
    "    select_pixels = mask_w_arr.any(axis=0)\n",
    "    return select_pixels\n",
    "#     coords_w = spikes_list[widx][0, select_pixels]\n",
    "#     w_tables = np.insert(mask_w_arr[:, select_pixels], idx, True, axis=0)\n",
    "\n",
    "    \n",
    "def process_group(fpaths):\n",
    "    \n",
    "    spikes_list = [fitsio.read(os.path.join(os.environ['SPIKESDATA'], f)) for f in fpaths]\n",
    "    cucoords_ = [cupy.asarray(spikes[0,:]) for spikes in spikes_list]\n",
    "    isnear_w = [is_near(cucoords_[0][0:5000], cucoords_[i][0:5000], 2) for i in range(7)]\n",
    "    # 1st array is the \"self\" same-wavelength distance matrix => Must reject the redundancies \n",
    "    # It is by definition always symmetric. Elimitate redundancies \n",
    "    # by zeroing the lower triangle, including the diagonal (hence k=1). \n",
    "    isnear_w[0] = cupy.triu(isnear_[0], k=1)\n",
    "    bool_pixels = cupy.vstack(isnear_w).any(axis=0)\n",
    "   \n",
    "    return isnear0"
   ]
  },
  {
   "cell_type": "code",
   "execution_count": 5,
   "metadata": {},
   "outputs": [],
   "source": [
    "spikes_df = pd.read_parquet(os.path.join(os.environ['SPIKESDATA'], 'spikes_df_2010.parquet'), engine='pyarrow')\n",
    "spikes_df.set_index(['GroupNumber'], inplace=True)\n",
    "path_Series = spikes_df['Path']"
   ]
  },
  {
   "cell_type": "code",
   "execution_count": 6,
   "metadata": {},
   "outputs": [
    {
     "data": {
      "text/plain": [
       "0    2010/05/13/2010-05-13T00:00:02.09Z_0193.spikes...\n",
       "0    2010/05/13/2010-05-13T00:00:03.57Z_0094.spikes...\n",
       "0    2010/05/13/2010-05-13T00:00:05.07Z_0335.spikes...\n",
       "0    2010/05/13/2010-05-13T00:00:06.58Z_0171.spikes...\n",
       "0    2010/05/13/2010-05-13T00:00:08.08Z_0211.spikes...\n",
       "0    2010/05/13/2010-05-13T00:00:09.58Z_0304.spikes...\n",
       "0    2010/05/13/2010-05-13T00:00:11.08Z_0131.spikes...\n",
       "Name: Path, dtype: object"
      ]
     },
     "execution_count": 6,
     "metadata": {},
     "output_type": "execute_result"
    }
   ],
   "source": [
    "path_Series[0]"
   ]
  },
  {
   "cell_type": "code",
   "execution_count": 7,
   "metadata": {},
   "outputs": [],
   "source": [
    "tintervals = pd.interval_range(start=pd.Timestamp('2010-05-13 00:00:00', tz='UTC'),\n",
    "                                   end=pd.Timestamp('2010-05-16 00:00:00', tz='UTC'),\n",
    "                                   freq='D', closed='left')\n",
    "\n",
    "tint = tintervals[0]"
   ]
  },
  {
   "cell_type": "code",
   "execution_count": 8,
   "metadata": {},
   "outputs": [
    {
     "data": {
      "text/plain": [
       "0    2010/05/13/2010-05-13T00:00:02.09Z_0193.spikes...\n",
       "0    2010/05/13/2010-05-13T00:00:03.57Z_0094.spikes...\n",
       "0    2010/05/13/2010-05-13T00:00:05.07Z_0335.spikes...\n",
       "0    2010/05/13/2010-05-13T00:00:06.58Z_0171.spikes...\n",
       "0    2010/05/13/2010-05-13T00:00:08.08Z_0211.spikes...\n",
       "0    2010/05/13/2010-05-13T00:00:09.58Z_0304.spikes...\n",
       "0    2010/05/13/2010-05-13T00:00:11.08Z_0131.spikes...\n",
       "Name: Path, dtype: object"
      ]
     },
     "execution_count": 8,
     "metadata": {},
     "output_type": "execute_result"
    }
   ],
   "source": [
    "groups = spikes_df.loc[(spikes_df['Time'] >= tint.left) & (spikes_df['Time'] < tint.right)].index.unique()\n",
    "group_n = groups[0]\n",
    "fpaths = path_Series[group_n]\n",
    "fpaths"
   ]
  },
  {
   "cell_type": "markdown",
   "metadata": {},
   "source": [
    "### Prototyping RAPIDS/CUDF-centric equivalent"
   ]
  },
  {
   "cell_type": "code",
   "execution_count": 18,
   "metadata": {},
   "outputs": [],
   "source": [
    "# %%timeit 3.99 ms ± 257 µs per loop (mean ± std. dev. of 7 runs, 100 loops each)\n",
    "spikes_list = [fitsio.read(os.path.join(os.environ['SPIKESDATA'], f)) for f in fpaths]\n",
    "# cucoords_ = [cupy.asarray(spikes[0,:]) for spikes in spikes_list]"
   ]
  },
  {
   "cell_type": "code",
   "execution_count": 14,
   "metadata": {},
   "outputs": [
    {
     "name": "stdout",
     "output_type": "stream",
     "text": [
      "CPU times: user 8.14 ms, sys: 33 µs, total: 8.18 ms\n",
      "Wall time: 6.98 ms\n"
     ]
    }
   ],
   "source": [
    "%time group_bool = process_group(fpaths)"
   ]
  },
  {
   "cell_type": "code",
   "execution_count": null,
   "metadata": {},
   "outputs": [],
   "source": [
    "isnear01 = is_near(cucoords_[0], cucoords_[1][0:3000], 4)"
   ]
  },
  {
   "cell_type": "code",
   "execution_count": 26,
   "metadata": {},
   "outputs": [
    {
     "name": "stdout",
     "output_type": "stream",
     "text": [
      "CPU times: user 2.34 ms, sys: 864 µs, total: 3.2 ms\n",
      "Wall time: 2.47 ms\n"
     ]
    }
   ],
   "source": [
    "%time select_pixels = extract_coincidentals_cupy(spikes_list, 0)"
   ]
  },
  {
   "cell_type": "code",
   "execution_count": 27,
   "metadata": {},
   "outputs": [
    {
     "data": {
      "text/plain": [
       "(5000,)"
      ]
     },
     "execution_count": 27,
     "metadata": {},
     "output_type": "execute_result"
    }
   ],
   "source": [
    "select_pixels.shape"
   ]
  },
  {
   "cell_type": "code",
   "execution_count": null,
   "metadata": {},
   "outputs": [],
   "source": []
  },
  {
   "cell_type": "code",
   "execution_count": null,
   "metadata": {},
   "outputs": [],
   "source": []
  }
 ],
 "metadata": {
  "kernelspec": {
   "display_name": "Python 3",
   "language": "python",
   "name": "python3"
  },
  "language_info": {
   "codemirror_mode": {
    "name": "ipython",
    "version": 3
   },
   "file_extension": ".py",
   "mimetype": "text/x-python",
   "name": "python",
   "nbconvert_exporter": "python",
   "pygments_lexer": "ipython3",
   "version": "3.6.7"
  }
 },
 "nbformat": 4,
 "nbformat_minor": 4
}
