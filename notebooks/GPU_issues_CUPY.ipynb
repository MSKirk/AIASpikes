{
 "cells": [
  {
   "cell_type": "code",
   "execution_count": null,
   "metadata": {},
   "outputs": [],
   "source": [
    "import cupy as cp\n",
    "print(\"cupy\", cp.__version__)"
   ]
  },
  {
   "cell_type": "markdown",
   "metadata": {},
   "source": [
    "Let's put some arrays in the GPU and use a built-in CUPY function"
   ]
  },
  {
   "cell_type": "code",
   "execution_count": null,
   "metadata": {},
   "outputs": [],
   "source": [
    "g1 = cp.random.randint(1, high=4096*4096, size=75000)\n",
    "g2 = cp.random.randint(1, high=4096*4096, size=200000)"
   ]
  },
  {
   "cell_type": "code",
   "execution_count": null,
   "metadata": {},
   "outputs": [],
   "source": [
    "g3 = cp.isin(g1, g2)\n",
    "cp.cuda.runtime.deviceSynchronize()"
   ]
  },
  {
   "cell_type": "markdown",
   "metadata": {},
   "source": [
    "Now try profiling the above function using `%timeit` with e.g 100 iterations, to run the same function as above with same inputs that are already in the GPU, 100 times.\n",
    "\n",
    "While it executes, after a few seconds, try to go back and forth in another application (e.g. the terminal, browser, ...), type something there with the keyboard, go back here, try to open e.g. the File menu of the notebook, go back to the other app, etc... On my end this will lag for several seconds before I can start interacting with whatever applications I switched to. The terminal command `nvidia-smi`, during the processing below, shows 100% GPU Util and less than half the GPU memory is still available."
   ]
  },
  {
   "cell_type": "code",
   "execution_count": null,
   "metadata": {},
   "outputs": [],
   "source": [
    "%%timeit -n 100\n",
    "g3 = cp.isin(g1, g2)\n",
    "cp.cuda.runtime.deviceSynchronize()"
   ]
  },
  {
   "cell_type": "markdown",
   "metadata": {},
   "source": [
    "Now reboot the kernel and try the work around below: if I need to keep using the computer while this runs, I send the computation to the other GPU. In my case, monitor is plugged in device 0 so I have to use device 1. The codes below will execute without any GUI blocking. "
   ]
  },
  {
   "cell_type": "code",
   "execution_count": null,
   "metadata": {},
   "outputs": [],
   "source": [
    "cp.cuda.Device(1).use()"
   ]
  },
  {
   "cell_type": "code",
   "execution_count": null,
   "metadata": {},
   "outputs": [],
   "source": [
    "g1 = cp.random.randint(1, high=4096*4096, size=75000)\n",
    "g2 = cp.random.randint(1, high=4096*4096, size=300000)"
   ]
  },
  {
   "cell_type": "code",
   "execution_count": null,
   "metadata": {},
   "outputs": [],
   "source": [
    "g3 = cp.isin(g1, g2)\n",
    "cp.cuda.runtime.deviceSynchronize()"
   ]
  },
  {
   "cell_type": "code",
   "execution_count": null,
   "metadata": {},
   "outputs": [],
   "source": [
    "%%timeit -n 100 \n",
    "g3 = cp.isin(g1, g2)\n",
    "cp.cuda.runtime.deviceSynchronize()"
   ]
  }
 ],
 "metadata": {
  "kernelspec": {
   "display_name": "Python 3",
   "language": "python",
   "name": "python3"
  },
  "language_info": {
   "codemirror_mode": {
    "name": "ipython",
    "version": 3
   },
   "file_extension": ".py",
   "mimetype": "text/x-python",
   "name": "python",
   "nbconvert_exporter": "python",
   "pygments_lexer": "ipython3",
   "version": "3.7.3"
  }
 },
 "nbformat": 4,
 "nbformat_minor": 4
}
